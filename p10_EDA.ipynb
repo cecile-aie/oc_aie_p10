{
 "cells": [
  {
   "cell_type": "code",
   "execution_count": null,
   "id": "75917b01-f3fc-47bd-ac3c-1431ccfd566c",
   "metadata": {},
   "outputs": [],
   "source": [
    "# Tester rapidement les imports dans un notebook ou script Python :\n",
    "import pandas as pd\n",
    "import numpy as np\n",
    "import matplotlib.pyplot as plt\n",
    "import seaborn as sns\n",
    "import ydata_profiling\n",
    "import sweetviz\n",
    "import dtale\n",
    "import autoviz\n",
    "# import dataprep\n",
    "# import pandasgui\n",
    "\n",
    "print(\"Tout est prêt pour ton analyse ! 🚀\")\n"
   ]
  },
  {
   "cell_type": "markdown",
   "id": "c60a803a-6dcc-46ea-8a60-d5f9b1ee902c",
   "metadata": {},
   "source": [
    "# Import des données"
   ]
  },
  {
   "cell_type": "markdown",
   "id": "7dd47ffe-6e9d-4e32-8765-6bd86d82f0d5",
   "metadata": {},
   "source": [
    "https://www.kaggle.com/datasets/gspmoreira/news-portal-user-interactions-by-globocom#clicks_sample.csv"
   ]
  },
  {
   "cell_type": "markdown",
   "id": "d87c3d5a-f1ac-4244-839a-72ed358e6bb9",
   "metadata": {},
   "source": [
    "# Structure des fichiers"
   ]
  },
  {
   "cell_type": "markdown",
   "id": "25a30687-ef75-443b-9061-d80b19d9360d",
   "metadata": {},
   "source": [
    "## Articles\n",
    "Les articles possèdent également des métadonnées explicites.\n",
    "L'outil de prévisualisation de kaggle nous permet déjà de supprimer publisher_id qui est O pour l'ensemble des articles.<br>\n",
    "Il y a aussi des articles vides (0 mot)<br>\n",
    "Les catégories sont nombreuses (461)<br>\n",
    "Les timestamp sont en notation UNIX: comptage de millisecondes depuis 1/1/1970 transformable en date par <br>\n",
    "<code> date = datetime.utcfromtimestamp(timestamp_s) </code>"
   ]
  },
  {
   "cell_type": "code",
   "execution_count": 1,
   "id": "2ccf61f6-69e2-4d12-a791-6efde46a6e44",
   "metadata": {
    "scrolled": true
   },
   "outputs": [
    {
     "data": {
      "text/html": [
       "<div>\n",
       "<style scoped>\n",
       "    .dataframe tbody tr th:only-of-type {\n",
       "        vertical-align: middle;\n",
       "    }\n",
       "\n",
       "    .dataframe tbody tr th {\n",
       "        vertical-align: top;\n",
       "    }\n",
       "\n",
       "    .dataframe thead th {\n",
       "        text-align: right;\n",
       "    }\n",
       "</style>\n",
       "<table border=\"1\" class=\"dataframe\">\n",
       "  <thead>\n",
       "    <tr style=\"text-align: right;\">\n",
       "      <th></th>\n",
       "      <th>article_id</th>\n",
       "      <th>category_id</th>\n",
       "      <th>created_at_ts</th>\n",
       "      <th>publisher_id</th>\n",
       "      <th>words_count</th>\n",
       "    </tr>\n",
       "  </thead>\n",
       "  <tbody>\n",
       "    <tr>\n",
       "      <th>0</th>\n",
       "      <td>0</td>\n",
       "      <td>0</td>\n",
       "      <td>1513144419000</td>\n",
       "      <td>0</td>\n",
       "      <td>168</td>\n",
       "    </tr>\n",
       "    <tr>\n",
       "      <th>1</th>\n",
       "      <td>1</td>\n",
       "      <td>1</td>\n",
       "      <td>1405341936000</td>\n",
       "      <td>0</td>\n",
       "      <td>189</td>\n",
       "    </tr>\n",
       "    <tr>\n",
       "      <th>2</th>\n",
       "      <td>2</td>\n",
       "      <td>1</td>\n",
       "      <td>1408667706000</td>\n",
       "      <td>0</td>\n",
       "      <td>250</td>\n",
       "    </tr>\n",
       "    <tr>\n",
       "      <th>3</th>\n",
       "      <td>3</td>\n",
       "      <td>1</td>\n",
       "      <td>1408468313000</td>\n",
       "      <td>0</td>\n",
       "      <td>230</td>\n",
       "    </tr>\n",
       "    <tr>\n",
       "      <th>4</th>\n",
       "      <td>4</td>\n",
       "      <td>1</td>\n",
       "      <td>1407071171000</td>\n",
       "      <td>0</td>\n",
       "      <td>162</td>\n",
       "    </tr>\n",
       "    <tr>\n",
       "      <th>...</th>\n",
       "      <td>...</td>\n",
       "      <td>...</td>\n",
       "      <td>...</td>\n",
       "      <td>...</td>\n",
       "      <td>...</td>\n",
       "    </tr>\n",
       "    <tr>\n",
       "      <th>364042</th>\n",
       "      <td>364042</td>\n",
       "      <td>460</td>\n",
       "      <td>1434034118000</td>\n",
       "      <td>0</td>\n",
       "      <td>144</td>\n",
       "    </tr>\n",
       "    <tr>\n",
       "      <th>364043</th>\n",
       "      <td>364043</td>\n",
       "      <td>460</td>\n",
       "      <td>1434148472000</td>\n",
       "      <td>0</td>\n",
       "      <td>463</td>\n",
       "    </tr>\n",
       "    <tr>\n",
       "      <th>364044</th>\n",
       "      <td>364044</td>\n",
       "      <td>460</td>\n",
       "      <td>1457974279000</td>\n",
       "      <td>0</td>\n",
       "      <td>177</td>\n",
       "    </tr>\n",
       "    <tr>\n",
       "      <th>364045</th>\n",
       "      <td>364045</td>\n",
       "      <td>460</td>\n",
       "      <td>1515964737000</td>\n",
       "      <td>0</td>\n",
       "      <td>126</td>\n",
       "    </tr>\n",
       "    <tr>\n",
       "      <th>364046</th>\n",
       "      <td>364046</td>\n",
       "      <td>460</td>\n",
       "      <td>1505811330000</td>\n",
       "      <td>0</td>\n",
       "      <td>479</td>\n",
       "    </tr>\n",
       "  </tbody>\n",
       "</table>\n",
       "<p>364047 rows × 5 columns</p>\n",
       "</div>"
      ],
      "text/plain": [
       "        article_id  category_id  created_at_ts  publisher_id  words_count\n",
       "0                0            0  1513144419000             0          168\n",
       "1                1            1  1405341936000             0          189\n",
       "2                2            1  1408667706000             0          250\n",
       "3                3            1  1408468313000             0          230\n",
       "4                4            1  1407071171000             0          162\n",
       "...            ...          ...            ...           ...          ...\n",
       "364042      364042          460  1434034118000             0          144\n",
       "364043      364043          460  1434148472000             0          463\n",
       "364044      364044          460  1457974279000             0          177\n",
       "364045      364045          460  1515964737000             0          126\n",
       "364046      364046          460  1505811330000             0          479\n",
       "\n",
       "[364047 rows x 5 columns]"
      ]
     },
     "execution_count": 1,
     "metadata": {},
     "output_type": "execute_result"
    }
   ],
   "source": [
    "import pandas as pd\n",
    "df_articles = pd.read_csv(\"./data/articles_metadata.csv\", encoding='utf-8')\n",
    "df_articles"
   ]
  },
  {
   "cell_type": "code",
   "execution_count": 2,
   "id": "d9398cc8-4d4f-49c0-9c65-195e0962dd41",
   "metadata": {
    "scrolled": true
   },
   "outputs": [
    {
     "ename": "ModuleNotFoundError",
     "evalue": "No module named 'ydata_profiling'",
     "output_type": "error",
     "traceback": [
      "\u001b[0;31m---------------------------------------------------------------------------\u001b[0m",
      "\u001b[0;31mModuleNotFoundError\u001b[0m                       Traceback (most recent call last)",
      "Cell \u001b[0;32mIn[2], line 2\u001b[0m\n\u001b[1;32m      1\u001b[0m \u001b[38;5;66;03m# Importation\u001b[39;00m\n\u001b[0;32m----> 2\u001b[0m \u001b[38;5;28;01mfrom\u001b[39;00m \u001b[38;5;21;01mydata_profiling\u001b[39;00m \u001b[38;5;28;01mimport\u001b[39;00m ProfileReport\n\u001b[1;32m      3\u001b[0m \u001b[38;5;28;01mimport\u001b[39;00m \u001b[38;5;21;01mipywidgets\u001b[39;00m \u001b[38;5;28;01mas\u001b[39;00m \u001b[38;5;21;01mwidgets\u001b[39;00m\n\u001b[1;32m      4\u001b[0m widgets\u001b[38;5;241m.\u001b[39mIntSlider()\n",
      "\u001b[0;31mModuleNotFoundError\u001b[0m: No module named 'ydata_profiling'"
     ]
    }
   ],
   "source": [
    "# Importation\n",
    "from ydata_profiling import ProfileReport\n",
    "import ipywidgets as widgets\n",
    "widgets.IntSlider()\n",
    "\n",
    "\n",
    "# Génération du rapport sur le dataframe \"articles\"\n",
    "profile = ProfileReport(df_articles, title=\"Profiling DataFrame Articles\")\n",
    "\n",
    "# Affichage du rapport directement dans JupyterLab\n",
    "profile.to_notebook_iframe()\n"
   ]
  },
  {
   "cell_type": "code",
   "execution_count": 3,
   "id": "c7ba6ec8-ac22-4aa4-8c8c-617213d61457",
   "metadata": {},
   "outputs": [
    {
     "data": {
      "image/png": "[encoded data removed]",
      "text/plain": [
       "<Figure size 640x480 with 1 Axes>"
      ]
     },
     "metadata": {},
     "output_type": "display_data"
    }
   ],
   "source": [
    "%matplotlib inline\n",
    "import numpy as np\n",
    "import pandas as pd\n",
    "import matplotlib.pyplot as plt\n",
    "df_articles.words_count.hist(bins=50, range=(0,400))\n",
    "plt.title('How many words per article');"
   ]
  },
  {
   "cell_type": "markdown",
   "id": "5a74a896-3a1b-4b57-a353-d603b56063e7",
   "metadata": {},
   "source": [
    "## Embeddings\n",
    "Créés avec CHAMELEON. Les 364047 articles et leurs métadonnées sont modélisés dans 250 dimensions vectorielles.<br>\n",
    "Logiquement l'index est l'id de l'article."
   ]
  },
  {
   "cell_type": "code",
   "execution_count": 4,
   "id": "19004739-3e2d-40ae-9f1e-13165bc97ac9",
   "metadata": {},
   "outputs": [],
   "source": [
    "import pickle\n",
    "\n",
    "# Charger le fichier pickle\n",
    "with open('./data/articles_embeddings.pickle', 'rb') as f:\n",
    "    data = pickle.load(f)\n"
   ]
  },
  {
   "cell_type": "code",
   "execution_count": 5,
   "id": "59743e43-4691-45e0-9332-01462b9fafe6",
   "metadata": {},
   "outputs": [
    {
     "data": {
      "text/plain": [
       "(364047, 250)"
      ]
     },
     "execution_count": 5,
     "metadata": {},
     "output_type": "execute_result"
    }
   ],
   "source": [
    "import pandas as pd\n",
    "\n",
    "# Exemple si data est un dictionnaire :\n",
    "embeddings = pd.DataFrame(data)\n",
    "embeddings.shape"
   ]
  },
  {
   "cell_type": "code",
   "execution_count": 6,
   "id": "01ff7597-9d7c-428f-9098-8eeb66a80bde",
   "metadata": {
    "scrolled": true
   },
   "outputs": [
    {
     "data": {
      "text/html": [
       "<div>\n",
       "<style scoped>\n",
       "    .dataframe tbody tr th:only-of-type {\n",
       "        vertical-align: middle;\n",
       "    }\n",
       "\n",
       "    .dataframe tbody tr th {\n",
       "        vertical-align: top;\n",
       "    }\n",
       "\n",
       "    .dataframe thead th {\n",
       "        text-align: right;\n",
       "    }\n",
       "</style>\n",
       "<table border=\"1\" class=\"dataframe\">\n",
       "  <thead>\n",
       "    <tr style=\"text-align: right;\">\n",
       "      <th></th>\n",
       "      <th>0</th>\n",
       "      <th>1</th>\n",
       "      <th>2</th>\n",
       "      <th>3</th>\n",
       "      <th>4</th>\n",
       "      <th>5</th>\n",
       "      <th>6</th>\n",
       "      <th>7</th>\n",
       "      <th>8</th>\n",
       "      <th>9</th>\n",
       "      <th>...</th>\n",
       "      <th>240</th>\n",
       "      <th>241</th>\n",
       "      <th>242</th>\n",
       "      <th>243</th>\n",
       "      <th>244</th>\n",
       "      <th>245</th>\n",
       "      <th>246</th>\n",
       "      <th>247</th>\n",
       "      <th>248</th>\n",
       "      <th>249</th>\n",
       "    </tr>\n",
       "  </thead>\n",
       "  <tbody>\n",
       "    <tr>\n",
       "      <th>0</th>\n",
       "      <td>-0.161183</td>\n",
       "      <td>-0.957233</td>\n",
       "      <td>-0.137944</td>\n",
       "      <td>0.050855</td>\n",
       "      <td>0.830055</td>\n",
       "      <td>0.901365</td>\n",
       "      <td>-0.335148</td>\n",
       "      <td>-0.559561</td>\n",
       "      <td>-0.500603</td>\n",
       "      <td>0.165183</td>\n",
       "      <td>...</td>\n",
       "      <td>0.321248</td>\n",
       "      <td>0.313999</td>\n",
       "      <td>0.636412</td>\n",
       "      <td>0.169179</td>\n",
       "      <td>0.540524</td>\n",
       "      <td>-0.813182</td>\n",
       "      <td>0.286870</td>\n",
       "      <td>-0.231686</td>\n",
       "      <td>0.597416</td>\n",
       "      <td>0.409623</td>\n",
       "    </tr>\n",
       "    <tr>\n",
       "      <th>1</th>\n",
       "      <td>-0.523216</td>\n",
       "      <td>-0.974058</td>\n",
       "      <td>0.738608</td>\n",
       "      <td>0.155234</td>\n",
       "      <td>0.626294</td>\n",
       "      <td>0.485297</td>\n",
       "      <td>-0.715657</td>\n",
       "      <td>-0.897996</td>\n",
       "      <td>-0.359747</td>\n",
       "      <td>0.398246</td>\n",
       "      <td>...</td>\n",
       "      <td>-0.487843</td>\n",
       "      <td>0.823124</td>\n",
       "      <td>0.412688</td>\n",
       "      <td>-0.338654</td>\n",
       "      <td>0.320787</td>\n",
       "      <td>0.588643</td>\n",
       "      <td>-0.594137</td>\n",
       "      <td>0.182828</td>\n",
       "      <td>0.397090</td>\n",
       "      <td>-0.834364</td>\n",
       "    </tr>\n",
       "    <tr>\n",
       "      <th>2</th>\n",
       "      <td>-0.619619</td>\n",
       "      <td>-0.972960</td>\n",
       "      <td>-0.207360</td>\n",
       "      <td>-0.128861</td>\n",
       "      <td>0.044748</td>\n",
       "      <td>-0.387535</td>\n",
       "      <td>-0.730477</td>\n",
       "      <td>-0.066126</td>\n",
       "      <td>-0.754899</td>\n",
       "      <td>-0.242004</td>\n",
       "      <td>...</td>\n",
       "      <td>0.454756</td>\n",
       "      <td>0.473184</td>\n",
       "      <td>0.377866</td>\n",
       "      <td>-0.863887</td>\n",
       "      <td>-0.383365</td>\n",
       "      <td>0.137721</td>\n",
       "      <td>-0.810877</td>\n",
       "      <td>-0.447580</td>\n",
       "      <td>0.805932</td>\n",
       "      <td>-0.285284</td>\n",
       "    </tr>\n",
       "    <tr>\n",
       "      <th>3</th>\n",
       "      <td>-0.740843</td>\n",
       "      <td>-0.975749</td>\n",
       "      <td>0.391698</td>\n",
       "      <td>0.641738</td>\n",
       "      <td>-0.268645</td>\n",
       "      <td>0.191745</td>\n",
       "      <td>-0.825593</td>\n",
       "      <td>-0.710591</td>\n",
       "      <td>-0.040099</td>\n",
       "      <td>-0.110514</td>\n",
       "      <td>...</td>\n",
       "      <td>0.271535</td>\n",
       "      <td>0.036040</td>\n",
       "      <td>0.480029</td>\n",
       "      <td>-0.763173</td>\n",
       "      <td>0.022627</td>\n",
       "      <td>0.565165</td>\n",
       "      <td>-0.910286</td>\n",
       "      <td>-0.537838</td>\n",
       "      <td>0.243541</td>\n",
       "      <td>-0.885329</td>\n",
       "    </tr>\n",
       "    <tr>\n",
       "      <th>4</th>\n",
       "      <td>-0.279052</td>\n",
       "      <td>-0.972315</td>\n",
       "      <td>0.685374</td>\n",
       "      <td>0.113056</td>\n",
       "      <td>0.238315</td>\n",
       "      <td>0.271913</td>\n",
       "      <td>-0.568816</td>\n",
       "      <td>0.341194</td>\n",
       "      <td>-0.600554</td>\n",
       "      <td>-0.125644</td>\n",
       "      <td>...</td>\n",
       "      <td>0.238286</td>\n",
       "      <td>0.809268</td>\n",
       "      <td>0.427521</td>\n",
       "      <td>-0.615932</td>\n",
       "      <td>-0.503697</td>\n",
       "      <td>0.614450</td>\n",
       "      <td>-0.917760</td>\n",
       "      <td>-0.424061</td>\n",
       "      <td>0.185484</td>\n",
       "      <td>-0.580292</td>\n",
       "    </tr>\n",
       "  </tbody>\n",
       "</table>\n",
       "<p>5 rows × 250 columns</p>\n",
       "</div>"
      ],
      "text/plain": [
       "        0         1         2         3         4         5         6    \\\n",
       "0 -0.161183 -0.957233 -0.137944  0.050855  0.830055  0.901365 -0.335148   \n",
       "1 -0.523216 -0.974058  0.738608  0.155234  0.626294  0.485297 -0.715657   \n",
       "2 -0.619619 -0.972960 -0.207360 -0.128861  0.044748 -0.387535 -0.730477   \n",
       "3 -0.740843 -0.975749  0.391698  0.641738 -0.268645  0.191745 -0.825593   \n",
       "4 -0.279052 -0.972315  0.685374  0.113056  0.238315  0.271913 -0.568816   \n",
       "\n",
       "        7         8         9    ...       240       241       242       243  \\\n",
       "0 -0.559561 -0.500603  0.165183  ...  0.321248  0.313999  0.636412  0.169179   \n",
       "1 -0.897996 -0.359747  0.398246  ... -0.487843  0.823124  0.412688 -0.338654   \n",
       "2 -0.066126 -0.754899 -0.242004  ...  0.454756  0.473184  0.377866 -0.863887   \n",
       "3 -0.710591 -0.040099 -0.110514  ...  0.271535  0.036040  0.480029 -0.763173   \n",
       "4  0.341194 -0.600554 -0.125644  ...  0.238286  0.809268  0.427521 -0.615932   \n",
       "\n",
       "        244       245       246       247       248       249  \n",
       "0  0.540524 -0.813182  0.286870 -0.231686  0.597416  0.409623  \n",
       "1  0.320787  0.588643 -0.594137  0.182828  0.397090 -0.834364  \n",
       "2 -0.383365  0.137721 -0.810877 -0.447580  0.805932 -0.285284  \n",
       "3  0.022627  0.565165 -0.910286 -0.537838  0.243541 -0.885329  \n",
       "4 -0.503697  0.614450 -0.917760 -0.424061  0.185484 -0.580292  \n",
       "\n",
       "[5 rows x 250 columns]"
      ]
     },
     "execution_count": 6,
     "metadata": {},
     "output_type": "execute_result"
    }
   ],
   "source": [
    "embeddings.head()\n"
   ]
  },
  {
   "cell_type": "markdown",
   "id": "9047e7a2-568c-44c7-969a-13bcfee66e4b",
   "metadata": {},
   "source": [
    "### Visualisation des embeddings"
   ]
  },
  {
   "cell_type": "code",
   "execution_count": 7,
   "id": "55eedcf9-e55b-407d-9439-4a221e6ddbe2",
   "metadata": {},
   "outputs": [
    {
     "ename": "ModuleNotFoundError",
     "evalue": "No module named 'umap'",
     "output_type": "error",
     "traceback": [
      "\u001b[0;31m---------------------------------------------------------------------------\u001b[0m",
      "\u001b[0;31mModuleNotFoundError\u001b[0m                       Traceback (most recent call last)",
      "Cell \u001b[0;32mIn[7], line 3\u001b[0m\n\u001b[1;32m      1\u001b[0m get_ipython()\u001b[38;5;241m.\u001b[39mrun_line_magic(\u001b[38;5;124m'\u001b[39m\u001b[38;5;124mmatplotlib\u001b[39m\u001b[38;5;124m'\u001b[39m, \u001b[38;5;124m'\u001b[39m\u001b[38;5;124minline\u001b[39m\u001b[38;5;124m'\u001b[39m)\n\u001b[1;32m      2\u001b[0m \u001b[38;5;28;01mimport\u001b[39;00m \u001b[38;5;21;01mmatplotlib\u001b[39;00m\u001b[38;5;21;01m.\u001b[39;00m\u001b[38;5;21;01mpyplot\u001b[39;00m \u001b[38;5;28;01mas\u001b[39;00m \u001b[38;5;21;01mplt\u001b[39;00m\n\u001b[0;32m----> 3\u001b[0m \u001b[38;5;28;01mimport\u001b[39;00m \u001b[38;5;21;01mumap\u001b[39;00m\u001b[38;5;21;01m.\u001b[39;00m\u001b[38;5;21;01mumap_\u001b[39;00m \u001b[38;5;28;01mas\u001b[39;00m \u001b[38;5;21;01mumap\u001b[39;00m\n\u001b[1;32m      5\u001b[0m \u001b[38;5;66;03m# Échantillonnage\u001b[39;00m\n\u001b[1;32m      6\u001b[0m sampled_embeddings \u001b[38;5;241m=\u001b[39m embeddings\u001b[38;5;241m.\u001b[39msample(\u001b[38;5;241m5000\u001b[39m, random_state\u001b[38;5;241m=\u001b[39m\u001b[38;5;241m42\u001b[39m)\n",
      "\u001b[0;31mModuleNotFoundError\u001b[0m: No module named 'umap'"
     ]
    }
   ],
   "source": [
    "%matplotlib inline\n",
    "import matplotlib.pyplot as plt\n",
    "import umap.umap_ as umap\n",
    "\n",
    "# Échantillonnage\n",
    "sampled_embeddings = embeddings.sample(5000, random_state=42)\n",
    "\n",
    "# Paramètres à tester\n",
    "configs = [\n",
    "    {\"title\": \"n_neighbors=15, min_dist=0.1 (défaut)\", \"params\": {\"n_neighbors\":15, \"min_dist\":0.1, \"metric\":\"euclidean\"}},\n",
    "    {\"title\": \"n_neighbors=30, min_dist=0.3, metric=cosine\", \"params\": {\"n_neighbors\":30, \"min_dist\":0.3, \"metric\":\"cosine\"}},\n",
    "    {\"title\": \"n_neighbors=30, min_dist=0.2, metric=cosine\", \"params\": {\"n_neighbors\":30, \"min_dist\":0.2, \"metric\":\"cosine\", \"spread\":1.5}}\n",
    "]\n",
    "\n",
    "plt.figure(figsize=(15, 5))\n",
    "\n",
    "for i, config in enumerate(configs):\n",
    "    reducer = umap.UMAP(random_state=42, **config[\"params\"])\n",
    "    umap_results = reducer.fit_transform(sampled_embeddings)\n",
    "    \n",
    "    plt.subplot(1, 3, i + 1)\n",
    "    plt.scatter(umap_results[:, 0], umap_results[:, 1], s=2, alpha=0.5)\n",
    "    plt.title(config[\"title\"])\n",
    "    plt.xticks([]); plt.yticks([])\n",
    "\n",
    "plt.tight_layout()\n",
    "plt.show()\n"
   ]
  },
  {
   "cell_type": "markdown",
   "id": "d34728b3-2d3b-4386-b47c-a4e545746b8b",
   "metadata": {},
   "source": [
    "Il y a quelques groupes qui se dessinent, c'est confus il faut essayer de faire des regroupements"
   ]
  },
  {
   "cell_type": "markdown",
   "id": "eaf85e81-f6cc-4886-b043-c978b383c21c",
   "metadata": {},
   "source": [
    "### Regroupement par clusters"
   ]
  },
  {
   "cell_type": "code",
   "execution_count": 8,
   "id": "0bb91b5d-d41d-4979-93b6-d20aef5a8b72",
   "metadata": {
    "scrolled": true
   },
   "outputs": [
    {
     "ename": "ModuleNotFoundError",
     "evalue": "No module named 'plotly'",
     "output_type": "error",
     "traceback": [
      "\u001b[0;31m---------------------------------------------------------------------------\u001b[0m",
      "\u001b[0;31mModuleNotFoundError\u001b[0m                       Traceback (most recent call last)",
      "Cell \u001b[0;32mIn[8], line 3\u001b[0m\n\u001b[1;32m      1\u001b[0m \u001b[38;5;28;01mimport\u001b[39;00m \u001b[38;5;21;01mpandas\u001b[39;00m \u001b[38;5;28;01mas\u001b[39;00m \u001b[38;5;21;01mpd\u001b[39;00m\n\u001b[1;32m      2\u001b[0m \u001b[38;5;28;01mimport\u001b[39;00m \u001b[38;5;21;01mnumpy\u001b[39;00m \u001b[38;5;28;01mas\u001b[39;00m \u001b[38;5;21;01mnp\u001b[39;00m\n\u001b[0;32m----> 3\u001b[0m \u001b[38;5;28;01mimport\u001b[39;00m \u001b[38;5;21;01mplotly\u001b[39;00m\u001b[38;5;21;01m.\u001b[39;00m\u001b[38;5;21;01mgraph_objects\u001b[39;00m \u001b[38;5;28;01mas\u001b[39;00m \u001b[38;5;21;01mgo\u001b[39;00m\n\u001b[1;32m      4\u001b[0m \u001b[38;5;28;01mimport\u001b[39;00m \u001b[38;5;21;01mumap\u001b[39;00m\u001b[38;5;21;01m.\u001b[39;00m\u001b[38;5;21;01mumap_\u001b[39;00m \u001b[38;5;28;01mas\u001b[39;00m \u001b[38;5;21;01mumap\u001b[39;00m\n\u001b[1;32m      5\u001b[0m \u001b[38;5;28;01mfrom\u001b[39;00m \u001b[38;5;21;01msklearn\u001b[39;00m\u001b[38;5;21;01m.\u001b[39;00m\u001b[38;5;21;01mcluster\u001b[39;00m \u001b[38;5;28;01mimport\u001b[39;00m KMeans\n",
      "\u001b[0;31mModuleNotFoundError\u001b[0m: No module named 'plotly'"
     ]
    }
   ],
   "source": [
    "import pandas as pd\n",
    "import numpy as np\n",
    "import plotly.graph_objects as go\n",
    "import umap.umap_ as umap\n",
    "from sklearn.cluster import KMeans\n",
    "from sklearn.preprocessing import StandardScaler\n",
    "\n",
    "# Paramètres\n",
    "n_samples = 10000\n",
    "cluster_counts = [15, 25, 35]\n",
    "\n",
    "# Échantillonnage\n",
    "sampled_embeddings = embeddings.sample(n=n_samples, random_state=42)\n",
    "sampled_array = sampled_embeddings.to_numpy()\n",
    "sampled_index = sampled_embeddings.index  # pour les tooltips si besoin\n",
    "\n",
    "# Normalisation\n",
    "scaler = StandardScaler()\n",
    "sampled_scaled = scaler.fit_transform(sampled_array)\n",
    "\n",
    "# UMAP en 3D\n",
    "reducer = umap.UMAP(n_components=3, random_state=42, metric=\"cosine\", n_neighbors=30, min_dist=0.3, spread=1.5)\n",
    "embedding_3d = reducer.fit_transform(sampled_scaled)\n",
    "\n",
    "# Base DataFrame\n",
    "df_visu = pd.DataFrame(embedding_3d, columns=[\"x\", \"y\", \"z\"])\n",
    "df_visu[\"index\"] = sampled_index\n",
    "\n",
    "# Clusterisations et traces\n",
    "traces = []\n",
    "buttons = []\n",
    "\n",
    "for i, n_clusters in enumerate(cluster_counts):\n",
    "    kmeans = KMeans(n_clusters=n_clusters, random_state=42, n_init='auto')\n",
    "    cluster_labels = kmeans.fit_predict(sampled_scaled)\n",
    "\n",
    "    df_visu[f'cluster_{n_clusters}'] = cluster_labels\n",
    "\n",
    "    trace = go.Scatter3d(\n",
    "        x=df_visu['x'],\n",
    "        y=df_visu['y'],\n",
    "        z=df_visu['z'],\n",
    "        mode='markers',\n",
    "        marker=dict(\n",
    "            size=3,\n",
    "            color=df_visu[f'cluster_{n_clusters}'],\n",
    "            colorscale='Turbo',        # 🌈 Palette bien contrastée\n",
    "            colorbar=dict(             # ✅ Échelle des couleurs\n",
    "                title=f'Clusters ({n_clusters})',\n",
    "                len=0.75\n",
    "            ),\n",
    "            opacity=0.7\n",
    "        ),\n",
    "        name=f'{n_clusters} clusters',\n",
    "        visible=(i == 0),\n",
    "        text=[f\"Index: {idx}\" for idx in df_visu[\"index\"]],\n",
    "        hoverinfo=\"text\"\n",
    "    )\n",
    "    traces.append(trace)\n",
    "\n",
    "    # Bouton dropdown\n",
    "    buttons.append(dict(\n",
    "        label=f\"{n_clusters} clusters\",\n",
    "        method=\"update\",\n",
    "        args=[\n",
    "            {\"visible\": [j == i for j in range(len(cluster_counts))]},\n",
    "            {\"title\": f\"Clustering avec {n_clusters} clusters\"}\n",
    "        ]\n",
    "    ))\n",
    "\n",
    "# Création de la figure\n",
    "fig = go.Figure(data=traces)\n",
    "\n",
    "# Menu déroulant\n",
    "fig.update_layout(\n",
    "    title=\"Clustering interactif UMAP 3D\",\n",
    "    updatemenus=[dict(\n",
    "        buttons=buttons,\n",
    "        direction=\"down\",\n",
    "        showactive=True,\n",
    "        x=0.1,\n",
    "        xanchor=\"left\",\n",
    "        y=1.15,\n",
    "        yanchor=\"top\"\n",
    "    )],\n",
    "    margin=dict(l=0, r=0, b=0, t=40),\n",
    "    scene=dict(\n",
    "        xaxis=dict(title='UMAP-1'),\n",
    "        yaxis=dict(title='UMAP-2'),\n",
    "        zaxis=dict(title='UMAP-3')\n",
    "    )\n",
    ")\n",
    "\n",
    "fig.show()\n"
   ]
  },
  {
   "cell_type": "markdown",
   "id": "432f1356-15c6-496b-b69e-0ff628be4bd4",
   "metadata": {},
   "source": [
    "La distance cosine semble bien séparer les embeddings. On pourra se servir de cette sur-catégorisation pour enrichir le dataframe articles."
   ]
  },
  {
   "cell_type": "code",
   "execution_count": 9,
   "id": "c39b1d44-2731-4f18-99a8-117b9ebbb119",
   "metadata": {},
   "outputs": [
    {
     "data": {
      "text/plain": [
       "6663"
      ]
     },
     "execution_count": 9,
     "metadata": {},
     "output_type": "execute_result"
    }
   ],
   "source": [
    "import gc\n",
    "gc.collect()"
   ]
  },
  {
   "cell_type": "markdown",
   "id": "8b8b8c0a-7c94-473c-a0c3-4f868364c58e",
   "metadata": {},
   "source": [
    "### Réduction des dimensions par PCA"
   ]
  },
  {
   "cell_type": "code",
   "execution_count": 10,
   "id": "9b9830e9-4a84-4c0d-869e-6be884254b35",
   "metadata": {},
   "outputs": [
    {
     "name": "stdout",
     "output_type": "stream",
     "text": [
      "✅ PCA terminée. Nombre de dimensions retenues : 41\n"
     ]
    }
   ],
   "source": [
    "from sklearn.decomposition import PCA\n",
    "from sklearn.preprocessing import StandardScaler\n",
    "\n",
    "# Étape 1 : Standardiser les embeddings\n",
    "scaler = StandardScaler()\n",
    "embeddings_scaled = scaler.fit_transform(embeddings)\n",
    "\n",
    "# Étape 2 : Appliquer PCA avec n_components=\"mle\" pour déterminer automatiquement\n",
    "pca = PCA(n_components=0.90, svd_solver='full')  # 0.90 = au moins 90% de variance\n",
    "embeddings_pca = pca.fit_transform(embeddings_scaled)\n",
    "embeddings_pca_df = pd.DataFrame(embeddings_pca)\n",
    "\n",
    "# Résultat\n",
    "print(f\"✅ PCA terminée. Nombre de dimensions retenues : {embeddings_pca.shape[1]}\")\n"
   ]
  },
  {
   "cell_type": "code",
   "execution_count": 11,
   "id": "7345ad8a-ad22-4bde-8d18-a042a0add1e5",
   "metadata": {},
   "outputs": [
    {
     "name": "stdout",
     "output_type": "stream",
     "text": [
      "✅ Embeddings PCA sauvegardés dans ./data/articles_embeddings_pca.parquet\n"
     ]
    }
   ],
   "source": [
    "import pandas as pd\n",
    "import os\n",
    "\n",
    "# Création du dossier s'il n'existe pas\n",
    "os.makedirs('./data', exist_ok=True)\n",
    "\n",
    "# Assurons-nous que l'index est bien article_id (optionnel si déjà fait)\n",
    "embeddings_pca_df.index.name = 'article_id'\n",
    "\n",
    "# Sauvegarde au format Parquet\n",
    "embeddings_pca_df.to_parquet('./data/articles_embeddings_pca.parquet')\n",
    "\n",
    "print(\"✅ Embeddings PCA sauvegardés dans ./data/articles_embeddings_pca.parquet\")"
   ]
  },
  {
   "cell_type": "code",
   "execution_count": null,
   "id": "7cbe58f0-01c0-4c7a-8963-b456632964cd",
   "metadata": {},
   "outputs": [],
   "source": [
    "# Calcule l'empreinte mémoire de chaque DataFrame\n",
    "original_memory = embeddings.memory_usage(deep=True).sum()\n",
    "reduced_memory = embeddings_pca_df.memory_usage(deep=True).sum()\n",
    "\n",
    "# Calcule le gain absolu et relatif\n",
    "memory_saved = original_memory - reduced_memory\n",
    "memory_gain_percent = (memory_saved / original_memory) * 100\n",
    "\n",
    "# Affiche les résultats en Mo\n",
    "print(f\"Mémoire utilisée avant PCA : {original_memory / (1024 ** 2):.2f} Mo\")\n",
    "print(f\"Mémoire utilisée après PCA : {reduced_memory / (1024 ** 2):.2f} Mo\")\n",
    "print(f\"Gain de mémoire : {memory_saved / (1024 ** 2):.2f} Mo ({memory_gain_percent:.2f}%)\")\n"
   ]
  },
  {
   "cell_type": "code",
   "execution_count": null,
   "id": "74598ab5-5f46-4fb9-a1ae-14de58030c1e",
   "metadata": {},
   "outputs": [],
   "source": [
    "%matplotlib inline\n",
    "import matplotlib.pyplot as plt\n",
    "import numpy as np\n",
    "\n",
    "pca_full = PCA().fit(embeddings_scaled)\n",
    "cumulative_variance = np.cumsum(pca_full.explained_variance_ratio_)\n",
    "\n",
    "plt.figure(figsize=(8, 4))\n",
    "plt.plot(cumulative_variance, marker='.')\n",
    "plt.axhline(y=0.9, color='r', linestyle='--', label=\"90% variance\")\n",
    "plt.xlabel(\"Nombre de composantes\")\n",
    "plt.ylabel(\"Variance cumulée\")\n",
    "plt.title(\"Variance capturée par PCA\")\n",
    "plt.grid(True)\n",
    "plt.legend()\n",
    "plt.tight_layout()\n",
    "plt.show()\n"
   ]
  },
  {
   "cell_type": "code",
   "execution_count": null,
   "id": "98c3d238-8205-4ea6-9382-8c7745777b58",
   "metadata": {},
   "outputs": [],
   "source": [
    "%matplotlib inline\n",
    "from sklearn.cluster import KMeans\n",
    "import matplotlib.pyplot as plt\n",
    "\n",
    "# 🔹 Étape 6 : Clustering KMeans\n",
    "kmeans = KMeans(n_clusters=20, random_state=42)\n",
    "clusters = kmeans.fit_predict(umap_results)\n",
    "\n",
    "# 🔹 Étape 7 : Visualisation colorée par cluster\n",
    "plt.figure(figsize=(10, 8))\n",
    "scatter = plt.scatter(\n",
    "    umap_results[:, 0], umap_results[:, 1],\n",
    "    c=clusters, cmap='turbo', s=5, alpha=0.7\n",
    ")\n",
    "plt.title(\"UMAP 2D avec KMeans (20 clusters, ech. 5000)\")\n",
    "plt.xlabel(\"UMAP-1\")\n",
    "plt.ylabel(\"UMAP-2\")\n",
    "plt.grid(True)\n",
    "plt.tight_layout()\n",
    "plt.colorbar(scatter, label=\"Cluster ID\")\n",
    "plt.show()\n"
   ]
  },
  {
   "cell_type": "markdown",
   "id": "d940feef-82eb-4547-bdf9-6d2a42b414fa",
   "metadata": {},
   "source": [
    "Les embeddings sont toujours clairement séparables, ils sont à priori une bonne représentation des articles."
   ]
  },
  {
   "cell_type": "markdown",
   "id": "c9a97ebd-e399-44e7-942b-3aca94bfa0fa",
   "metadata": {},
   "source": [
    "### Enrichissement du dataframe d'articles avec les méta-catégories"
   ]
  },
  {
   "cell_type": "code",
   "execution_count": 5,
   "id": "ab9dbb16-539b-4753-84fa-bede208ea751",
   "metadata": {},
   "outputs": [
    {
     "name": "stderr",
     "output_type": "stream",
     "text": [
      "/opt/conda/lib/python3.11/site-packages/umap/umap_.py:1952: UserWarning: n_jobs value 1 overridden to 1 by setting random_state. Use no seed for parallelism.\n",
      "  warn(\n",
      "OMP: Info #276: omp_set_nested routine deprecated, please use omp_set_max_active_levels instead.\n",
      "/opt/conda/lib/python3.11/site-packages/sklearn/cluster/_kmeans.py:1416: FutureWarning: The default value of `n_init` will change from 10 to 'auto' in 1.4. Set the value of `n_init` explicitly to suppress the warning\n",
      "  super()._check_params_vs_input(X, default_n_init=10)\n"
     ]
    }
   ],
   "source": [
    "import pandas as pd\n",
    "import numpy as np\n",
    "import umap\n",
    "from sklearn.cluster import KMeans\n",
    "import matplotlib.pyplot as plt\n",
    "\n",
    "# Chargement des données (à adapter si déjà en mémoire)\n",
    "# df_articles = pd.read_csv(\"path/to/articles.csv\")  # par exemple\n",
    "# embeddings = pd.read_csv(\"path/to/embeddings.csv\")  # ou un np.array\n",
    "\n",
    "# Vérification : embeddings doit avoir la même longueur que df_articles\n",
    "assert len(df_articles) == len(embeddings), \"Le nombre de lignes ne correspond pas entre df_articles et embeddings\"\n",
    "\n",
    "# Étape 1 : Réduction de dimension avec UMAP\n",
    "umap_model = umap.UMAP(n_components=2, random_state=42, metric=\"cosine\", n_neighbors=30, min_dist=0.3, spread=1.5)\n",
    "embeddings_2d = umap_model.fit_transform(embeddings)\n",
    "\n",
    "# Étape 2 : Clustering avec KMeans (20 clusters)\n",
    "kmeans = KMeans(n_clusters=20, random_state=42)\n",
    "clusters = kmeans.fit_predict(embeddings_2d)\n",
    "\n",
    "# Étape 3 : Ajout des clusters au DataFrame original\n",
    "df_articles[\"cluster\"] = clusters"
   ]
  },
  {
   "cell_type": "code",
   "execution_count": 6,
   "id": "36a98dd7-c8b1-4ade-87aa-3065a7a7db36",
   "metadata": {},
   "outputs": [
    {
     "data": {
      "text/plain": [
       "40794"
      ]
     },
     "execution_count": 6,
     "metadata": {},
     "output_type": "execute_result"
    }
   ],
   "source": [
    "import gc\n",
    "gc.collect()"
   ]
  },
  {
   "cell_type": "code",
   "execution_count": null,
   "id": "ca6652dc-7985-4955-a155-99662cce2c3c",
   "metadata": {},
   "outputs": [],
   "source": [
    "import seaborn as sns\n",
    "\n",
    "# Étape 4 : Créer un DataFrame avec les coordonnées UMAP + cluster\n",
    "df_umap = pd.DataFrame(embeddings_2d, columns=[\"umap_x\", \"umap_y\"])\n",
    "df_umap[\"cluster\"] = clusters\n",
    "\n",
    "# Échantillonnage pour affichage rapide\n",
    "sample = df_umap.sample(n=1000, random_state=42) if len(df_umap) > 1000 else df_umap\n",
    "\n",
    "# Visualisation avec seaborn\n",
    "plt.figure(figsize=(10, 6))\n",
    "sns.scatterplot(\n",
    "    data=sample,\n",
    "    x=\"umap_x\",\n",
    "    y=\"umap_y\",\n",
    "    hue=\"cluster\",\n",
    "    palette=\"tab20\",\n",
    "    legend=\"full\",\n",
    "    s=30\n",
    ")\n",
    "plt.title(\"Projection UMAP et clustering KMeans sur un échantillon\")\n",
    "plt.xlabel(\"UMAP dimension 1\")\n",
    "plt.ylabel(\"UMAP dimension 2\")\n",
    "plt.legend(title=\"Cluster\", bbox_to_anchor=(1.05, 1), loc='upper left')\n",
    "plt.tight_layout()\n",
    "plt.show()\n"
   ]
  },
  {
   "cell_type": "markdown",
   "id": "66327f89-547f-4237-ba83-6315d16294b0",
   "metadata": {},
   "source": [
    "## Enregistrement des clicks lors des sessions\n",
    "On dispose des clicks (un fichier par heure) effectués par les utilisateurs sur une période de deux semaines du site globo.com <br>\n",
    "Les colonnes concernent: l'identification de la session et ses caractéristiques, les articles concernés, l'environnement de l'utilisateur (appareil, OS, pays, origine de navigation, région)<br>\n",
    "Pour un session_id et un user_id il y session_size (nombre d'interactions lors de la session) lignes avec un click_article_id pour chaque interaction.<br>\n",
    "click_environment: contexte du click (Facebook, App mobile, web)"
   ]
  },
  {
   "cell_type": "code",
   "execution_count": 13,
   "id": "e4af6e14-4ed3-43c8-81b7-266ceae564ec",
   "metadata": {},
   "outputs": [
    {
     "data": {
      "text/html": [
       "<div>\n",
       "<style scoped>\n",
       "    .dataframe tbody tr th:only-of-type {\n",
       "        vertical-align: middle;\n",
       "    }\n",
       "\n",
       "    .dataframe tbody tr th {\n",
       "        vertical-align: top;\n",
       "    }\n",
       "\n",
       "    .dataframe thead th {\n",
       "        text-align: right;\n",
       "    }\n",
       "</style>\n",
       "<table border=\"1\" class=\"dataframe\">\n",
       "  <thead>\n",
       "    <tr style=\"text-align: right;\">\n",
       "      <th></th>\n",
       "      <th>user_id</th>\n",
       "      <th>session_id</th>\n",
       "      <th>session_start</th>\n",
       "      <th>session_size</th>\n",
       "      <th>click_article_id</th>\n",
       "      <th>click_timestamp</th>\n",
       "      <th>click_environment</th>\n",
       "      <th>click_deviceGroup</th>\n",
       "      <th>click_os</th>\n",
       "      <th>click_country</th>\n",
       "      <th>click_region</th>\n",
       "      <th>click_referrer_type</th>\n",
       "    </tr>\n",
       "  </thead>\n",
       "  <tbody>\n",
       "    <tr>\n",
       "      <th>0</th>\n",
       "      <td>0</td>\n",
       "      <td>1506825423271737</td>\n",
       "      <td>1506825423000</td>\n",
       "      <td>2</td>\n",
       "      <td>157541</td>\n",
       "      <td>1506826828020</td>\n",
       "      <td>4</td>\n",
       "      <td>3</td>\n",
       "      <td>20</td>\n",
       "      <td>1</td>\n",
       "      <td>20</td>\n",
       "      <td>2</td>\n",
       "    </tr>\n",
       "    <tr>\n",
       "      <th>1</th>\n",
       "      <td>0</td>\n",
       "      <td>1506825423271737</td>\n",
       "      <td>1506825423000</td>\n",
       "      <td>2</td>\n",
       "      <td>68866</td>\n",
       "      <td>1506826858020</td>\n",
       "      <td>4</td>\n",
       "      <td>3</td>\n",
       "      <td>20</td>\n",
       "      <td>1</td>\n",
       "      <td>20</td>\n",
       "      <td>2</td>\n",
       "    </tr>\n",
       "    <tr>\n",
       "      <th>2</th>\n",
       "      <td>1</td>\n",
       "      <td>1506825426267738</td>\n",
       "      <td>1506825426000</td>\n",
       "      <td>2</td>\n",
       "      <td>235840</td>\n",
       "      <td>1506827017951</td>\n",
       "      <td>4</td>\n",
       "      <td>1</td>\n",
       "      <td>17</td>\n",
       "      <td>1</td>\n",
       "      <td>16</td>\n",
       "      <td>2</td>\n",
       "    </tr>\n",
       "    <tr>\n",
       "      <th>3</th>\n",
       "      <td>1</td>\n",
       "      <td>1506825426267738</td>\n",
       "      <td>1506825426000</td>\n",
       "      <td>2</td>\n",
       "      <td>96663</td>\n",
       "      <td>1506827047951</td>\n",
       "      <td>4</td>\n",
       "      <td>1</td>\n",
       "      <td>17</td>\n",
       "      <td>1</td>\n",
       "      <td>16</td>\n",
       "      <td>2</td>\n",
       "    </tr>\n",
       "    <tr>\n",
       "      <th>4</th>\n",
       "      <td>2</td>\n",
       "      <td>1506825435299739</td>\n",
       "      <td>1506825435000</td>\n",
       "      <td>2</td>\n",
       "      <td>119592</td>\n",
       "      <td>1506827090575</td>\n",
       "      <td>4</td>\n",
       "      <td>1</td>\n",
       "      <td>17</td>\n",
       "      <td>1</td>\n",
       "      <td>24</td>\n",
       "      <td>2</td>\n",
       "    </tr>\n",
       "    <tr>\n",
       "      <th>5</th>\n",
       "      <td>2</td>\n",
       "      <td>1506825435299739</td>\n",
       "      <td>1506825435000</td>\n",
       "      <td>2</td>\n",
       "      <td>30970</td>\n",
       "      <td>1506827120575</td>\n",
       "      <td>4</td>\n",
       "      <td>1</td>\n",
       "      <td>17</td>\n",
       "      <td>1</td>\n",
       "      <td>24</td>\n",
       "      <td>2</td>\n",
       "    </tr>\n",
       "    <tr>\n",
       "      <th>6</th>\n",
       "      <td>3</td>\n",
       "      <td>1506825442704740</td>\n",
       "      <td>1506825442000</td>\n",
       "      <td>2</td>\n",
       "      <td>236065</td>\n",
       "      <td>1506827536942</td>\n",
       "      <td>4</td>\n",
       "      <td>3</td>\n",
       "      <td>2</td>\n",
       "      <td>1</td>\n",
       "      <td>21</td>\n",
       "      <td>1</td>\n",
       "    </tr>\n",
       "    <tr>\n",
       "      <th>7</th>\n",
       "      <td>3</td>\n",
       "      <td>1506825442704740</td>\n",
       "      <td>1506825442000</td>\n",
       "      <td>2</td>\n",
       "      <td>236294</td>\n",
       "      <td>1506827566942</td>\n",
       "      <td>4</td>\n",
       "      <td>3</td>\n",
       "      <td>2</td>\n",
       "      <td>1</td>\n",
       "      <td>21</td>\n",
       "      <td>1</td>\n",
       "    </tr>\n",
       "    <tr>\n",
       "      <th>8</th>\n",
       "      <td>4</td>\n",
       "      <td>1506825528135741</td>\n",
       "      <td>1506825528000</td>\n",
       "      <td>2</td>\n",
       "      <td>48915</td>\n",
       "      <td>1506826927593</td>\n",
       "      <td>4</td>\n",
       "      <td>1</td>\n",
       "      <td>17</td>\n",
       "      <td>1</td>\n",
       "      <td>17</td>\n",
       "      <td>1</td>\n",
       "    </tr>\n",
       "    <tr>\n",
       "      <th>9</th>\n",
       "      <td>4</td>\n",
       "      <td>1506825528135741</td>\n",
       "      <td>1506825528000</td>\n",
       "      <td>2</td>\n",
       "      <td>44488</td>\n",
       "      <td>1506826957593</td>\n",
       "      <td>4</td>\n",
       "      <td>1</td>\n",
       "      <td>17</td>\n",
       "      <td>1</td>\n",
       "      <td>17</td>\n",
       "      <td>1</td>\n",
       "    </tr>\n",
       "    <tr>\n",
       "      <th>10</th>\n",
       "      <td>5</td>\n",
       "      <td>1506825541144742</td>\n",
       "      <td>1506825541000</td>\n",
       "      <td>3</td>\n",
       "      <td>168868</td>\n",
       "      <td>1506826884885</td>\n",
       "      <td>4</td>\n",
       "      <td>1</td>\n",
       "      <td>12</td>\n",
       "      <td>1</td>\n",
       "      <td>25</td>\n",
       "      <td>1</td>\n",
       "    </tr>\n",
       "    <tr>\n",
       "      <th>11</th>\n",
       "      <td>5</td>\n",
       "      <td>1506825541144742</td>\n",
       "      <td>1506825541000</td>\n",
       "      <td>3</td>\n",
       "      <td>207122</td>\n",
       "      <td>1506827097562</td>\n",
       "      <td>4</td>\n",
       "      <td>1</td>\n",
       "      <td>12</td>\n",
       "      <td>1</td>\n",
       "      <td>25</td>\n",
       "      <td>1</td>\n",
       "    </tr>\n",
       "    <tr>\n",
       "      <th>12</th>\n",
       "      <td>5</td>\n",
       "      <td>1506825541144742</td>\n",
       "      <td>1506825541000</td>\n",
       "      <td>3</td>\n",
       "      <td>286413</td>\n",
       "      <td>1506827127562</td>\n",
       "      <td>4</td>\n",
       "      <td>1</td>\n",
       "      <td>12</td>\n",
       "      <td>1</td>\n",
       "      <td>25</td>\n",
       "      <td>1</td>\n",
       "    </tr>\n",
       "    <tr>\n",
       "      <th>13</th>\n",
       "      <td>6</td>\n",
       "      <td>1506825553218743</td>\n",
       "      <td>1506825553000</td>\n",
       "      <td>2</td>\n",
       "      <td>202436</td>\n",
       "      <td>1506826872215</td>\n",
       "      <td>4</td>\n",
       "      <td>3</td>\n",
       "      <td>20</td>\n",
       "      <td>1</td>\n",
       "      <td>21</td>\n",
       "      <td>2</td>\n",
       "    </tr>\n",
       "    <tr>\n",
       "      <th>14</th>\n",
       "      <td>6</td>\n",
       "      <td>1506825553218743</td>\n",
       "      <td>1506825553000</td>\n",
       "      <td>2</td>\n",
       "      <td>288431</td>\n",
       "      <td>1506826902215</td>\n",
       "      <td>4</td>\n",
       "      <td>3</td>\n",
       "      <td>20</td>\n",
       "      <td>1</td>\n",
       "      <td>21</td>\n",
       "      <td>2</td>\n",
       "    </tr>\n",
       "    <tr>\n",
       "      <th>15</th>\n",
       "      <td>7</td>\n",
       "      <td>1506825568239744</td>\n",
       "      <td>1506825568000</td>\n",
       "      <td>2</td>\n",
       "      <td>235840</td>\n",
       "      <td>1506828125628</td>\n",
       "      <td>4</td>\n",
       "      <td>1</td>\n",
       "      <td>17</td>\n",
       "      <td>1</td>\n",
       "      <td>21</td>\n",
       "      <td>2</td>\n",
       "    </tr>\n",
       "    <tr>\n",
       "      <th>16</th>\n",
       "      <td>7</td>\n",
       "      <td>1506825568239744</td>\n",
       "      <td>1506825568000</td>\n",
       "      <td>2</td>\n",
       "      <td>284847</td>\n",
       "      <td>1506828155628</td>\n",
       "      <td>4</td>\n",
       "      <td>1</td>\n",
       "      <td>17</td>\n",
       "      <td>1</td>\n",
       "      <td>21</td>\n",
       "      <td>2</td>\n",
       "    </tr>\n",
       "    <tr>\n",
       "      <th>17</th>\n",
       "      <td>8</td>\n",
       "      <td>1506825573366745</td>\n",
       "      <td>1506825573000</td>\n",
       "      <td>3</td>\n",
       "      <td>332114</td>\n",
       "      <td>1506826999683</td>\n",
       "      <td>4</td>\n",
       "      <td>3</td>\n",
       "      <td>20</td>\n",
       "      <td>1</td>\n",
       "      <td>12</td>\n",
       "      <td>1</td>\n",
       "    </tr>\n",
       "    <tr>\n",
       "      <th>18</th>\n",
       "      <td>8</td>\n",
       "      <td>1506825573366745</td>\n",
       "      <td>1506825573000</td>\n",
       "      <td>3</td>\n",
       "      <td>284847</td>\n",
       "      <td>1506827438642</td>\n",
       "      <td>4</td>\n",
       "      <td>3</td>\n",
       "      <td>20</td>\n",
       "      <td>1</td>\n",
       "      <td>12</td>\n",
       "      <td>1</td>\n",
       "    </tr>\n",
       "    <tr>\n",
       "      <th>19</th>\n",
       "      <td>8</td>\n",
       "      <td>1506825573366745</td>\n",
       "      <td>1506825573000</td>\n",
       "      <td>3</td>\n",
       "      <td>114161</td>\n",
       "      <td>1506827468642</td>\n",
       "      <td>4</td>\n",
       "      <td>3</td>\n",
       "      <td>20</td>\n",
       "      <td>1</td>\n",
       "      <td>12</td>\n",
       "      <td>1</td>\n",
       "    </tr>\n",
       "  </tbody>\n",
       "</table>\n",
       "</div>"
      ],
      "text/plain": [
       "    user_id        session_id  session_start  session_size  click_article_id  \\\n",
       "0         0  1506825423271737  1506825423000             2            157541   \n",
       "1         0  1506825423271737  1506825423000             2             68866   \n",
       "2         1  1506825426267738  1506825426000             2            235840   \n",
       "3         1  1506825426267738  1506825426000             2             96663   \n",
       "4         2  1506825435299739  1506825435000             2            119592   \n",
       "5         2  1506825435299739  1506825435000             2             30970   \n",
       "6         3  1506825442704740  1506825442000             2            236065   \n",
       "7         3  1506825442704740  1506825442000             2            236294   \n",
       "8         4  1506825528135741  1506825528000             2             48915   \n",
       "9         4  1506825528135741  1506825528000             2             44488   \n",
       "10        5  1506825541144742  1506825541000             3            168868   \n",
       "11        5  1506825541144742  1506825541000             3            207122   \n",
       "12        5  1506825541144742  1506825541000             3            286413   \n",
       "13        6  1506825553218743  1506825553000             2            202436   \n",
       "14        6  1506825553218743  1506825553000             2            288431   \n",
       "15        7  1506825568239744  1506825568000             2            235840   \n",
       "16        7  1506825568239744  1506825568000             2            284847   \n",
       "17        8  1506825573366745  1506825573000             3            332114   \n",
       "18        8  1506825573366745  1506825573000             3            284847   \n",
       "19        8  1506825573366745  1506825573000             3            114161   \n",
       "\n",
       "    click_timestamp  click_environment  click_deviceGroup  click_os  \\\n",
       "0     1506826828020                  4                  3        20   \n",
       "1     1506826858020                  4                  3        20   \n",
       "2     1506827017951                  4                  1        17   \n",
       "3     1506827047951                  4                  1        17   \n",
       "4     1506827090575                  4                  1        17   \n",
       "5     1506827120575                  4                  1        17   \n",
       "6     1506827536942                  4                  3         2   \n",
       "7     1506827566942                  4                  3         2   \n",
       "8     1506826927593                  4                  1        17   \n",
       "9     1506826957593                  4                  1        17   \n",
       "10    1506826884885                  4                  1        12   \n",
       "11    1506827097562                  4                  1        12   \n",
       "12    1506827127562                  4                  1        12   \n",
       "13    1506826872215                  4                  3        20   \n",
       "14    1506826902215                  4                  3        20   \n",
       "15    1506828125628                  4                  1        17   \n",
       "16    1506828155628                  4                  1        17   \n",
       "17    1506826999683                  4                  3        20   \n",
       "18    1506827438642                  4                  3        20   \n",
       "19    1506827468642                  4                  3        20   \n",
       "\n",
       "    click_country  click_region  click_referrer_type  \n",
       "0               1            20                    2  \n",
       "1               1            20                    2  \n",
       "2               1            16                    2  \n",
       "3               1            16                    2  \n",
       "4               1            24                    2  \n",
       "5               1            24                    2  \n",
       "6               1            21                    1  \n",
       "7               1            21                    1  \n",
       "8               1            17                    1  \n",
       "9               1            17                    1  \n",
       "10              1            25                    1  \n",
       "11              1            25                    1  \n",
       "12              1            25                    1  \n",
       "13              1            21                    2  \n",
       "14              1            21                    2  \n",
       "15              1            21                    2  \n",
       "16              1            21                    2  \n",
       "17              1            12                    1  \n",
       "18              1            12                    1  \n",
       "19              1            12                    1  "
      ]
     },
     "execution_count": 13,
     "metadata": {},
     "output_type": "execute_result"
    }
   ],
   "source": [
    "clicks_sample = pd.read_csv(\"./data/clicks_sample.csv\", encoding='utf-8')\n",
    "clicks_sample.head(20)"
   ]
  },
  {
   "cell_type": "markdown",
   "id": "8b5fa4ec-1a16-42ea-bda5-d63a37e8c57d",
   "metadata": {},
   "source": [
    "On dispose de 305 fichiers de clicks clicks_hour_000.csv à clicks_hour_304.csv dans le dossier cliks."
   ]
  },
  {
   "cell_type": "code",
   "execution_count": 14,
   "id": "b3c5fcfc-72d9-473f-b919-8f399e0ae902",
   "metadata": {},
   "outputs": [],
   "source": [
    "import pandas as pd\n",
    "import glob\n",
    "\n",
    "file_paths = sorted(glob.glob('./data/clicks/clicks_hour_*.csv'))\n",
    "\n",
    "def load_click_file(path):\n",
    "    return pd.read_csv(path, dtype={\n",
    "        'user_id': 'int32', # 'str' évite que Pandas interprète des IDs numériques longs comme des floats\n",
    "        'session_id': 'int64',\n",
    "        'session_start': 'int64',           # 🔥 ne laisse pas de place à l'interprétation !\n",
    "        'session_size': 'int16',\n",
    "        'click_article_id': 'int32',\n",
    "        'click_timestamp': 'int64',         # 🔥 aussi important\n",
    "        'click_environment': 'category',\n",
    "        'click_deviceGroup': 'category',\n",
    "        'click_os': 'category',\n",
    "        'click_country': 'category',\n",
    "        'click_region': 'category',\n",
    "        'click_referrer_type': 'category',\n",
    "    })\n",
    "\n",
    "df_clicks = pd.concat((load_click_file(f) for f in file_paths), ignore_index=True)\n",
    "\n"
   ]
  },
  {
   "cell_type": "code",
   "execution_count": 15,
   "id": "51e84360-362f-4c60-b007-76642d34d9de",
   "metadata": {},
   "outputs": [
    {
     "data": {
      "text/plain": [
       "(2988181, 12)"
      ]
     },
     "execution_count": 15,
     "metadata": {},
     "output_type": "execute_result"
    }
   ],
   "source": [
    "df_clicks.shape"
   ]
  },
  {
   "cell_type": "code",
   "execution_count": null,
   "id": "6e29d641-b87c-4255-ae2f-8ddfa09f17e6",
   "metadata": {},
   "outputs": [],
   "source": [
    "# Calcule l'empreinte mémoire du dataframe de tous les clics\n",
    "df_clicks_memory = df_clicks.memory_usage(deep=True).sum()\n",
    "\n",
    "# Affiche les résultats en Go\n",
    "print(f\"Mémoire utilisée par le dataframe de clics : {df_clicks_memory / (1024 ** 3):.4f} Go\")\n"
   ]
  },
  {
   "cell_type": "code",
   "execution_count": null,
   "id": "0ec17432-7665-4b33-9434-8e457a811054",
   "metadata": {},
   "outputs": [],
   "source": [
    "# # Passage au sdk car ydata ne supporte pas des data aussi lourdes (les int64, même castés en timestamp)\n",
    "# from ydata.sdk.dataset import Dataset\n",
    "# from ydata.sdk.quality import evaluate_quality\n",
    "\n",
    "# # Créer un objet Dataset\n",
    "# dataset = Dataset(df_clicks)\n",
    "\n",
    "# # Lancer une évaluation qualité complète\n",
    "# report = evaluate_quality(dataset)\n",
    "\n",
    "# # Visualiser les résultats\n",
    "# report.summary()\n"
   ]
  },
  {
   "cell_type": "code",
   "execution_count": null,
   "id": "1a724c3b-4f99-4e3c-babd-1f2bc06e8b81",
   "metadata": {},
   "outputs": [],
   "source": [
    "from ydata_profiling import ProfileReport\n",
    "import pandas as pd\n",
    "\n",
    "def make_profiling_sample(df, sample_size=50000, random_state=42):\n",
    "    \"\"\"\n",
    "    Génère un rapport YData Profiling sur un échantillon du DataFrame.\n",
    "    \n",
    "    - Si sample_size=None ou <= 0, le profiling se fait sur l'ensemble du DataFrame.\n",
    "    - Les colonnes temporelles 'session_start' et 'click_timestamp' (au format int64) sont converties en datetime.\n",
    "    - De nouvelles colonnes sont ajoutées :\n",
    "        - 'session_start_dt' : datetime de début de session\n",
    "        - 'click_timestamp_dt' : datetime du clic\n",
    "        - 'click_hour' : heure du clic (0-23)\n",
    "        - 'click_day' : jour de la semaine du clic (0 = lundi, 6 = dimanche)\n",
    "    \n",
    "    Retourne :\n",
    "        DataFrame enrichi pour l’analyse temporelle et la visualisation.\n",
    "    \"\"\"\n",
    "    \n",
    "    if sample_size is None or sample_size <= 0:\n",
    "        df_sample = df.copy()\n",
    "    else:\n",
    "        df_sample = df.sample(sample_size, random_state=random_state).copy()\n",
    "\n",
    "    # Colonnes datetime\n",
    "    df_sample['session_start_dt'] = pd.to_datetime(df_sample['session_start'], unit='ms')\n",
    "    df_sample['click_timestamp_dt'] = pd.to_datetime(df_sample['click_timestamp'], unit='ms')\n",
    "\n",
    "    # Extraction de composants temporels\n",
    "    df_sample['click_hour'] = df_sample['click_timestamp_dt'].dt.hour\n",
    "    df_sample['click_day'] = df_sample['click_timestamp_dt'].dt.dayofweek  # 0 = lundi, 6 = dimanche\n",
    "\n",
    "    # Profiling\n",
    "    profile = ProfileReport(\n",
    "        df_sample.drop(columns=['session_start', 'click_timestamp']),\n",
    "        title=\"Profil YData - Clicks\",\n",
    "        minimal=True,\n",
    "        explorative=True\n",
    "    )\n",
    "\n",
    "    profile.to_notebook_iframe()\n",
    "\n",
    "    return df_sample\n",
    "\n"
   ]
  },
  {
   "cell_type": "code",
   "execution_count": null,
   "id": "12f89b0a-bba9-4ceb-979d-0fc3d64752cf",
   "metadata": {
    "scrolled": true
   },
   "outputs": [],
   "source": [
    "df_profiling = make_profiling_sample(df_clicks, sample_size=10000)"
   ]
  },
  {
   "cell_type": "code",
   "execution_count": null,
   "id": "cf7b50a4-d5d4-4591-8831-ccfde5cb9c6e",
   "metadata": {},
   "outputs": [],
   "source": [
    "# Utiliser un ensemble pour stocker les user_id uniques\n",
    "unique_user_ids = set()\n",
    "\n",
    "# Parcourir et traiter chaque fichier\n",
    "for file in file_paths:\n",
    "    df = pd.read_csv(file, usecols=['user_id'])\n",
    "    unique_user_ids.update(df['user_id'].unique())\n",
    "\n",
    "# Comptabiliser les user_id uniques\n",
    "num_unique_user_ids = len(unique_user_ids)\n",
    "\n",
    "print(f\"Nombre total d'user_id uniques : {num_unique_user_ids}\")\n"
   ]
  },
  {
   "cell_type": "markdown",
   "id": "27a0cc94-62e6-48ab-a6c3-55c3b5a75016",
   "metadata": {},
   "source": [
    "### Fit article_id (df_articles) et click_article_id (df_clicks)"
   ]
  },
  {
   "cell_type": "code",
   "execution_count": 11,
   "id": "4f7253f7-40be-4110-8794-00bcc22ab8a7",
   "metadata": {},
   "outputs": [
    {
     "name": "stdout",
     "output_type": "stream",
     "text": [
      "Nombre d'articles cliqués absents du catalogue : 0\n",
      "Series([], Name: count, dtype: int64)\n"
     ]
    }
   ],
   "source": [
    "# Vérification: tous les id d'articles sont bien dans le dataframe articles (sous article_id)\n",
    "# Identifier les articles cliqués non présents dans le catalogue\n",
    "missing_articles = df_clicks.loc[~df_clicks['click_article_id'].isin(df_articles['article_id'])]\n",
    "\n",
    "# Nombre et aperçu\n",
    "print(f\"Nombre d'articles cliqués absents du catalogue : {missing_articles['click_article_id'].nunique()}\")\n",
    "print(missing_articles['click_article_id'].value_counts().head())\n"
   ]
  },
  {
   "cell_type": "code",
   "execution_count": 12,
   "id": "69904f49-695e-4473-903f-7302b243759e",
   "metadata": {},
   "outputs": [
    {
     "name": "stdout",
     "output_type": "stream",
     "text": [
      "📰 Nombre total d'articles : 364047\n",
      "🕳️  Nombre d'articles jamais cliqués : 318014\n",
      "📉  Pourcentage jamais cliqués : 87.36%\n"
     ]
    },
    {
     "data": {
      "image/png": "[encoded data removed]",
      "text/plain": [
       "<Figure size 600x600 with 1 Axes>"
      ]
     },
     "metadata": {},
     "output_type": "display_data"
    }
   ],
   "source": [
    "import matplotlib.pyplot as plt\n",
    "\n",
    "# Articles jamais cliqués\n",
    "unused_articles = df_articles.loc[~df_articles['article_id'].isin(df_clicks['click_article_id'])]\n",
    "\n",
    "# Totaux\n",
    "total_articles = df_articles['article_id'].nunique()\n",
    "unused_count = unused_articles['article_id'].nunique()\n",
    "used_count = total_articles - unused_count\n",
    "unused_percent = (unused_count / total_articles) * 100\n",
    "\n",
    "# Résumé texte\n",
    "print(f\"📰 Nombre total d'articles : {total_articles}\")\n",
    "print(f\"🕳️  Nombre d'articles jamais cliqués : {unused_count}\")\n",
    "print(f\"📉  Pourcentage jamais cliqués : {unused_percent:.2f}%\")\n",
    "\n",
    "# Données pour le camembert\n",
    "labels = ['Articles cliqués', 'Articles jamais cliqués']\n",
    "sizes = [used_count, unused_count]\n",
    "colors = ['#66c2a5', '#fc8d62']\n",
    "\n",
    "# Camembert\n",
    "plt.figure(figsize=(6, 6))\n",
    "plt.pie(sizes, labels=labels, colors=colors, autopct='%1.1f%%', startangle=140)\n",
    "plt.title(\"Répartition des articles selon les clics\")\n",
    "plt.axis('equal')\n",
    "plt.tight_layout()\n",
    "plt.show()\n"
   ]
  },
  {
   "cell_type": "markdown",
   "id": "cea92e33-24dc-4151-9e7f-ec4e104d6113",
   "metadata": {},
   "source": [
    "On a un problème de cold start sur les articles: un grand nombre d'articles non cliqués. Ils seront exclus du calcul des modèles collaboratifs qui s'appuient sur les interactions passées. Par contre l'approche content-based (sur les métadonnées) sera meilleure."
   ]
  },
  {
   "cell_type": "code",
   "execution_count": 13,
   "id": "decc4f9a-e363-4584-b12f-d6c1c4ffefb6",
   "metadata": {},
   "outputs": [
    {
     "name": "stdout",
     "output_type": "stream",
     "text": [
      "🕑 Dernier clic enregistré : 2017-11-13 20:04:14.886000\n",
      "📰 Dernier article publié : 2018-03-13 12:12:30\n"
     ]
    }
   ],
   "source": [
    "# Dernier clic enregistré\n",
    "last_click_date = pd.to_datetime(df_clicks['click_timestamp'].max(), unit='ms')\n",
    "\n",
    "# Dernière date de publication d'article\n",
    "last_article_date = pd.to_datetime(df_articles['created_at_ts'].max(), unit='ms')\n",
    "\n",
    "# Affichage\n",
    "print(f\"🕑 Dernier clic enregistré : {last_click_date}\")\n",
    "print(f\"📰 Dernier article publié : {last_article_date}\")\n"
   ]
  },
  {
   "cell_type": "markdown",
   "id": "0ac925ad-aed6-4b67-aea0-4df497d4d624",
   "metadata": {},
   "source": [
    "<b> Les datasets sont désynchronisés:<br></b>\n",
    "-  Le dataset df_clicks couvre une période de temps limitée (15 jours).\n",
    "-  Le dataset df_articles contient un catalogue complet y compris des articles publiés après la période d’observation"
   ]
  },
  {
   "cell_type": "code",
   "execution_count": 14,
   "id": "f9ad2be5-7bbd-48ce-8ae8-fd2e91d61269",
   "metadata": {},
   "outputs": [],
   "source": [
    "# Conversion de la date de publication\n",
    "df_articles['publish_time_dt'] = pd.to_datetime(df_articles['created_at_ts'], unit='ms')"
   ]
  },
  {
   "cell_type": "code",
   "execution_count": 15,
   "id": "517047e1-4dbc-405e-966a-d8b6efa8aafd",
   "metadata": {},
   "outputs": [
    {
     "data": {
      "image/png": "[encoded data removed]",
      "text/plain": [
       "<Figure size 1000x500 with 1 Axes>"
      ]
     },
     "metadata": {},
     "output_type": "display_data"
    }
   ],
   "source": [
    "# Récupération du timestamp du dernier clic observé\n",
    "max_click_time = pd.to_datetime(df_clicks['click_timestamp'].max(), unit='ms')\n",
    "\n",
    "# Filtrer les articles publiés après la période d'observation\n",
    "df_articles_valid = df_articles[df_articles['publish_time_dt'] <= max_click_time]\n",
    "\n",
    "# Séparation des articles valides cliqués vs non cliqués\n",
    "unused_articles = df_articles_valid.loc[~df_articles_valid['article_id'].isin(df_clicks['click_article_id'])].copy()\n",
    "used_articles = df_articles_valid.loc[df_articles_valid['article_id'].isin(df_clicks['click_article_id'])].copy()\n",
    "\n",
    "# Calcul de l'ancienneté en jours\n",
    "unused_articles['days_since_pub'] = (max_click_time - unused_articles['publish_time_dt']).dt.days\n",
    "used_articles['days_since_pub'] = (max_click_time - used_articles['publish_time_dt']).dt.days\n",
    "\n",
    "# 📊 Affichage de la distribution comparée\n",
    "import matplotlib.pyplot as plt\n",
    "\n",
    "plt.figure(figsize=(10, 5))\n",
    "plt.hist(unused_articles['days_since_pub'], bins=30, alpha=0.6, label='Articles jamais cliqués', color='steelblue', edgecolor='black')\n",
    "plt.hist(used_articles['days_since_pub'], bins=30, alpha=0.6, label='Articles cliqués', color='orange', edgecolor='black')\n",
    "plt.title(\"Distribution de l'ancienneté des articles cliqués vs non cliqués parmi ceux présents lors de la période d'observation\")\n",
    "plt.xlabel(\"Nombre de jours depuis la publication\")\n",
    "plt.ylabel(\"Nombre d'articles\")\n",
    "plt.legend()\n",
    "plt.grid(axis='y', linestyle='--', alpha=0.7)\n",
    "plt.tight_layout()\n",
    "plt.show()"
   ]
  },
  {
   "attachments": {
    "b8d5058e-d5c8-43ec-b82b-5f17e5c7ba9c.png": {
     "image/png": "[encoded data removed]"
    }
   },
   "cell_type": "markdown",
   "id": "174d996e-43d9-4748-9ac0-d05105f2dfe5",
   "metadata": {},
   "source": [
    "![image.png](attachment:b8d5058e-d5c8-43ec-b82b-5f17e5c7ba9c.png)"
   ]
  },
  {
   "cell_type": "markdown",
   "id": "36fc952f-160d-49b3-9b8a-49689fcec587",
   "metadata": {},
   "source": [
    "L'information date de clic vs date de publication sera disponible en combinant par merge les métadonnées des articles dans df_clicks sur article_id"
   ]
  },
  {
   "cell_type": "markdown",
   "id": "f78a9283-ba89-441a-ad9b-b89dc0e195c2",
   "metadata": {},
   "source": [
    "### Cohérence entre le clic et la date de publication"
   ]
  },
  {
   "cell_type": "code",
   "execution_count": 16,
   "id": "e1fd955f-e551-4c36-aaf2-5599f94ac230",
   "metadata": {},
   "outputs": [
    {
     "name": "stdout",
     "output_type": "stream",
     "text": [
      "Taux de clics effectués après création de l'article : 99.88%\n",
      "Nombre de clics incohérents (avant création de l'article) : 3613\n"
     ]
    }
   ],
   "source": [
    "# Jointure : clics enrichis avec la date de création des articles\n",
    "df_merged = df_clicks.merge(\n",
    "    df_articles[['article_id', 'created_at_ts']],\n",
    "    left_on='click_article_id',\n",
    "    right_on='article_id',\n",
    "    how='left'\n",
    ")\n",
    "\n",
    "# Vérifie si le clic est postérieur ou égal à la création de l'article\n",
    "df_merged['click_after_creation'] = df_merged['click_timestamp'] >= df_merged['created_at_ts']\n",
    "\n",
    "# Statistiques\n",
    "coherence_rate = df_merged['click_after_creation'].mean()\n",
    "nb_incoherents = (~df_merged['click_after_creation']).sum()\n",
    "\n",
    "print(f\"Taux de clics effectués après création de l'article : {coherence_rate:.2%}\")\n",
    "print(f\"Nombre de clics incohérents (avant création de l'article) : {nb_incoherents}\")\n"
   ]
  },
  {
   "cell_type": "markdown",
   "id": "f738260b-fc0b-4c8a-8a00-42664f4c35f7",
   "metadata": {},
   "source": [
    "### Cohérence entre le moment du clic et le début de la session"
   ]
  },
  {
   "cell_type": "code",
   "execution_count": 17,
   "id": "5dd4b017-f9c4-4034-972a-8eb6846f11f3",
   "metadata": {},
   "outputs": [
    {
     "name": "stdout",
     "output_type": "stream",
     "text": [
      "Taux de clics cohérents avec le début de session : 100.00%\n",
      "Nombre de clics incohérents (avant le début de session) : 0\n"
     ]
    }
   ],
   "source": [
    "# Vérifie que le clic est postérieur ou égal au début de la session\n",
    "df_clicks['click_after_session_start'] = df_clicks['click_timestamp'] >= df_clicks['session_start']\n",
    "\n",
    "# Statistiques de cohérence\n",
    "session_coherence_rate = df_clicks['click_after_session_start'].mean()\n",
    "nb_incoherents_session = (~df_clicks['click_after_session_start']).sum()\n",
    "\n",
    "print(f\"Taux de clics cohérents avec le début de session : {session_coherence_rate:.2%}\")\n",
    "print(f\"Nombre de clics incohérents (avant le début de session) : {nb_incoherents_session}\")"
   ]
  },
  {
   "cell_type": "code",
   "execution_count": 18,
   "id": "fcbb82ea-c7d2-4b1b-881d-6649e29ff0da",
   "metadata": {},
   "outputs": [],
   "source": [
    "df_clicks.drop(columns=['click_after_session_start'], inplace=True)"
   ]
  },
  {
   "cell_type": "markdown",
   "id": "f3ec142e-552a-4fbe-ae63-7e44db5dc15e",
   "metadata": {},
   "source": [
    "L'enregistrement des temps semble cohérent dans df_clicks et il y a quelques incohérences avec df_articles. Donc si on utilise un marqueur temporel ça sera celui du clic (le plus précis et le plus fiable)"
   ]
  },
  {
   "cell_type": "markdown",
   "id": "560ceab9-54ba-4bc5-92b3-f12ae6a22c15",
   "metadata": {},
   "source": [
    "### Articles vides"
   ]
  },
  {
   "cell_type": "code",
   "execution_count": 19,
   "id": "05e809cc-6e50-4646-8481-8c1df46f1dbc",
   "metadata": {},
   "outputs": [
    {
     "name": "stdout",
     "output_type": "stream",
     "text": [
      "🕳️ Articles sans contenu (words_count = 0) publiés avant la fin de la période : 33\n",
      "🖱️ Parmi eux, cliqués au moins une fois : 4\n"
     ]
    },
    {
     "data": {
      "text/html": [
       "<div>\n",
       "<style scoped>\n",
       "    .dataframe tbody tr th:only-of-type {\n",
       "        vertical-align: middle;\n",
       "    }\n",
       "\n",
       "    .dataframe tbody tr th {\n",
       "        vertical-align: top;\n",
       "    }\n",
       "\n",
       "    .dataframe thead th {\n",
       "        text-align: right;\n",
       "    }\n",
       "</style>\n",
       "<table border=\"1\" class=\"dataframe\">\n",
       "  <thead>\n",
       "    <tr style=\"text-align: right;\">\n",
       "      <th></th>\n",
       "      <th>article_id</th>\n",
       "      <th>publish_time_dt</th>\n",
       "    </tr>\n",
       "  </thead>\n",
       "  <tbody>\n",
       "    <tr>\n",
       "      <th>38472</th>\n",
       "      <td>38472</td>\n",
       "      <td>2011-04-21 21:22:43</td>\n",
       "    </tr>\n",
       "    <tr>\n",
       "      <th>206233</th>\n",
       "      <td>206233</td>\n",
       "      <td>2017-09-30 17:11:56</td>\n",
       "    </tr>\n",
       "    <tr>\n",
       "      <th>233934</th>\n",
       "      <td>233934</td>\n",
       "      <td>2017-10-05 13:44:16</td>\n",
       "    </tr>\n",
       "    <tr>\n",
       "      <th>315395</th>\n",
       "      <td>315395</td>\n",
       "      <td>2015-02-05 11:34:59</td>\n",
       "    </tr>\n",
       "  </tbody>\n",
       "</table>\n",
       "</div>"
      ],
      "text/plain": [
       "        article_id     publish_time_dt\n",
       "38472        38472 2011-04-21 21:22:43\n",
       "206233      206233 2017-09-30 17:11:56\n",
       "233934      233934 2017-10-05 13:44:16\n",
       "315395      315395 2015-02-05 11:34:59"
      ]
     },
     "metadata": {},
     "output_type": "display_data"
    }
   ],
   "source": [
    "# Étape 1 : Filtrer les articles publiés avant le dernier clic\n",
    "max_click_time = pd.to_datetime(df_clicks['click_timestamp'].max(), unit='ms')\n",
    "df_articles['publish_time_dt'] = pd.to_datetime(df_articles['created_at_ts'], unit='ms')\n",
    "df_articles_valid = df_articles[df_articles['publish_time_dt'] <= max_click_time]\n",
    "\n",
    "# Étape 2 : Isoler les articles vides\n",
    "empty_articles = df_articles_valid[df_articles_valid['words_count'] == 0]\n",
    "\n",
    "# Étape 3 : Vérifier combien ont été cliqués\n",
    "clicked_empty_articles = empty_articles[empty_articles['article_id'].isin(df_clicks['click_article_id'])]\n",
    "\n",
    "# Résumé\n",
    "print(f\"🕳️ Articles sans contenu (words_count = 0) publiés avant la fin de la période : {len(empty_articles)}\")\n",
    "print(f\"🖱️ Parmi eux, cliqués au moins une fois : {len(clicked_empty_articles)}\")\n",
    "\n",
    "# Optionnel : afficher quelques exemples\n",
    "display(clicked_empty_articles[['article_id', 'publish_time_dt']].head())\n"
   ]
  },
  {
   "cell_type": "markdown",
   "id": "48086702-9b3b-4405-be28-11f2153e3fa5",
   "metadata": {},
   "source": [
    "C'est un peu anecdotique, et quelque part ça n'a pas de sens de recommander des articles vides, même si pour le content-based les motivations de clic sont là (sujet, teaser etc...).<br>"
   ]
  },
  {
   "cell_type": "markdown",
   "id": "49a8d4c9-f28f-4dc5-96e7-0d5ea284116f",
   "metadata": {},
   "source": [
    "### Vérification cohérence session_size vs nombre réel de clics"
   ]
  },
  {
   "cell_type": "code",
   "execution_count": 20,
   "id": "bdd819a1-a963-4e59-8723-f5869b0ad7d6",
   "metadata": {},
   "outputs": [],
   "source": [
    "\n",
    "# Calcul du nombre de clics par session à partir des lignes réelles\n",
    "clicks_per_session = df_clicks.groupby('session_id').size()\n",
    "\n",
    "# Récupération de la valeur unique de session_size pour chaque session_id\n",
    "declared_session_size = df_clicks.groupby('session_id')['session_size'].first()\n",
    "\n",
    "# Comparaison des deux séries\n",
    "comparison = pd.DataFrame({\n",
    "    'declared_size': declared_session_size,\n",
    "    'real_size': clicks_per_session\n",
    "})\n",
    "\n",
    "# Ajouter une colonne pour voir s'il y a concordance\n",
    "comparison['match'] = comparison['declared_size'] == comparison['real_size']\n"
   ]
  },
  {
   "cell_type": "code",
   "execution_count": 21,
   "id": "710a299a-b129-4950-a0bf-f94bff7e67e8",
   "metadata": {},
   "outputs": [
    {
     "name": "stdout",
     "output_type": "stream",
     "text": [
      "Nombre de sessions incohérentes : 0\n"
     ]
    },
    {
     "data": {
      "text/html": [
       "<div>\n",
       "<style scoped>\n",
       "    .dataframe tbody tr th:only-of-type {\n",
       "        vertical-align: middle;\n",
       "    }\n",
       "\n",
       "    .dataframe tbody tr th {\n",
       "        vertical-align: top;\n",
       "    }\n",
       "\n",
       "    .dataframe thead th {\n",
       "        text-align: right;\n",
       "    }\n",
       "</style>\n",
       "<table border=\"1\" class=\"dataframe\">\n",
       "  <thead>\n",
       "    <tr style=\"text-align: right;\">\n",
       "      <th></th>\n",
       "      <th>declared_size</th>\n",
       "      <th>real_size</th>\n",
       "      <th>match</th>\n",
       "    </tr>\n",
       "    <tr>\n",
       "      <th>session_id</th>\n",
       "      <th></th>\n",
       "      <th></th>\n",
       "      <th></th>\n",
       "    </tr>\n",
       "  </thead>\n",
       "  <tbody>\n",
       "  </tbody>\n",
       "</table>\n",
       "</div>"
      ],
      "text/plain": [
       "Empty DataFrame\n",
       "Columns: [declared_size, real_size, match]\n",
       "Index: []"
      ]
     },
     "metadata": {},
     "output_type": "display_data"
    }
   ],
   "source": [
    "incoherent_sessions = comparison[~comparison['match']]\n",
    "print(f\"Nombre de sessions incohérentes : {len(incoherent_sessions)}\")\n",
    "display(incoherent_sessions.head())\n"
   ]
  },
  {
   "cell_type": "markdown",
   "id": "ccf31753-d330-4d71-9f40-a67963266280",
   "metadata": {},
   "source": [
    "### Exploration des clics multiples dans une même session"
   ]
  },
  {
   "cell_type": "code",
   "execution_count": 17,
   "id": "3e5fa13e-d80e-48a4-bdf2-0ec57f783191",
   "metadata": {},
   "outputs": [],
   "source": [
    "# Compter les clics pour chaque paire (session, article)\n",
    "session_article_counts = (\n",
    "    df_clicks\n",
    "    .groupby(['session_id', 'click_article_id'])\n",
    "    .size()\n",
    "    .reset_index(name='n_clicks')\n",
    ")\n",
    "\n",
    "# Ne garder que ceux où il y a plusieurs clics\n",
    "multiple_clicks = session_article_counts[session_article_counts['n_clicks'] > 1]\n",
    "\n",
    "# Distribution des clics multiples (combien de paires ont 2 clics, 3 clics, etc.)\n",
    "click_distribution = multiple_clicks['n_clicks'].value_counts().sort_index()\n"
   ]
  },
  {
   "cell_type": "code",
   "execution_count": 18,
   "id": "d503ebfe-b3e9-4aab-bb82-9cdd13756bcc",
   "metadata": {},
   "outputs": [
    {
     "name": "stdout",
     "output_type": "stream",
     "text": [
      "Nombre de (session, article) avec clics multiples : 0\n",
      "Empty DataFrame\n",
      "Columns: [session_id, click_article_id, n_clicks]\n",
      "Index: []\n"
     ]
    }
   ],
   "source": [
    "print(f\"Nombre de (session, article) avec clics multiples : {len(multiple_clicks)}\")\n",
    "print(multiple_clicks.head())\n"
   ]
  },
  {
   "cell_type": "markdown",
   "id": "3921ddce-4b44-4169-bfff-2ca42a4e387a",
   "metadata": {},
   "source": [
    "### Exploration des clics multiples pour un utilisateur dans ses différentes sessions"
   ]
  },
  {
   "cell_type": "code",
   "execution_count": 16,
   "id": "26d26e68-f719-4532-a4bd-da78ba5d78c1",
   "metadata": {},
   "outputs": [
    {
     "data": {
      "image/png": "[encoded data removed]",
      "text/plain": [
       "<Figure size 1000x600 with 1 Axes>"
      ]
     },
     "metadata": {},
     "output_type": "display_data"
    }
   ],
   "source": [
    "import matplotlib.pyplot as plt\n",
    "import seaborn as sns\n",
    "\n",
    "# Étape 1 : Compter les clics par (utilisateur, article)\n",
    "click_distribution = df_clicks.groupby(['user_id', 'click_article_id']).size().reset_index(name='click_count')\n",
    "\n",
    "# Étape 2 : Compter combien de fois chaque valeur de `click_count` apparaît\n",
    "click_count_distribution = click_distribution['click_count'].value_counts().sort_index()\n",
    "\n",
    "# Étape 3 : Afficher la distribution\n",
    "plt.figure(figsize=(10, 6))\n",
    "sns.barplot(x=click_count_distribution.index, y=click_count_distribution.values)\n",
    "plt.yscale('log')  # optionnel : permet de mieux visualiser si forte disparité\n",
    "plt.xlabel('Nombre de clics sur le même article (par utilisateur)')\n",
    "plt.ylabel('Nombre de (user, article) paires')\n",
    "plt.title('Distribution des clics multiples sur un même article (log scale)')\n",
    "plt.tight_layout()\n",
    "plt.show()\n"
   ]
  },
  {
   "cell_type": "markdown",
   "id": "17787b07-0204-4e44-a20b-12036555bf9a",
   "metadata": {},
   "source": [
    "Il y a une décroissance exponentielle (avec un phénomène de long tail sur les valeurs les plus élevées). Une maojorité 1 à 2 clics."
   ]
  },
  {
   "cell_type": "markdown",
   "id": "b07b30b7-a0cf-41f7-924c-09bc4e585df9",
   "metadata": {},
   "source": [
    "# Recherche de comportements caractéristiques liés à la sélection d'articles"
   ]
  },
  {
   "cell_type": "markdown",
   "id": "1c915fa0-f5f2-4d2a-8f7c-7a99c182c374",
   "metadata": {},
   "source": [
    "## Caractéristiques des sessions"
   ]
  },
  {
   "cell_type": "markdown",
   "id": "2fa4e53c-d558-4cda-ae35-ebf10ef220fe",
   "metadata": {},
   "source": [
    "### Nombre de sessions par utilisateur"
   ]
  },
  {
   "cell_type": "code",
   "execution_count": 20,
   "id": "7526c0a2-6b82-41f5-88f3-fa1d6f5d3b3b",
   "metadata": {},
   "outputs": [],
   "source": [
    "# Compter le nombre de sessions distinctes par utilisateur\n",
    "sessions_per_user = (\n",
    "    df_clicks.groupby('user_id')['session_id']\n",
    "    .nunique()\n",
    ")\n",
    "\n",
    "# Distribution de ces nombres\n",
    "sessions_distribution = sessions_per_user.value_counts().sort_index()\n"
   ]
  },
  {
   "cell_type": "code",
   "execution_count": 21,
   "id": "2730f6ef-cd9d-4082-9764-911b85f342d1",
   "metadata": {},
   "outputs": [
    {
     "data": {
      "image/png": "[encoded data removed]",
      "text/plain": [
       "<Figure size 1200x600 with 1 Axes>"
      ]
     },
     "metadata": {},
     "output_type": "display_data"
    }
   ],
   "source": [
    "import matplotlib.pyplot as plt\n",
    "\n",
    "plt.figure(figsize=(12, 6))\n",
    "\n",
    "# Limiter l'affichage à un nombre raisonnable de sessions (ex: jusqu'à 20 sessions par utilisateur)\n",
    "max_sessions_display = 20\n",
    "filtered_distribution = sessions_distribution[sessions_distribution.index <= max_sessions_display]\n",
    "\n",
    "# Barres avec annotations\n",
    "ax = filtered_distribution.plot(kind='bar', color='skyblue', edgecolor='black')\n",
    "plt.title(\"Distribution du nombre de sessions par utilisateur\", fontsize=14)\n",
    "plt.xlabel(\"Nombre de sessions\", fontsize=12)\n",
    "plt.ylabel(\"Nombre d'utilisateurs\", fontsize=12)\n",
    "plt.grid(axis='y', linestyle='--', alpha=0.7)\n",
    "plt.xticks(rotation=0)\n",
    "\n",
    "# Ajouter les valeurs sur les barres\n",
    "for i, value in enumerate(filtered_distribution.values):\n",
    "    ax.text(i, value + max(filtered_distribution.values) * 0.01, str(value), ha='center', va='bottom', fontsize=9)\n",
    "\n",
    "plt.tight_layout()\n",
    "plt.show()\n"
   ]
  },
  {
   "cell_type": "code",
   "execution_count": 22,
   "id": "2959ac8d-eddb-4fb4-a073-092a5c6a8da4",
   "metadata": {
    "scrolled": true
   },
   "outputs": [
    {
     "data": {
      "image/png": "[encoded data removed]",
      "text/plain": [
       "<Figure size 1000x300 with 1 Axes>"
      ]
     },
     "metadata": {},
     "output_type": "display_data"
    }
   ],
   "source": [
    "import seaborn as sns\n",
    "import matplotlib.pyplot as plt\n",
    "import numpy as np\n",
    "\n",
    "# Calcul des statistiques\n",
    "mean_val = np.mean(sessions_per_user)\n",
    "median_val = np.median(sessions_per_user)\n",
    "\n",
    "# Création du boxplot\n",
    "plt.figure(figsize=(10, 3))\n",
    "sns.boxplot(x=sessions_per_user, color='lightblue')\n",
    "\n",
    "# Ajout de la moyenne (ligne rouge) et de la médiane (ligne verte)\n",
    "plt.axvline(mean_val, color='red', linestyle='--', label=f'Moyenne : {mean_val:.2f}')\n",
    "plt.axvline(median_val, color='green', linestyle='-', label=f'Médiane : {median_val:.2f}')\n",
    "\n",
    "# Légendes et style\n",
    "plt.title(\"Boxplot du nombre de sessions par utilisateur\")\n",
    "plt.xlabel(\"Nombre de sessions\")\n",
    "plt.grid(True, axis='x', linestyle='--', alpha=0.6)\n",
    "plt.legend()\n",
    "plt.tight_layout()\n",
    "plt.show()\n"
   ]
  },
  {
   "cell_type": "markdown",
   "id": "9a81517f-80e7-41ab-8359-518361ba0c53",
   "metadata": {},
   "source": [
    "Avec une médiane basse (2) et une moyenne plus élevée (3.25), on a une distribution asymétrique à droite (avec des \"power users\").<br>\n",
    "🎯 Objectif :\n",
    "Séparer les utilisateurs en deux groupes :<br>\n",
    "Normaux : nombre de sessions ≤ Q3 <br>\n",
    "Très consommateurs : nombre de sessions > Q3 <br><\n",
    "Ajouter une colonne user_status dans df_clicks contenant normal ou tres_consommateur."
   ]
  },
  {
   "cell_type": "code",
   "execution_count": 23,
   "id": "55ca6d1d-8cbb-415d-914f-8b1f053f5beb",
   "metadata": {},
   "outputs": [
    {
     "data": {
      "text/html": [
       "<div>\n",
       "<style scoped>\n",
       "    .dataframe tbody tr th:only-of-type {\n",
       "        vertical-align: middle;\n",
       "    }\n",
       "\n",
       "    .dataframe tbody tr th {\n",
       "        vertical-align: top;\n",
       "    }\n",
       "\n",
       "    .dataframe thead th {\n",
       "        text-align: right;\n",
       "    }\n",
       "</style>\n",
       "<table border=\"1\" class=\"dataframe\">\n",
       "  <thead>\n",
       "    <tr style=\"text-align: right;\">\n",
       "      <th></th>\n",
       "      <th>user_id</th>\n",
       "      <th>session_id</th>\n",
       "      <th>session_start</th>\n",
       "      <th>session_size</th>\n",
       "      <th>click_article_id</th>\n",
       "      <th>click_timestamp</th>\n",
       "      <th>click_environment</th>\n",
       "      <th>click_deviceGroup</th>\n",
       "      <th>click_os</th>\n",
       "      <th>click_country</th>\n",
       "      <th>click_region</th>\n",
       "      <th>click_referrer_type</th>\n",
       "      <th>user_status</th>\n",
       "    </tr>\n",
       "  </thead>\n",
       "  <tbody>\n",
       "    <tr>\n",
       "      <th>0</th>\n",
       "      <td>0</td>\n",
       "      <td>1506825423271737</td>\n",
       "      <td>1506825423000</td>\n",
       "      <td>2</td>\n",
       "      <td>157541</td>\n",
       "      <td>1506826828020</td>\n",
       "      <td>4</td>\n",
       "      <td>3</td>\n",
       "      <td>20</td>\n",
       "      <td>1</td>\n",
       "      <td>20</td>\n",
       "      <td>2</td>\n",
       "      <td>normal</td>\n",
       "    </tr>\n",
       "    <tr>\n",
       "      <th>1</th>\n",
       "      <td>0</td>\n",
       "      <td>1506825423271737</td>\n",
       "      <td>1506825423000</td>\n",
       "      <td>2</td>\n",
       "      <td>68866</td>\n",
       "      <td>1506826858020</td>\n",
       "      <td>4</td>\n",
       "      <td>3</td>\n",
       "      <td>20</td>\n",
       "      <td>1</td>\n",
       "      <td>20</td>\n",
       "      <td>2</td>\n",
       "      <td>normal</td>\n",
       "    </tr>\n",
       "    <tr>\n",
       "      <th>2</th>\n",
       "      <td>1</td>\n",
       "      <td>1506825426267738</td>\n",
       "      <td>1506825426000</td>\n",
       "      <td>2</td>\n",
       "      <td>235840</td>\n",
       "      <td>1506827017951</td>\n",
       "      <td>4</td>\n",
       "      <td>1</td>\n",
       "      <td>17</td>\n",
       "      <td>1</td>\n",
       "      <td>16</td>\n",
       "      <td>2</td>\n",
       "      <td>power_user</td>\n",
       "    </tr>\n",
       "    <tr>\n",
       "      <th>3</th>\n",
       "      <td>1</td>\n",
       "      <td>1506825426267738</td>\n",
       "      <td>1506825426000</td>\n",
       "      <td>2</td>\n",
       "      <td>96663</td>\n",
       "      <td>1506827047951</td>\n",
       "      <td>4</td>\n",
       "      <td>1</td>\n",
       "      <td>17</td>\n",
       "      <td>1</td>\n",
       "      <td>16</td>\n",
       "      <td>2</td>\n",
       "      <td>power_user</td>\n",
       "    </tr>\n",
       "    <tr>\n",
       "      <th>4</th>\n",
       "      <td>2</td>\n",
       "      <td>1506825435299739</td>\n",
       "      <td>1506825435000</td>\n",
       "      <td>2</td>\n",
       "      <td>119592</td>\n",
       "      <td>1506827090575</td>\n",
       "      <td>4</td>\n",
       "      <td>1</td>\n",
       "      <td>17</td>\n",
       "      <td>1</td>\n",
       "      <td>24</td>\n",
       "      <td>2</td>\n",
       "      <td>normal</td>\n",
       "    </tr>\n",
       "  </tbody>\n",
       "</table>\n",
       "</div>"
      ],
      "text/plain": [
       "   user_id        session_id  session_start  session_size  click_article_id  \\\n",
       "0        0  1506825423271737  1506825423000             2            157541   \n",
       "1        0  1506825423271737  1506825423000             2             68866   \n",
       "2        1  1506825426267738  1506825426000             2            235840   \n",
       "3        1  1506825426267738  1506825426000             2             96663   \n",
       "4        2  1506825435299739  1506825435000             2            119592   \n",
       "\n",
       "   click_timestamp click_environment click_deviceGroup click_os click_country  \\\n",
       "0    1506826828020                 4                 3       20             1   \n",
       "1    1506826858020                 4                 3       20             1   \n",
       "2    1506827017951                 4                 1       17             1   \n",
       "3    1506827047951                 4                 1       17             1   \n",
       "4    1506827090575                 4                 1       17             1   \n",
       "\n",
       "  click_region click_referrer_type user_status  \n",
       "0           20                   2      normal  \n",
       "1           20                   2      normal  \n",
       "2           16                   2  power_user  \n",
       "3           16                   2  power_user  \n",
       "4           24                   2      normal  "
      ]
     },
     "execution_count": 23,
     "metadata": {},
     "output_type": "execute_result"
    }
   ],
   "source": [
    "import numpy as np\n",
    "\n",
    "# 1. Recalculer le nombre de sessions par utilisateur\n",
    "sessions_per_user = df_clicks.groupby('user_id')['session_id'].nunique()\n",
    "\n",
    "# 2. Calcul du Q3 (seuil au-dessus duquel on considère un \"très consommateur\")\n",
    "q3 = sessions_per_user.quantile(0.75)\n",
    "\n",
    "# 3. Création d’un DataFrame avec le statut par utilisateur\n",
    "user_status = pd.DataFrame({\n",
    "    'user_id': sessions_per_user.index,\n",
    "    'nb_sessions': sessions_per_user.values,\n",
    "    'user_status': np.where(sessions_per_user > q3, 'power_user', 'normal')\n",
    "})\n",
    "\n",
    "# 4. Fusionner cette info avec df_clicks\n",
    "df_clicks = df_clicks.merge(user_status[['user_id', 'user_status']], on='user_id', how='left')\n",
    "df_clicks.head()"
   ]
  },
  {
   "cell_type": "markdown",
   "id": "a82f40b3-956c-4fe9-96f1-4feba0480005",
   "metadata": {},
   "source": [
    "### Nombre d'articles cliqués par session (pas de groupement par utilisateur, toutes les sessions sont comptées)"
   ]
  },
  {
   "cell_type": "code",
   "execution_count": 29,
   "id": "9899ac05-0877-42a9-8b72-a5b9b7f10873",
   "metadata": {},
   "outputs": [
    {
     "data": {
      "image/png": "[encoded data removed]",
      "text/plain": [
       "<Figure size 1000x400 with 1 Axes>"
      ]
     },
     "metadata": {},
     "output_type": "display_data"
    }
   ],
   "source": [
    "import seaborn as sns\n",
    "import matplotlib.pyplot as plt\n",
    "import numpy as np\n",
    "\n",
    "# 1. Nombre de clics par session\n",
    "clicks_per_session = df_clicks.groupby('session_id').size()\n",
    "\n",
    "# 2. Calcul des statistiques\n",
    "mean_clicks = clicks_per_session.mean()\n",
    "median_clicks = clicks_per_session.median()\n",
    "\n",
    "# 3. Affichage de la distribution\n",
    "plt.figure(figsize=(10, 4))\n",
    "sns.histplot(clicks_per_session, bins=50, kde=False, color='skyblue', log_scale=(True, False))\n",
    "\n",
    "# Lignes de moyenne (rouge pointillée) et médiane (verte)\n",
    "plt.axvline(mean_clicks, color='red', linestyle='--', label=f'Moyenne : {mean_clicks:.2f}')\n",
    "plt.axvline(median_clicks, color='green', linestyle='-', label=f'Médiane : {median_clicks:.2f}')\n",
    "\n",
    "# Titres, axes, légende\n",
    "plt.title(\"Distribution du nombre de clics par session\")\n",
    "plt.xlabel(\"Nombre de clics\")\n",
    "plt.ylabel(\"Nombre de sessions\")\n",
    "plt.grid(True, linestyle='--', alpha=0.5)\n",
    "plt.legend()\n",
    "plt.tight_layout()\n",
    "plt.show()\n"
   ]
  },
  {
   "cell_type": "code",
   "execution_count": 30,
   "id": "a19eb5e0-247a-438b-97de-f78c7dfda5c7",
   "metadata": {},
   "outputs": [
    {
     "data": {
      "image/png": "[encoded data removed]",
      "text/plain": [
       "<Figure size 1000x300 with 1 Axes>"
      ]
     },
     "metadata": {},
     "output_type": "display_data"
    }
   ],
   "source": [
    "import seaborn as sns\n",
    "import matplotlib.pyplot as plt\n",
    "import numpy as np\n",
    "\n",
    "# Nombre de clics par session\n",
    "clicks_per_session = df_clicks.groupby('session_id').size()\n",
    "\n",
    "# Moyenne et médiane\n",
    "mean_clicks = clicks_per_session.mean()\n",
    "median_clicks = clicks_per_session.median()\n",
    "\n",
    "# Affichage du boxplot\n",
    "plt.figure(figsize=(10, 3))\n",
    "sns.boxplot(x=clicks_per_session, color='skyblue', legend=\"full\")\n",
    "\n",
    "# Lignes pour la moyenne et la médiane\n",
    "plt.axvline(mean_clicks, color='red', linestyle='--', label=f'Moyenne : {mean_clicks:.2f}')\n",
    "plt.axvline(median_clicks, color='green', linestyle='-', label=f'Médiane : {median_clicks:.2f}')\n",
    "\n",
    "# Titres et légende\n",
    "plt.title(\"Boxplot du nombre de clics par session\")\n",
    "plt.xlabel(\"Nombre de clics\")\n",
    "plt.grid(True, axis='x', linestyle='--', alpha=0.6)\n",
    "plt.legend()\n",
    "plt.tight_layout()\n",
    "plt.show()\n"
   ]
  },
  {
   "cell_type": "markdown",
   "id": "5a90a608-b2bf-4bbf-90e1-bcc103f69584",
   "metadata": {},
   "source": [
    "### Distribution temporelle (on utilise df_profiling)"
   ]
  },
  {
   "cell_type": "code",
   "execution_count": null,
   "id": "31aff39d-83a3-4690-aa6c-451fb812813f",
   "metadata": {},
   "outputs": [],
   "source": [
    "df_profiling['click_timestamp_dt'].dt.hour.value_counts().sort_index().plot(kind='bar')\n"
   ]
  },
  {
   "cell_type": "code",
   "execution_count": null,
   "id": "57940cda-c373-426a-aa36-acf272a80fa3",
   "metadata": {},
   "outputs": [],
   "source": [
    "df_profiling['session_start_dt'].dt.hour.value_counts().sort_index().plot(kind='bar')"
   ]
  },
  {
   "cell_type": "markdown",
   "id": "46594789-54cb-465b-be04-891b1492e769",
   "metadata": {},
   "source": [
    "Les distributions ont des répartitions similaires, on va se concentrer sur les clics d'articles."
   ]
  },
  {
   "cell_type": "markdown",
   "id": "00b88fe2-6c58-4f62-8e6d-44023295a64e",
   "metadata": {},
   "source": [
    "### Nombre de clics"
   ]
  },
  {
   "cell_type": "code",
   "execution_count": null,
   "id": "c6febb42-4ceb-49dd-8af6-2959721657fc",
   "metadata": {},
   "outputs": [],
   "source": [
    "# Croisement jour/heure\n",
    "import seaborn as sns\n",
    "import matplotlib.pyplot as plt\n",
    "\n",
    "# Créer la table croisée\n",
    "heatmap_data = (\n",
    "    df_profiling\n",
    "    .groupby(['click_day', 'click_hour'])\n",
    "    .size()\n",
    "    .unstack(fill_value=0)\n",
    ")\n",
    "\n",
    "# Affichage heatmap\n",
    "plt.figure(figsize=(12, 5))\n",
    "sns.heatmap(heatmap_data, cmap=\"YlGnBu\", annot=False, fmt=\"d\")\n",
    "plt.title(\"Nombre de clics par jour de la semaine et heure\")\n",
    "plt.xlabel(\"Heure de la journée\")\n",
    "plt.ylabel(\"Jour de la semaine (0 = Lundi)\")\n",
    "plt.tight_layout()\n",
    "plt.show()\n"
   ]
  },
  {
   "cell_type": "markdown",
   "id": "0a31ae5c-108b-4eb4-a731-551e7d3c8f6f",
   "metadata": {},
   "source": [
    "## Caractéristiques des utilisateurs\n",
    "On va chercher des comportements qui peuvent caractériser l'intérêt des utilisateurs"
   ]
  },
  {
   "cell_type": "markdown",
   "id": "b5641f24-1020-4f5a-8722-7f7f633d975c",
   "metadata": {},
   "source": [
    "### Durée des sessions"
   ]
  },
  {
   "cell_type": "code",
   "execution_count": 34,
   "id": "9209943f-3fd3-4b56-aef1-a78c6506a0de",
   "metadata": {},
   "outputs": [
    {
     "name": "stdout",
     "output_type": "stream",
     "text": [
      "count    1.048594e+06\n",
      "mean     7.870476e+02\n",
      "std      5.667333e+03\n",
      "min      0.000000e+00\n",
      "25%      3.375725e+01\n",
      "50%      9.599100e+01\n",
      "75%      3.730305e+02\n",
      "max      1.030097e+06\n",
      "Name: delay_to_first_click_seconds, dtype: float64\n"
     ]
    },
    {
     "data": {
      "image/png": "[encoded data removed]",
      "text/plain": [
       "<Figure size 1000x500 with 1 Axes>"
      ]
     },
     "metadata": {},
     "output_type": "display_data"
    }
   ],
   "source": [
    "import pandas as pd\n",
    "import matplotlib.pyplot as plt\n",
    "import seaborn as sns\n",
    "\n",
    "# Conversion des timestamps en datetime (si ce n’est pas déjà fait)\n",
    "df_clicks[\"click_datetime\"] = pd.to_datetime(df_clicks[\"click_timestamp\"], unit=\"ms\")\n",
    "df_clicks[\"session_start_datetime\"] = pd.to_datetime(df_clicks[\"session_start\"], unit=\"ms\")\n",
    "\n",
    "# Identifier le premier clic par session\n",
    "first_clicks = (\n",
    "    df_clicks.sort_values(\"click_datetime\")\n",
    "    .groupby(\"session_id\")\n",
    "    .first()\n",
    ")\n",
    "\n",
    "# Calcul du délai entre le début de session et le premier clic\n",
    "first_clicks[\"delay_to_first_click_seconds\"] = (\n",
    "    (first_clicks[\"click_datetime\"] - first_clicks[\"session_start_datetime\"]).dt.total_seconds()\n",
    ")\n",
    "\n",
    "# Affichage de statistiques descriptives\n",
    "print(first_clicks[\"delay_to_first_click_seconds\"].describe())\n",
    "\n",
    "# Visualisation de la distribution\n",
    "plt.figure(figsize=(10, 5))\n",
    "sns.histplot(first_clicks[\"delay_to_first_click_seconds\"], bins=100, kde=True)\n",
    "plt.title(\"Temps entre le début de session et le premier clic\")\n",
    "plt.xlabel(\"Secondes\")\n",
    "plt.ylabel(\"Nombre de sessions\")\n",
    "plt.grid(True)\n",
    "plt.tight_layout()\n",
    "plt.show()\n"
   ]
  },
  {
   "cell_type": "code",
   "execution_count": 35,
   "id": "391ffb84-fc91-4402-9950-e7a1b0fa4a9c",
   "metadata": {},
   "outputs": [
    {
     "data": {
      "text/plain": [
       "4162"
      ]
     },
     "execution_count": 35,
     "metadata": {},
     "output_type": "execute_result"
    }
   ],
   "source": [
    "import gc\n",
    "gc.collect()"
   ]
  },
  {
   "cell_type": "code",
   "execution_count": 36,
   "id": "002d082b-9e8d-4446-8529-3fb495ff6971",
   "metadata": {},
   "outputs": [
    {
     "name": "stdout",
     "output_type": "stream",
     "text": [
      "count    1.008896e+06\n",
      "mean     1.009558e+03\n",
      "std      7.341976e+03\n",
      "min      3.000000e+01\n",
      "25%      8.656300e+01\n",
      "50%      2.444365e+02\n",
      "75%      7.798252e+02\n",
      "max      2.078702e+06\n",
      "Name: session_duration_seconds, dtype: float64\n"
     ]
    },
    {
     "data": {
      "image/png": "[encoded data removed]",
      "text/plain": [
       "<Figure size 1000x500 with 1 Axes>"
      ]
     },
     "metadata": {},
     "output_type": "display_data"
    }
   ],
   "source": [
    "# 2. Filtrage des sessions raisonnables (< 1h entre session_start et 1er clic)\n",
    "valid_session_ids = first_clicks[first_clicks[\"delay_to_first_click_seconds\"] < 3600].index\n",
    "df_valid_clicks = df_clicks[df_clicks[\"session_id\"].isin(valid_session_ids)].copy()\n",
    "\n",
    "# 3. Calcul de la durée de session = dernier clic - session_start\n",
    "session_durations = (\n",
    "    df_valid_clicks.groupby(\"session_id\")\n",
    "    .agg(session_start=(\"session_start_datetime\", \"first\"),\n",
    "         session_end=(\"click_datetime\", \"max\"))\n",
    ")\n",
    "session_durations[\"session_duration_seconds\"] = (\n",
    "    (session_durations[\"session_end\"] - session_durations[\"session_start\"]).dt.total_seconds()\n",
    ")\n",
    "\n",
    "# 4. Stats descriptives\n",
    "print(session_durations[\"session_duration_seconds\"].describe())\n",
    "\n",
    "# 5. Visualisation de la distribution\n",
    "import matplotlib.pyplot as plt\n",
    "import seaborn as sns\n",
    "\n",
    "plt.figure(figsize=(10, 5))\n",
    "sns.histplot(session_durations[\"session_duration_seconds\"], bins=100, kde=True)\n",
    "plt.title(\"Distribution des durées de session (en secondes)\")\n",
    "plt.xlabel(\"Durée de session\")\n",
    "plt.ylabel(\"Nombre de sessions\")\n",
    "plt.grid(True)\n",
    "plt.tight_layout()\n",
    "plt.show()"
   ]
  },
  {
   "cell_type": "code",
   "execution_count": null,
   "id": "4fbf06c7-aa8f-42eb-bf55-fa6ec30c8827",
   "metadata": {},
   "outputs": [],
   "source": [
    "# 1. Filtrer les sessions d'une durée < 2h\n",
    "filtered_sessions = session_durations[session_durations[\"session_duration_seconds\"] < 7200].copy()\n",
    "\n",
    "# 2. Nombre de clics par session\n",
    "click_counts = df_valid_clicks.groupby(\"session_id\").size().rename(\"nb_clicks\")\n",
    "\n",
    "# 3. Fusion durée + nombre de clics\n",
    "df_corr = filtered_sessions.join(click_counts, how=\"inner\")\n",
    "\n",
    "# 4. Corrélation de Spearman (non paramétrique)\n",
    "correlation = df_corr[\"session_duration_seconds\"].corr(df_corr[\"nb_clicks\"], method='spearman')\n",
    "print(f\"Corrélation de Spearman entre la durée de session et le nombre de clics : {correlation:.3f}\")\n",
    "\n",
    "# 5. Visualisation\n",
    "import matplotlib.pyplot as plt\n",
    "import seaborn as sns\n",
    "\n",
    "plt.figure(figsize=(10, 6))\n",
    "sns.scatterplot(data=df_corr, x=\"session_duration_seconds\", y=\"nb_clicks\", alpha=0.3)\n",
    "sns.regplot(data=df_corr, x=\"session_duration_seconds\", y=\"nb_clicks\", scatter=False, color=\"red\")\n",
    "plt.title(\"Durée de session vs Nombre de clics (sessions < 2h)\")\n",
    "plt.xlabel(\"Durée de session (secondes)\")\n",
    "plt.ylabel(\"Nombre de clics\")\n",
    "plt.grid(True)\n",
    "plt.tight_layout()\n",
    "plt.show()\n"
   ]
  },
  {
   "cell_type": "markdown",
   "id": "43ffd002-6454-4326-af95-a58488236bdc",
   "metadata": {},
   "source": [
    "La durée de session seule ne suffit pas à prédire l’engagement, mais elle est clairement informative.On poura éventuellement l'utiliser comme feature, mais aussi pour segmenter les comportements:<br>\n",
    "- utilisateurs courts et peu actifs\n",
    "- utilisateur courts cliquant beaucoup\n",
    "- utilisateurs longs et actifs etc...<br>\n",
    "\n",
    "Note: Pourquoi Spearman ? Mesure la relation monotone entre deux variables sans faire d’hypothèse sur leur distribution. C’est plus robuste si ta variable (durée ou clics) est asymétrique ou contient des outliers. Pearson fait l'hypothèse des distributions suivant une loi normale."
   ]
  },
  {
   "cell_type": "markdown",
   "id": "b9a481a7-8ee0-4937-a824-af6c8d42dcd5",
   "metadata": {},
   "source": [
    "### Fréquence des clics"
   ]
  },
  {
   "cell_type": "code",
   "execution_count": 38,
   "id": "bd1ecdc8-e28d-4e6d-ae48-0d6e09261e1b",
   "metadata": {},
   "outputs": [],
   "source": [
    "# Assure-toi d'avoir les colonnes datetime prêtes\n",
    "df_clicks[\"click_datetime\"] = pd.to_datetime(df_clicks[\"click_timestamp\"], unit=\"ms\")"
   ]
  },
  {
   "cell_type": "code",
   "execution_count": null,
   "id": "e11b02e1-18d8-471c-a681-b8f59af7dedf",
   "metadata": {},
   "outputs": [],
   "source": [
    "# Trier les clics dans chaque session\n",
    "df_clicks_sorted = df_clicks.sort_values([\"session_id\", \"click_datetime\"]).copy()\n",
    "\n",
    "# Calcul de la différence entre chaque clic successif\n",
    "df_clicks_sorted[\"inter_click_delay\"] = (\n",
    "    df_clicks_sorted.groupby(\"session_id\")[\"click_datetime\"].diff().dt.total_seconds()\n",
    ")\n",
    "\n",
    "# Supprimer les NaN (1er clic de chaque session)\n",
    "delays = df_clicks_sorted[\"inter_click_delay\"].dropna()\n",
    "\n",
    "# Statistiques descriptives\n",
    "print(delays.describe())\n",
    "\n",
    "# Visualisation de la distribution\n",
    "import matplotlib.pyplot as plt\n",
    "import seaborn as sns\n",
    "\n",
    "plt.figure(figsize=(10, 5))\n",
    "sns.histplot(delays, bins=100, kde=True)\n",
    "plt.title(\"Distribution du temps entre deux clics successifs (en secondes)\")\n",
    "plt.xlabel(\"Secondes\")\n",
    "plt.ylabel(\"Nombre de clics\")\n",
    "plt.grid(True)\n",
    "plt.tight_layout()\n",
    "plt.show()"
   ]
  },
  {
   "cell_type": "code",
   "execution_count": null,
   "id": "bfdd47fc-fb77-43c6-ab04-3a0f99120afd",
   "metadata": {},
   "outputs": [],
   "source": [
    "import matplotlib.pyplot as plt\n",
    "import seaborn as sns\n",
    "import numpy as np\n",
    "\n",
    "# Calculs de la moyenne et de la médiane\n",
    "mean_delay = delays.mean()\n",
    "median_delay = delays.median()\n",
    "\n",
    "# Affichage du boxplot\n",
    "plt.figure(figsize=(10, 3))\n",
    "sns.boxplot(x=delays, color='lightblue')\n",
    "\n",
    "# Lignes moyenne (rouge) et médiane (verte)\n",
    "plt.axvline(mean_delay, color='red', linestyle='--', label=f'Moyenne : {mean_delay:.2f} s')\n",
    "plt.axvline(median_delay, color='green', linestyle='-', label=f'Médiane : {median_delay:.2f} s')\n",
    "\n",
    "# Titre, axes, légende\n",
    "plt.title(\"Boxplot du temps entre deux clics successifs\")\n",
    "plt.xlabel(\"Délai entre clics (secondes)\")\n",
    "plt.grid(True, axis='x', linestyle='--', alpha=0.5)\n",
    "plt.legend()\n",
    "plt.tight_layout()\n",
    "plt.show()\n"
   ]
  },
  {
   "cell_type": "markdown",
   "id": "54502423-d293-48ba-8015-e53335376587",
   "metadata": {},
   "source": [
    "Le maximum correspond à peu près à la durée pendant laquelle les clicks ont été suivis, ce qui fait penser à des problèmes de fermeture de session."
   ]
  },
  {
   "cell_type": "code",
   "execution_count": null,
   "id": "6441a344-6f09-4b6a-b33c-633ac33f6bbe",
   "metadata": {},
   "outputs": [],
   "source": [
    "delays_sorted = delays.sort_values(ascending=False)\n",
    "print(delays_sorted.head(10))"
   ]
  },
  {
   "cell_type": "code",
   "execution_count": null,
   "id": "9e1c5b32-2f62-4de2-9a08-c99b2c511b24",
   "metadata": {},
   "outputs": [],
   "source": [
    "# 1. Suppression des valeurs extrêmes (> 10 min = 600s)\n",
    "filtered_delays = delays[delays <= 600]\n",
    "\n",
    "# 2. Nouvelles statistiques\n",
    "print(\"Stats après filtrage (< 10 minutes) :\")\n",
    "print(filtered_delays.describe())\n",
    "\n",
    "# 3. Visualisation propre\n",
    "import matplotlib.pyplot as plt\n",
    "import seaborn as sns\n",
    "\n",
    "plt.figure(figsize=(10, 5))\n",
    "sns.histplot(filtered_delays, bins=60, kde=True)\n",
    "plt.title(\"Distribution du temps entre deux clics successifs (≤ 10 min)\")\n",
    "plt.xlabel(\"Secondes\")\n",
    "plt.ylabel(\"Nombre de clics\")\n",
    "plt.grid(True)\n",
    "plt.tight_layout()\n",
    "plt.show()\n"
   ]
  },
  {
   "cell_type": "markdown",
   "id": "7d2a3c5c-6850-4e59-b1df-d37191bb999b",
   "metadata": {},
   "source": [
    "En enlevant les sessions non fermées on arrive à une valeur \"standard\" de lecture d'un article qui semble cohérente. Il va falloir soit filtrer soit trouver un moyen de ne pas prendre en compte ces durées entre clics qui sont certainement des erreurs de déconnexion."
   ]
  },
  {
   "cell_type": "markdown",
   "id": "455c3b16-c93c-42ff-bbf9-95a22c30b061",
   "metadata": {},
   "source": [
    "### Appréciation des articles\n",
    "Il n'y a pas de rating explicite, le fait de cliquer est une appréciation."
   ]
  },
  {
   "cell_type": "code",
   "execution_count": null,
   "id": "63d8b086-461e-484b-bf45-3c5a20a01cc8",
   "metadata": {},
   "outputs": [],
   "source": [
    "import matplotlib.pyplot as plt\n",
    "from sklearn.cluster import KMeans\n",
    "from sklearn.preprocessing import StandardScaler\n",
    "import matplotlib.patches as mpatches\n",
    "import matplotlib.cm as cm\n",
    "import numpy as np\n",
    "\n",
    "# --- Étape 1 : Clustering complet sur tous les embeddings ---\n",
    "scaler = StandardScaler()\n",
    "embeddings_scaled = scaler.fit_transform(embeddings)\n",
    "kmeans_15 = KMeans(n_clusters=15, random_state=42, n_init='auto')\n",
    "cluster_labels_15 = kmeans_15.fit_predict(embeddings_scaled)\n",
    "\n",
    "# --- Étape 2 : Ajouter les clusters aux embeddings ---\n",
    "df_clusters = pd.DataFrame({\n",
    "    'article_id': embeddings.index,\n",
    "    'cluster_15': cluster_labels_15\n",
    "})\n",
    "\n",
    "# --- Étape 3 : Popularité des articles ---\n",
    "popularite_articles = df_clicks['click_article_id'].value_counts().reset_index()\n",
    "popularite_articles.columns = ['article_id', 'nombre_de_clics']\n",
    "\n",
    "# --- Étape 4 : Top 50 articles les plus populaires avec cluster ---\n",
    "top_n = 50\n",
    "top_articles = popularite_articles.head(top_n)\n",
    "top_articles = top_articles.merge(df_clusters, on='article_id', how='left')\n",
    "\n",
    "# --- Étape 5 : Couleurs pour les clusters ---\n",
    "cmap = cm.get_cmap('tab20', 15)\n",
    "top_articles['color'] = top_articles['cluster_15'].apply(lambda x: cmap(x))\n",
    "\n",
    "# --- Étape 6 : Légende triée par nombre d'articles décroissant ---\n",
    "cluster_counts = top_articles['cluster_15'].value_counts().sort_values(ascending=False)\n",
    "legend_patches = [\n",
    "    mpatches.Patch(color=cmap(cluster), label=f'Cluster {cluster} ({count})')\n",
    "    for cluster, count in cluster_counts.items()\n",
    "]\n",
    "\n",
    "# --- Étape 7 : Tracé ---\n",
    "plt.figure(figsize=(14, 6))\n",
    "plt.bar(top_articles['article_id'].astype(str), top_articles['nombre_de_clics'], color=top_articles['color'])\n",
    "plt.title(f'Top {top_n} articles les plus populaires (colorés par cluster)')\n",
    "plt.xlabel(\"ID de l'article\")\n",
    "plt.ylabel(\"Nombre de clics\")\n",
    "plt.xticks(rotation=45)\n",
    "plt.legend(handles=legend_patches, title=\"Clusters (dans top 50)\", bbox_to_anchor=(1.05, 1), loc='upper left')\n",
    "plt.tight_layout()\n",
    "plt.show()\n"
   ]
  },
  {
   "cell_type": "markdown",
   "id": "3499c7c5-982f-40e4-8b1d-1830adc02d89",
   "metadata": {},
   "source": [
    "On ne détecte pas de cluster notablement plus populaire que les autres."
   ]
  },
  {
   "cell_type": "code",
   "execution_count": null,
   "id": "74c366d1-75f7-4e45-9f08-bcb20d630a78",
   "metadata": {},
   "outputs": [],
   "source": [
    "import numpy as np\n",
    "import matplotlib.pyplot as plt\n",
    "\n",
    "# Comptage des clics pour chaque article\n",
    "popularite_articles = df_clicks['click_article_id'].value_counts()\n",
    "\n",
    "plt.figure(figsize=(10, 6))\n",
    "plt.hist(popularite_articles, bins=100, color='steelblue', edgecolor='black')\n",
    "plt.yscale('log')  # Pour voir les articles peu cliqués\n",
    "plt.xlabel(\"Nombre de clics par article\")\n",
    "plt.ylabel(\"Nombre d'articles (échelle log)\")\n",
    "plt.title(\"Distribution du nombre de clics par article\")\n",
    "plt.tight_layout()\n",
    "plt.show()"
   ]
  },
  {
   "cell_type": "code",
   "execution_count": null,
   "id": "2e0dd6bd-f0f5-4c1e-abdc-40f50501492e",
   "metadata": {},
   "outputs": [],
   "source": [
    "import numpy as np\n",
    "import matplotlib.pyplot as plt\n",
    "\n",
    "# Comptage des clics par article (déjà sans les articles à zéro clic)\n",
    "popularite_articles = df_clicks['click_article_id'].value_counts()\n",
    "data = popularite_articles.to_numpy()\n",
    "\n",
    "# Calcul des statistiques\n",
    "mean_val = np.mean(data)\n",
    "median_val = np.median(data)\n",
    "q3 = np.percentile(data, 75)\n",
    "\n",
    "# Tracé du boxplot\n",
    "plt.figure(figsize=(12, 2.5))\n",
    "plt.boxplot(data, vert=False, patch_artist=True, showmeans=True,\n",
    "            meanline=True, boxprops=dict(facecolor='lightblue'))\n",
    "\n",
    "plt.title(\"Boxplot du nombre de clics par article (articles cliqués uniquement)\")\n",
    "plt.xlabel(\"Nombre de clics\")\n",
    "\n",
    "# Annoter les valeurs\n",
    "plt.axvline(mean_val, color='red', linestyle='--', label=f'Moyenne = {mean_val:.1f}')\n",
    "plt.axvline(median_val, color='orange', linestyle='-', label=f'Médiane = {median_val:.0f}')\n",
    "plt.axvline(q3, color='green', linestyle='--', label=f\"Q3 = {q3:.0f}\")\n",
    "plt.legend(loc='upper right')\n",
    "plt.tight_layout()\n",
    "plt.show()\n"
   ]
  },
  {
   "cell_type": "markdown",
   "id": "ec76705e-fee3-4d1b-951e-b5acd3e25212",
   "metadata": {},
   "source": [
    "🔍 Lecture du boxplot :\n",
    "Médiane = 1 :<br>\n",
    "➤ Plus de 50 % des articles cliqués ne l'ont été qu'une seule fois → c’est ultra asymétrique !<br>\n",
    "Q3 = 6 :<br>\n",
    "➤ 75 % des articles cliqués ont reçu 6 clics ou moins.<br>\n",
    "Moyenne = 64.9 :<br>\n",
    "➤ Très au-dessus de la médiane, signe clair que quelques articles très populaires tirent la moyenne vers le haut.<br>\n",
    "Présence de nombreux outliers :<br>\n",
    "➤ Les cercles à droite (jusqu’à 36 000+) sont des articles exceptionnellement populaires – loi de puissance (long tail) typique des contenus."
   ]
  },
  {
   "cell_type": "markdown",
   "id": "bdebc769-1042-49ec-b773-110a0a2cc3d6",
   "metadata": {},
   "source": [
    "📊 Interprétation stratégique :<br>\n",
    "✔️ La majorité du contenu est peu consommé, ce qui est très courant dans les plateformes de contenu : quelques hits attirent tout le trafic.<br>\n",
    "📈 Une stratégie de recommandation doit corriger cette inégalité :<br>\n",
    "En valorisant les articles pertinents peu vus,<br>\n",
    "En évitant de recommander uniquement les \"blockbusters\"."
   ]
  },
  {
   "cell_type": "code",
   "execution_count": null,
   "id": "622b78ae-922e-45a6-b524-7314d43f124a",
   "metadata": {},
   "outputs": [],
   "source": [
    "#### Identification des articles star\n",
    "import numpy as np\n",
    "import pandas as pd\n",
    "\n",
    "# Étape 1 : Popularité brute (clics par article)\n",
    "popularite_articles = df_clicks['click_article_id'].value_counts()\n",
    "data = popularite_articles.to_numpy()\n",
    "\n",
    "# Étape 2 : Calcul des bornes des outliers supérieurs\n",
    "q1 = np.percentile(data, 25)\n",
    "q3 = np.percentile(data, 75)\n",
    "iqr = q3 - q1\n",
    "seuil_star = q3 + 1.5 * iqr\n",
    "\n",
    "# Étape 3 : Sélection des articles stars\n",
    "articles_stars = popularite_articles[popularite_articles > seuil_star]\n",
    "df_articles_stars = articles_stars.reset_index()\n",
    "df_articles_stars.columns = ['article_id', 'nb_clics']\n",
    "\n",
    "# Optionnel : tri décroissant\n",
    "df_articles_stars = df_articles_stars.sort_values(by='nb_clics', ascending=False)\n",
    "\n",
    "# Affichage\n",
    "print(f\"{len(df_articles_stars)} articles détectés comme 'stars' (clics > {int(seuil_star)})\")\n",
    "import pandas as pd\n",
    "df_articles_stars.head(10)\n"
   ]
  },
  {
   "cell_type": "code",
   "execution_count": 39,
   "id": "796494e9-f0c4-4b3b-b0c0-ff527716b527",
   "metadata": {},
   "outputs": [],
   "source": [
    "import numpy as np\n",
    "import pandas as pd\n",
    "from sklearn.preprocessing import MinMaxScaler\n",
    "\n",
    "# Étape 1 : Nombre de clics par article\n",
    "popularite_articles = df_clicks['click_article_id'].value_counts()\n",
    "popularite_articles.name = 'nb_clics'\n",
    "\n",
    "# Étape 2 : Détection des bornes \"star\"\n",
    "q1 = np.percentile(popularite_articles.values, 25)\n",
    "q3 = np.percentile(popularite_articles.values, 75)\n",
    "iqr = q3 - q1\n",
    "seuil_star = q3 + 1.5 * iqr\n",
    "\n",
    "# Étape 3 : Merge avec df_articles, remplacer NaN par 0\n",
    "df_articles = df_articles.copy()\n",
    "df_articles = df_articles.merge(popularite_articles, how='left', left_on='article_id', right_index=True)\n",
    "df_articles['nb_clics'] = df_articles['nb_clics'].fillna(0).astype(int)\n",
    "\n",
    "# Étape 4 : Ajout du tag de popularité\n",
    "def tag_popularite(nb_clics):\n",
    "    if nb_clics == 0:\n",
    "        return \"jamais_cliqué\"\n",
    "    elif nb_clics > seuil_star:\n",
    "        return \"star\"\n",
    "    else:\n",
    "        return \"banal\"\n",
    "\n",
    "df_articles['popularite_tag'] = df_articles['nb_clics'].apply(tag_popularite)\n",
    "\n",
    "# Étape 5 : Normalisation des nb_clics\n",
    "scaler = MinMaxScaler()\n",
    "df_articles['popularity_norm'] = scaler.fit_transform(df_articles[['nb_clics']])\n"
   ]
  },
  {
   "cell_type": "code",
   "execution_count": 41,
   "id": "12137cbb-1453-487a-90fa-7468c6f4a74e",
   "metadata": {},
   "outputs": [],
   "source": [
    "# Sauvegarde dans un fichier CSV\n",
    "df_articles.to_csv(\"./data/articles_with_popularity.csv\", index=False)"
   ]
  },
  {
   "cell_type": "markdown",
   "id": "f33781e2-fad9-402a-aa32-3ef344ef7815",
   "metadata": {},
   "source": [
    "## Variables de contexte (environment, device, os, country, region, referrer_type)"
   ]
  },
  {
   "cell_type": "markdown",
   "id": "5777c4d5-98dc-4831-adfa-174c8a9636ab",
   "metadata": {},
   "source": [
    "## Variation du contexte par session"
   ]
  },
  {
   "cell_type": "code",
   "execution_count": null,
   "id": "8a900d11-d681-479d-8099-79c5ebe7dce1",
   "metadata": {},
   "outputs": [],
   "source": [
    "cols_to_check = [\n",
    "    'click_environment', 'click_deviceGroup', 'click_os',\n",
    "    'click_country', 'click_region', 'click_referrer_type'\n",
    "]\n",
    "\n",
    "# On calcule le nombre de valeurs uniques par colonne pour chaque session\n",
    "context_change = df_clicks.groupby('session_id')[cols_to_check].nunique()\n",
    "\n",
    "# Identifier pour chaque colonne combien de sessions ont plus d'une valeur (donc un changement)\n",
    "changing_columns = (context_change > 1).sum().sort_values(ascending=False)\n",
    "\n",
    "print(\"Nombre de sessions où la variable change :\")\n",
    "print(changing_columns)\n"
   ]
  },
  {
   "cell_type": "markdown",
   "id": "f52bd1b0-d406-40cd-bf96-0a04b120d464",
   "metadata": {},
   "source": [
    "referrer_type peut changer souvent car au cours de la navigation l'origine du click varie (depuis une recommandation , un carouseel, etc..), sinon les autres variantes sont globalement stables au cours d'une même session."
   ]
  },
  {
   "cell_type": "markdown",
   "id": "8ab0657f-30cd-463a-ab3f-65b780d54257",
   "metadata": {},
   "source": [
    "## Variations globales des variables de contexte"
   ]
  },
  {
   "cell_type": "code",
   "execution_count": null,
   "id": "f216f2cb-339c-4b74-95d5-8409802328d3",
   "metadata": {},
   "outputs": [],
   "source": [
    "import matplotlib.pyplot as plt\n",
    "import numpy as np\n",
    "\n",
    "# Variables de contexte à analyser\n",
    "context_cols = [\n",
    "    'click_environment', 'click_deviceGroup', 'click_os',\n",
    "    'click_country', 'click_region', 'click_referrer_type'\n",
    "]\n",
    "\n",
    "# Paramètres de mise en page\n",
    "n_cols = 2\n",
    "n_rows = int(np.ceil(len(context_cols) / n_cols))\n",
    "\n",
    "# Création des subplots\n",
    "fig, axes = plt.subplots(n_rows, n_cols, figsize=(14, n_rows * 4))\n",
    "axes = axes.flatten()\n",
    "\n",
    "# Boucle sur chaque variable pour tracer les barplots\n",
    "for idx, col in enumerate(context_cols):\n",
    "    df_clicks[col].value_counts().sort_index().plot(kind='bar', ax=axes[idx], color='orange')\n",
    "    axes[idx].set_title(f\"Distribution de {col}\")\n",
    "    axes[idx].set_xlabel(col)\n",
    "    axes[idx].set_ylabel(\"Fréquence\")\n",
    "    axes[idx].tick_params(axis='x', rotation=45)\n",
    "\n",
    "# Masquer les axes inutilisés s'il y en a\n",
    "for ax in axes[len(context_cols):]:\n",
    "    ax.axis('off')\n",
    "\n",
    "plt.tight_layout()\n",
    "plt.show()\n"
   ]
  },
  {
   "cell_type": "markdown",
   "id": "255fe3bb-22ce-4c1a-b615-3f551de8ffc9",
   "metadata": {},
   "source": [
    "## Variations des variables de contexte par rapport au nombre de clics"
   ]
  },
  {
   "cell_type": "code",
   "execution_count": null,
   "id": "ee7274ca-0618-4bd4-81cb-313de5418585",
   "metadata": {},
   "outputs": [],
   "source": [
    "# Ajouter session_size à récupérer aussi\n",
    "cols = [\n",
    "    'session_size',  # nombre de clics dans la session\n",
    "    'click_environment', 'click_deviceGroup', 'click_os',\n",
    "    'click_country', 'click_region', 'click_referrer_type'\n",
    "]\n",
    "\n",
    "# Prendre la première ligne de chaque session pour ces colonnes\n",
    "df_session_summary = df_clicks.groupby('session_id')[cols].first().reset_index()\n",
    "\n",
    "# Affichage\n",
    "print(df_session_summary.head())\n"
   ]
  },
  {
   "cell_type": "code",
   "execution_count": null,
   "id": "e4d8dec7-25b4-4619-b23f-8a28cab2df54",
   "metadata": {},
   "outputs": [],
   "source": [
    "import pandas as pd\n",
    "import numpy as np\n",
    "import seaborn as sns\n",
    "import matplotlib.pyplot as plt\n",
    "from scipy.stats import spearmanr\n",
    "\n",
    "# Colonnes de contexte à analyser\n",
    "context_cols = [\n",
    "    'click_environment', 'click_deviceGroup', 'click_os',\n",
    "    'click_country', 'click_region', 'click_referrer_type'\n",
    "]\n",
    "\n",
    "# Regrouper par session pour extraire une seule valeur par session\n",
    "cols = ['session_size'] + context_cols\n",
    "df_session_summary = df_clicks.groupby('session_id')[cols].first().reset_index()\n",
    "\n",
    "# Calcul du 95e percentile pour ne pas écraser les plots à cause des outliers\n",
    "ymax = df_session_summary['session_size'].quantile(0.95)\n",
    "\n",
    "# Initialisation des résultats Spearman\n",
    "spearman_results = {}\n",
    "\n",
    "# Plot setup\n",
    "n_cols = 2\n",
    "n_rows = int(np.ceil(len(context_cols) / n_cols))\n",
    "fig, axes = plt.subplots(n_rows, n_cols, figsize=(14, n_rows * 4))\n",
    "axes = axes.flatten()\n",
    "\n",
    "for idx, col in enumerate(context_cols):\n",
    "    # Corrélation de Spearman\n",
    "    encoded_col = df_session_summary[col].astype('category').cat.codes\n",
    "    corr, pval = spearmanr(encoded_col, df_session_summary['session_size'])\n",
    "    spearman_results[col] = {'spearman_rho': corr, 'p_value': pval}\n",
    "    \n",
    "    # Violin plot avec limite Y\n",
    "    sns.violinplot(data=df_session_summary, x=col, y='session_size', ax=axes[idx])\n",
    "    axes[idx].set_title(f\"{col} (ρ = {corr:.2f}, p = {pval:.2e})\")\n",
    "    axes[idx].set_ylim(0, ymax)\n",
    "    axes[idx].tick_params(axis='x', rotation=45)\n",
    "\n",
    "# Enlever les axes vides si pas besoin\n",
    "for ax in axes[len(context_cols):]:\n",
    "    ax.axis('off')\n",
    "\n",
    "plt.tight_layout()\n",
    "plt.show()\n",
    "\n",
    "# Affichage des corrélations triées\n",
    "pd.DataFrame(spearman_results).T.sort_values('spearman_rho', key=abs, ascending=False)\n"
   ]
  },
  {
   "cell_type": "markdown",
   "id": "2ca5bb3d-c612-4032-823f-017efc80e59d",
   "metadata": {},
   "source": [
    "🧠 Interprétation :\n",
    "\n",
    "Effet global très faible sur session_size ➜ aucune variable n’explique clairement l’engagement.\n",
    "\n",
    "Les trois plus \"informatives\" sont click_deviceGroup, click_os et click_referrer_type mais avec des corrélations < 0.12 → pas exploitables directement pour prédire.\n",
    "\n",
    "La taille du dataset rend les p-values très petites, mais ρ (rho) est ce qui compte ici, et ils sont faibles."
   ]
  },
  {
   "cell_type": "markdown",
   "id": "e0ce9e8c-9376-4245-837c-74b5d5146606",
   "metadata": {},
   "source": [
    "# Dataframe final pour modélisation\n",
    "On va créer un dataframe structuré par interaction utilisateur-article enrichi avec:<br>\n",
    "✅ infos utilisateur\n",
    "✅ infos article (métadonnées + embedding réduit)\n",
    "✅ timestamp (pour du tri ou du filtrage temporel)"
   ]
  },
  {
   "cell_type": "code",
   "execution_count": 42,
   "id": "6aa83219-ff6c-4f4a-bdf0-b47b8a00a8d9",
   "metadata": {},
   "outputs": [
    {
     "data": {
      "text/plain": [
       "(364047, 51)"
      ]
     },
     "execution_count": 42,
     "metadata": {},
     "output_type": "execute_result"
    }
   ],
   "source": [
    "# Etape 1: joindre les embeddings réduits et les articles\n",
    "df_articles_full = df_articles.merge(embeddings_pca_df, left_on='article_id', right_index=True)\n",
    "df_articles_full.shape"
   ]
  },
  {
   "cell_type": "code",
   "execution_count": 43,
   "id": "25edf8fe-be3b-47dc-b2b1-36d20e4aea04",
   "metadata": {},
   "outputs": [],
   "source": [
    "df_final = df_clicks.merge(df_articles_full, left_on='click_article_id', right_on='article_id')"
   ]
  },
  {
   "cell_type": "code",
   "execution_count": 48,
   "id": "c8e9f4c2-5b48-46bc-8d8a-c8447a230f81",
   "metadata": {},
   "outputs": [
    {
     "data": {
      "text/html": [
       "<div>\n",
       "<style scoped>\n",
       "    .dataframe tbody tr th:only-of-type {\n",
       "        vertical-align: middle;\n",
       "    }\n",
       "\n",
       "    .dataframe tbody tr th {\n",
       "        vertical-align: top;\n",
       "    }\n",
       "\n",
       "    .dataframe thead th {\n",
       "        text-align: right;\n",
       "    }\n",
       "</style>\n",
       "<table border=\"1\" class=\"dataframe\">\n",
       "  <thead>\n",
       "    <tr style=\"text-align: right;\">\n",
       "      <th></th>\n",
       "      <th>user_id</th>\n",
       "      <th>session_id</th>\n",
       "      <th>session_start</th>\n",
       "      <th>session_size</th>\n",
       "      <th>click_article_id</th>\n",
       "      <th>click_timestamp</th>\n",
       "      <th>click_environment</th>\n",
       "      <th>click_deviceGroup</th>\n",
       "      <th>click_os</th>\n",
       "      <th>click_country</th>\n",
       "      <th>...</th>\n",
       "      <th>31</th>\n",
       "      <th>32</th>\n",
       "      <th>33</th>\n",
       "      <th>34</th>\n",
       "      <th>35</th>\n",
       "      <th>36</th>\n",
       "      <th>37</th>\n",
       "      <th>38</th>\n",
       "      <th>39</th>\n",
       "      <th>40</th>\n",
       "    </tr>\n",
       "  </thead>\n",
       "  <tbody>\n",
       "    <tr>\n",
       "      <th>0</th>\n",
       "      <td>0</td>\n",
       "      <td>1506825423271737</td>\n",
       "      <td>1506825423000</td>\n",
       "      <td>2</td>\n",
       "      <td>157541</td>\n",
       "      <td>1506826828020</td>\n",
       "      <td>4</td>\n",
       "      <td>3</td>\n",
       "      <td>20</td>\n",
       "      <td>1</td>\n",
       "      <td>...</td>\n",
       "      <td>-0.321467</td>\n",
       "      <td>0.910171</td>\n",
       "      <td>0.413014</td>\n",
       "      <td>-0.680843</td>\n",
       "      <td>-0.418416</td>\n",
       "      <td>0.526436</td>\n",
       "      <td>0.305626</td>\n",
       "      <td>-0.307790</td>\n",
       "      <td>-0.606359</td>\n",
       "      <td>-0.650552</td>\n",
       "    </tr>\n",
       "    <tr>\n",
       "      <th>1</th>\n",
       "      <td>20</td>\n",
       "      <td>1506825727279757</td>\n",
       "      <td>1506825727000</td>\n",
       "      <td>2</td>\n",
       "      <td>157541</td>\n",
       "      <td>1506836548634</td>\n",
       "      <td>4</td>\n",
       "      <td>1</td>\n",
       "      <td>17</td>\n",
       "      <td>1</td>\n",
       "      <td>...</td>\n",
       "      <td>-0.321467</td>\n",
       "      <td>0.910171</td>\n",
       "      <td>0.413014</td>\n",
       "      <td>-0.680843</td>\n",
       "      <td>-0.418416</td>\n",
       "      <td>0.526436</td>\n",
       "      <td>0.305626</td>\n",
       "      <td>-0.307790</td>\n",
       "      <td>-0.606359</td>\n",
       "      <td>-0.650552</td>\n",
       "    </tr>\n",
       "    <tr>\n",
       "      <th>2</th>\n",
       "      <td>44</td>\n",
       "      <td>1506826139185781</td>\n",
       "      <td>1506826139000</td>\n",
       "      <td>5</td>\n",
       "      <td>157541</td>\n",
       "      <td>1506857278141</td>\n",
       "      <td>4</td>\n",
       "      <td>1</td>\n",
       "      <td>17</td>\n",
       "      <td>1</td>\n",
       "      <td>...</td>\n",
       "      <td>-0.321467</td>\n",
       "      <td>0.910171</td>\n",
       "      <td>0.413014</td>\n",
       "      <td>-0.680843</td>\n",
       "      <td>-0.418416</td>\n",
       "      <td>0.526436</td>\n",
       "      <td>0.305626</td>\n",
       "      <td>-0.307790</td>\n",
       "      <td>-0.606359</td>\n",
       "      <td>-0.650552</td>\n",
       "    </tr>\n",
       "    <tr>\n",
       "      <th>3</th>\n",
       "      <td>45</td>\n",
       "      <td>1506826142324782</td>\n",
       "      <td>1506826142000</td>\n",
       "      <td>2</td>\n",
       "      <td>157541</td>\n",
       "      <td>1506827309970</td>\n",
       "      <td>4</td>\n",
       "      <td>1</td>\n",
       "      <td>17</td>\n",
       "      <td>1</td>\n",
       "      <td>...</td>\n",
       "      <td>-0.321467</td>\n",
       "      <td>0.910171</td>\n",
       "      <td>0.413014</td>\n",
       "      <td>-0.680843</td>\n",
       "      <td>-0.418416</td>\n",
       "      <td>0.526436</td>\n",
       "      <td>0.305626</td>\n",
       "      <td>-0.307790</td>\n",
       "      <td>-0.606359</td>\n",
       "      <td>-0.650552</td>\n",
       "    </tr>\n",
       "    <tr>\n",
       "      <th>4</th>\n",
       "      <td>76</td>\n",
       "      <td>1506826463226813</td>\n",
       "      <td>1506826463000</td>\n",
       "      <td>2</td>\n",
       "      <td>157541</td>\n",
       "      <td>1506828823469</td>\n",
       "      <td>4</td>\n",
       "      <td>3</td>\n",
       "      <td>2</td>\n",
       "      <td>1</td>\n",
       "      <td>...</td>\n",
       "      <td>-0.321467</td>\n",
       "      <td>0.910171</td>\n",
       "      <td>0.413014</td>\n",
       "      <td>-0.680843</td>\n",
       "      <td>-0.418416</td>\n",
       "      <td>0.526436</td>\n",
       "      <td>0.305626</td>\n",
       "      <td>-0.307790</td>\n",
       "      <td>-0.606359</td>\n",
       "      <td>-0.650552</td>\n",
       "    </tr>\n",
       "    <tr>\n",
       "      <th>...</th>\n",
       "      <td>...</td>\n",
       "      <td>...</td>\n",
       "      <td>...</td>\n",
       "      <td>...</td>\n",
       "      <td>...</td>\n",
       "      <td>...</td>\n",
       "      <td>...</td>\n",
       "      <td>...</td>\n",
       "      <td>...</td>\n",
       "      <td>...</td>\n",
       "      <td>...</td>\n",
       "      <td>...</td>\n",
       "      <td>...</td>\n",
       "      <td>...</td>\n",
       "      <td>...</td>\n",
       "      <td>...</td>\n",
       "      <td>...</td>\n",
       "      <td>...</td>\n",
       "      <td>...</td>\n",
       "      <td>...</td>\n",
       "      <td>...</td>\n",
       "    </tr>\n",
       "    <tr>\n",
       "      <th>2988176</th>\n",
       "      <td>195186</td>\n",
       "      <td>1508210422411129</td>\n",
       "      <td>1508210422000</td>\n",
       "      <td>4</td>\n",
       "      <td>2221</td>\n",
       "      <td>1508210469562</td>\n",
       "      <td>4</td>\n",
       "      <td>3</td>\n",
       "      <td>2</td>\n",
       "      <td>1</td>\n",
       "      <td>...</td>\n",
       "      <td>-0.976228</td>\n",
       "      <td>-0.498757</td>\n",
       "      <td>-1.039714</td>\n",
       "      <td>0.702689</td>\n",
       "      <td>1.522792</td>\n",
       "      <td>2.781711</td>\n",
       "      <td>0.163197</td>\n",
       "      <td>0.055892</td>\n",
       "      <td>0.074216</td>\n",
       "      <td>-0.758865</td>\n",
       "    </tr>\n",
       "    <tr>\n",
       "      <th>2988177</th>\n",
       "      <td>75658</td>\n",
       "      <td>1508210696185183</td>\n",
       "      <td>1508210696000</td>\n",
       "      <td>4</td>\n",
       "      <td>271117</td>\n",
       "      <td>1508210951703</td>\n",
       "      <td>4</td>\n",
       "      <td>1</td>\n",
       "      <td>17</td>\n",
       "      <td>1</td>\n",
       "      <td>...</td>\n",
       "      <td>0.439297</td>\n",
       "      <td>0.000587</td>\n",
       "      <td>2.890927</td>\n",
       "      <td>2.992790</td>\n",
       "      <td>-0.374382</td>\n",
       "      <td>-1.499434</td>\n",
       "      <td>-0.511599</td>\n",
       "      <td>-0.384764</td>\n",
       "      <td>-1.549247</td>\n",
       "      <td>-1.203176</td>\n",
       "    </tr>\n",
       "    <tr>\n",
       "      <th>2988178</th>\n",
       "      <td>217129</td>\n",
       "      <td>1508210976336246</td>\n",
       "      <td>1508210976000</td>\n",
       "      <td>2</td>\n",
       "      <td>20204</td>\n",
       "      <td>1508210990810</td>\n",
       "      <td>4</td>\n",
       "      <td>3</td>\n",
       "      <td>2</td>\n",
       "      <td>1</td>\n",
       "      <td>...</td>\n",
       "      <td>1.841938</td>\n",
       "      <td>-0.111620</td>\n",
       "      <td>-1.259571</td>\n",
       "      <td>-1.696957</td>\n",
       "      <td>0.331692</td>\n",
       "      <td>2.844407</td>\n",
       "      <td>-1.142933</td>\n",
       "      <td>-1.769669</td>\n",
       "      <td>3.516544</td>\n",
       "      <td>-0.004632</td>\n",
       "    </tr>\n",
       "    <tr>\n",
       "      <th>2988179</th>\n",
       "      <td>217129</td>\n",
       "      <td>1508210976336246</td>\n",
       "      <td>1508210976000</td>\n",
       "      <td>2</td>\n",
       "      <td>70196</td>\n",
       "      <td>1508211020810</td>\n",
       "      <td>4</td>\n",
       "      <td>3</td>\n",
       "      <td>2</td>\n",
       "      <td>1</td>\n",
       "      <td>...</td>\n",
       "      <td>0.712064</td>\n",
       "      <td>0.271551</td>\n",
       "      <td>-0.250994</td>\n",
       "      <td>0.062602</td>\n",
       "      <td>-0.167102</td>\n",
       "      <td>3.326106</td>\n",
       "      <td>-0.831176</td>\n",
       "      <td>-0.342657</td>\n",
       "      <td>-0.467819</td>\n",
       "      <td>-0.496969</td>\n",
       "    </tr>\n",
       "    <tr>\n",
       "      <th>2988180</th>\n",
       "      <td>51099</td>\n",
       "      <td>1508211320193320</td>\n",
       "      <td>1508211320000</td>\n",
       "      <td>2</td>\n",
       "      <td>98243</td>\n",
       "      <td>1508211782523</td>\n",
       "      <td>4</td>\n",
       "      <td>3</td>\n",
       "      <td>2</td>\n",
       "      <td>1</td>\n",
       "      <td>...</td>\n",
       "      <td>1.994233</td>\n",
       "      <td>0.923013</td>\n",
       "      <td>3.002774</td>\n",
       "      <td>-0.689686</td>\n",
       "      <td>-0.822845</td>\n",
       "      <td>0.174745</td>\n",
       "      <td>1.969445</td>\n",
       "      <td>-0.983880</td>\n",
       "      <td>-0.987011</td>\n",
       "      <td>1.406981</td>\n",
       "    </tr>\n",
       "  </tbody>\n",
       "</table>\n",
       "<p>2988181 rows × 66 columns</p>\n",
       "</div>"
      ],
      "text/plain": [
       "         user_id        session_id  session_start  session_size  \\\n",
       "0              0  1506825423271737  1506825423000             2   \n",
       "1             20  1506825727279757  1506825727000             2   \n",
       "2             44  1506826139185781  1506826139000             5   \n",
       "3             45  1506826142324782  1506826142000             2   \n",
       "4             76  1506826463226813  1506826463000             2   \n",
       "...          ...               ...            ...           ...   \n",
       "2988176   195186  1508210422411129  1508210422000             4   \n",
       "2988177    75658  1508210696185183  1508210696000             4   \n",
       "2988178   217129  1508210976336246  1508210976000             2   \n",
       "2988179   217129  1508210976336246  1508210976000             2   \n",
       "2988180    51099  1508211320193320  1508211320000             2   \n",
       "\n",
       "         click_article_id  click_timestamp click_environment  \\\n",
       "0                  157541    1506826828020                 4   \n",
       "1                  157541    1506836548634                 4   \n",
       "2                  157541    1506857278141                 4   \n",
       "3                  157541    1506827309970                 4   \n",
       "4                  157541    1506828823469                 4   \n",
       "...                   ...              ...               ...   \n",
       "2988176              2221    1508210469562                 4   \n",
       "2988177            271117    1508210951703                 4   \n",
       "2988178             20204    1508210990810                 4   \n",
       "2988179             70196    1508211020810                 4   \n",
       "2988180             98243    1508211782523                 4   \n",
       "\n",
       "        click_deviceGroup click_os click_country  ...        31        32  \\\n",
       "0                       3       20             1  ... -0.321467  0.910171   \n",
       "1                       1       17             1  ... -0.321467  0.910171   \n",
       "2                       1       17             1  ... -0.321467  0.910171   \n",
       "3                       1       17             1  ... -0.321467  0.910171   \n",
       "4                       3        2             1  ... -0.321467  0.910171   \n",
       "...                   ...      ...           ...  ...       ...       ...   \n",
       "2988176                 3        2             1  ... -0.976228 -0.498757   \n",
       "2988177                 1       17             1  ...  0.439297  0.000587   \n",
       "2988178                 3        2             1  ...  1.841938 -0.111620   \n",
       "2988179                 3        2             1  ...  0.712064  0.271551   \n",
       "2988180                 3        2             1  ...  1.994233  0.923013   \n",
       "\n",
       "               33        34        35        36        37        38        39  \\\n",
       "0        0.413014 -0.680843 -0.418416  0.526436  0.305626 -0.307790 -0.606359   \n",
       "1        0.413014 -0.680843 -0.418416  0.526436  0.305626 -0.307790 -0.606359   \n",
       "2        0.413014 -0.680843 -0.418416  0.526436  0.305626 -0.307790 -0.606359   \n",
       "3        0.413014 -0.680843 -0.418416  0.526436  0.305626 -0.307790 -0.606359   \n",
       "4        0.413014 -0.680843 -0.418416  0.526436  0.305626 -0.307790 -0.606359   \n",
       "...           ...       ...       ...       ...       ...       ...       ...   \n",
       "2988176 -1.039714  0.702689  1.522792  2.781711  0.163197  0.055892  0.074216   \n",
       "2988177  2.890927  2.992790 -0.374382 -1.499434 -0.511599 -0.384764 -1.549247   \n",
       "2988178 -1.259571 -1.696957  0.331692  2.844407 -1.142933 -1.769669  3.516544   \n",
       "2988179 -0.250994  0.062602 -0.167102  3.326106 -0.831176 -0.342657 -0.467819   \n",
       "2988180  3.002774 -0.689686 -0.822845  0.174745  1.969445 -0.983880 -0.987011   \n",
       "\n",
       "               40  \n",
       "0       -0.650552  \n",
       "1       -0.650552  \n",
       "2       -0.650552  \n",
       "3       -0.650552  \n",
       "4       -0.650552  \n",
       "...           ...  \n",
       "2988176 -0.758865  \n",
       "2988177 -1.203176  \n",
       "2988178 -0.004632  \n",
       "2988179 -0.496969  \n",
       "2988180  1.406981  \n",
       "\n",
       "[2988181 rows x 66 columns]"
      ]
     },
     "execution_count": 48,
     "metadata": {},
     "output_type": "execute_result"
    }
   ],
   "source": [
    "df_final"
   ]
  },
  {
   "cell_type": "code",
   "execution_count": 49,
   "id": "73f4773b-c494-43d1-b6de-bb5131521276",
   "metadata": {},
   "outputs": [
    {
     "name": "stdout",
     "output_type": "stream",
     "text": [
      "✅ Dataset sauvegardé au format Parquet.\n"
     ]
    }
   ],
   "source": [
    "# sauvegarde format parquet (plus récent que pickle, lisible en dehors de python, compression automatique, conservation de types)\n",
    "# Sauvegarde du DataFrame df_final au format Parquet\n",
    "df_final.to_parquet(\"./data/df_final.parquet\", index=False)\n",
    "\n",
    "print(\"✅ Dataset sauvegardé au format Parquet.\")"
   ]
  },
  {
   "cell_type": "code",
   "execution_count": null,
   "id": "088f0a7c-26af-4d48-9a5f-16a0141516e0",
   "metadata": {},
   "outputs": [],
   "source": []
  }
 ],
 "metadata": {
  "kernelspec": {
   "display_name": "Python 3 (ipykernel)",
   "language": "python",
   "name": "python3"
  },
  "language_info": {
   "codemirror_mode": {
    "name": "ipython",
    "version": 3
   },
   "file_extension": ".py",
   "mimetype": "text/x-python",
   "name": "python",
   "nbconvert_exporter": "python",
   "pygments_lexer": "ipython3",
   "version": "3.11.6"
  }
 },
 "nbformat": 4,
 "nbformat_minor": 5
}
