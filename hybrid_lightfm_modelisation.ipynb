{
 "cells": [
  {
   "cell_type": "markdown",
   "id": "cc128779-7986-496c-a141-bee02dfaf626",
   "metadata": {},
   "source": [
    "# Approche hybride avec LightFM"
   ]
  },
  {
   "cell_type": "markdown",
   "id": "32fa2ead-4a05-4bbe-bf84-75d3fadbe6d6",
   "metadata": {},
   "source": [
    "## Données"
   ]
  },
  {
   "cell_type": "markdown",
   "id": "3920afcb-7cc4-43c0-9726-80918bfc9297",
   "metadata": {},
   "source": [
    "### Chargement du dataframe global"
   ]
  },
  {
   "cell_type": "code",
   "execution_count": 1,
   "id": "99ae32cc-9784-419b-a8ad-c4639e244afb",
   "metadata": {},
   "outputs": [
    {
     "name": "stdout",
     "output_type": "stream",
     "text": [
      "✅ Dataset rechargé avec succès.\n"
     ]
    }
   ],
   "source": [
    "import pandas as pd\n",
    "\n",
    "df_clicks = pd.read_parquet(\"./data/df_final.parquet\")\n",
    "print(\"✅ Dataset rechargé avec succès.\")"
   ]
  },
  {
   "cell_type": "code",
   "execution_count": 2,
   "id": "c2950cce-8fdb-4fc5-be4f-f00bb6bd22d9",
   "metadata": {},
   "outputs": [
    {
     "data": {
      "text/html": [
       "<div>\n",
       "<style scoped>\n",
       "    .dataframe tbody tr th:only-of-type {\n",
       "        vertical-align: middle;\n",
       "    }\n",
       "\n",
       "    .dataframe tbody tr th {\n",
       "        vertical-align: top;\n",
       "    }\n",
       "\n",
       "    .dataframe thead th {\n",
       "        text-align: right;\n",
       "    }\n",
       "</style>\n",
       "<table border=\"1\" class=\"dataframe\">\n",
       "  <thead>\n",
       "    <tr style=\"text-align: right;\">\n",
       "      <th></th>\n",
       "      <th>user_id</th>\n",
       "      <th>session_id</th>\n",
       "      <th>session_start</th>\n",
       "      <th>session_size</th>\n",
       "      <th>click_article_id</th>\n",
       "      <th>click_timestamp</th>\n",
       "      <th>click_environment</th>\n",
       "      <th>click_deviceGroup</th>\n",
       "      <th>click_os</th>\n",
       "      <th>click_country</th>\n",
       "      <th>...</th>\n",
       "      <th>31</th>\n",
       "      <th>32</th>\n",
       "      <th>33</th>\n",
       "      <th>34</th>\n",
       "      <th>35</th>\n",
       "      <th>36</th>\n",
       "      <th>37</th>\n",
       "      <th>38</th>\n",
       "      <th>39</th>\n",
       "      <th>40</th>\n",
       "    </tr>\n",
       "  </thead>\n",
       "  <tbody>\n",
       "    <tr>\n",
       "      <th>0</th>\n",
       "      <td>0</td>\n",
       "      <td>1506825423271737</td>\n",
       "      <td>1506825423000</td>\n",
       "      <td>2</td>\n",
       "      <td>157541</td>\n",
       "      <td>1506826828020</td>\n",
       "      <td>4</td>\n",
       "      <td>3</td>\n",
       "      <td>20</td>\n",
       "      <td>1</td>\n",
       "      <td>...</td>\n",
       "      <td>-0.321484</td>\n",
       "      <td>0.910162</td>\n",
       "      <td>-0.413011</td>\n",
       "      <td>0.680835</td>\n",
       "      <td>-0.418409</td>\n",
       "      <td>-0.526443</td>\n",
       "      <td>0.305625</td>\n",
       "      <td>-0.307805</td>\n",
       "      <td>-0.606366</td>\n",
       "      <td>-0.650556</td>\n",
       "    </tr>\n",
       "    <tr>\n",
       "      <th>1</th>\n",
       "      <td>0</td>\n",
       "      <td>1506825423271737</td>\n",
       "      <td>1506825423000</td>\n",
       "      <td>2</td>\n",
       "      <td>68866</td>\n",
       "      <td>1506826858020</td>\n",
       "      <td>4</td>\n",
       "      <td>3</td>\n",
       "      <td>20</td>\n",
       "      <td>1</td>\n",
       "      <td>...</td>\n",
       "      <td>-1.001013</td>\n",
       "      <td>0.797471</td>\n",
       "      <td>-0.492230</td>\n",
       "      <td>-0.305857</td>\n",
       "      <td>-1.307835</td>\n",
       "      <td>0.354010</td>\n",
       "      <td>0.696917</td>\n",
       "      <td>-0.486316</td>\n",
       "      <td>0.017210</td>\n",
       "      <td>-1.563045</td>\n",
       "    </tr>\n",
       "    <tr>\n",
       "      <th>2</th>\n",
       "      <td>1</td>\n",
       "      <td>1506825426267738</td>\n",
       "      <td>1506825426000</td>\n",
       "      <td>2</td>\n",
       "      <td>235840</td>\n",
       "      <td>1506827017951</td>\n",
       "      <td>4</td>\n",
       "      <td>1</td>\n",
       "      <td>17</td>\n",
       "      <td>1</td>\n",
       "      <td>...</td>\n",
       "      <td>-0.269690</td>\n",
       "      <td>0.873445</td>\n",
       "      <td>0.194144</td>\n",
       "      <td>0.056367</td>\n",
       "      <td>-0.431036</td>\n",
       "      <td>-0.020383</td>\n",
       "      <td>-0.376942</td>\n",
       "      <td>0.814494</td>\n",
       "      <td>0.709722</td>\n",
       "      <td>-1.030146</td>\n",
       "    </tr>\n",
       "    <tr>\n",
       "      <th>3</th>\n",
       "      <td>1</td>\n",
       "      <td>1506825426267738</td>\n",
       "      <td>1506825426000</td>\n",
       "      <td>2</td>\n",
       "      <td>96663</td>\n",
       "      <td>1506827047951</td>\n",
       "      <td>4</td>\n",
       "      <td>1</td>\n",
       "      <td>17</td>\n",
       "      <td>1</td>\n",
       "      <td>...</td>\n",
       "      <td>0.144034</td>\n",
       "      <td>-2.457183</td>\n",
       "      <td>-1.500929</td>\n",
       "      <td>-1.807169</td>\n",
       "      <td>-0.208940</td>\n",
       "      <td>-0.671638</td>\n",
       "      <td>-0.407914</td>\n",
       "      <td>2.561696</td>\n",
       "      <td>-1.379031</td>\n",
       "      <td>-1.877568</td>\n",
       "    </tr>\n",
       "    <tr>\n",
       "      <th>4</th>\n",
       "      <td>2</td>\n",
       "      <td>1506825435299739</td>\n",
       "      <td>1506825435000</td>\n",
       "      <td>2</td>\n",
       "      <td>119592</td>\n",
       "      <td>1506827090575</td>\n",
       "      <td>4</td>\n",
       "      <td>1</td>\n",
       "      <td>17</td>\n",
       "      <td>1</td>\n",
       "      <td>...</td>\n",
       "      <td>-1.163678</td>\n",
       "      <td>-0.230112</td>\n",
       "      <td>-2.132536</td>\n",
       "      <td>-0.729996</td>\n",
       "      <td>0.581913</td>\n",
       "      <td>-0.559910</td>\n",
       "      <td>-0.354824</td>\n",
       "      <td>-0.914158</td>\n",
       "      <td>-0.064399</td>\n",
       "      <td>-0.354175</td>\n",
       "    </tr>\n",
       "  </tbody>\n",
       "</table>\n",
       "<p>5 rows × 66 columns</p>\n",
       "</div>"
      ],
      "text/plain": [
       "   user_id        session_id  session_start  session_size  click_article_id  \\\n",
       "0        0  1506825423271737  1506825423000             2            157541   \n",
       "1        0  1506825423271737  1506825423000             2             68866   \n",
       "2        1  1506825426267738  1506825426000             2            235840   \n",
       "3        1  1506825426267738  1506825426000             2             96663   \n",
       "4        2  1506825435299739  1506825435000             2            119592   \n",
       "\n",
       "   click_timestamp click_environment click_deviceGroup click_os click_country  \\\n",
       "0    1506826828020                 4                 3       20             1   \n",
       "1    1506826858020                 4                 3       20             1   \n",
       "2    1506827017951                 4                 1       17             1   \n",
       "3    1506827047951                 4                 1       17             1   \n",
       "4    1506827090575                 4                 1       17             1   \n",
       "\n",
       "   ...        31        32        33        34        35        36        37  \\\n",
       "0  ... -0.321484  0.910162 -0.413011  0.680835 -0.418409 -0.526443  0.305625   \n",
       "1  ... -1.001013  0.797471 -0.492230 -0.305857 -1.307835  0.354010  0.696917   \n",
       "2  ... -0.269690  0.873445  0.194144  0.056367 -0.431036 -0.020383 -0.376942   \n",
       "3  ...  0.144034 -2.457183 -1.500929 -1.807169 -0.208940 -0.671638 -0.407914   \n",
       "4  ... -1.163678 -0.230112 -2.132536 -0.729996  0.581913 -0.559910 -0.354824   \n",
       "\n",
       "         38        39        40  \n",
       "0 -0.307805 -0.606366 -0.650556  \n",
       "1 -0.486316  0.017210 -1.563045  \n",
       "2  0.814494  0.709722 -1.030146  \n",
       "3  2.561696 -1.379031 -1.877568  \n",
       "4 -0.914158 -0.064399 -0.354175  \n",
       "\n",
       "[5 rows x 66 columns]"
      ]
     },
     "execution_count": 2,
     "metadata": {},
     "output_type": "execute_result"
    }
   ],
   "source": [
    "df_clicks.head()"
   ]
  },
  {
   "cell_type": "markdown",
   "id": "825d2411-441a-44b0-a7c6-ae855a00dfde",
   "metadata": {},
   "source": [
    "## Matrice utilisateur-item"
   ]
  },
  {
   "cell_type": "markdown",
   "id": "ee91d74f-d4bf-43aa-8ef1-44f8734f7314",
   "metadata": {},
   "source": [
    "| Situation | Stratégie sur la matrice user-item | Raison |\n",
    "|----------|-------------------------------------|--------|\n",
    "| **Collaborative pur** (pas de features) | 🔥 Maximiser l'intensité : `alpha` élevé, `weighting='log'`, **pas de normalisation** | Cela amplifie les différences de préférence et donne du signal fort à LightFM |\n",
    "| **Hybride (avec user/item features)** | ⚖️ Normalisation cohérente des valeurs dans `[0, 1]` sur **toutes les matrices** (y compris interactions) | Cela évite que les features soient écrasées ou négligées par un déséquilibre d’échelle | \n",
    "\n",
    "<br>\n",
    "C'est le principe de <b>l'équilibrage des signaux dans les systèmes hybrides de recommandation</b>. Si on normalise seulement les features mais la matrice user-item reste avec des valeurs hautes les features seront ignées par le le modèle. Si on normalise tout il faut éviter d'écraser la variance <br>\n",
    "\n",
    "🛠️ Bonnes pratiques à appliquer<br>\n",
    "| Élément | Bonne échelle |\n",
    "|--------|----------------|\n",
    "| `user_features` | `[0, 1]` (via MinMax ou OneHot) |\n",
    "| `item_features` | `[0, 1]` (MinMax + embeddings déjà compressés) |\n",
    "| `interaction_matrix` | `[0, 1]` uniquement si features aussi présentes (sinon garder amplitudes fortes) |"
   ]
  },
  {
   "cell_type": "code",
   "execution_count": 3,
   "id": "fde5c376-aefb-49e2-a3ce-1c3a7ff96dc5",
   "metadata": {},
   "outputs": [],
   "source": [
    "from scipy.sparse import coo_matrix\n",
    "from tqdm import tqdm\n",
    "import numpy as np\n",
    "from sklearn.preprocessing import MinMaxScaler, StandardScaler\n",
    "\n",
    "def build_user_item_matrix_for_lightfm(df_clicks, weighting=\"log\", alpha=40.0, normalize=False):\n",
    "    \"\"\"\n",
    "    Construit une matrice CSR (utilisateurs × articles) pour LightFM avec pondération et normalisation optionnelles.\n",
    "\n",
    "    Paramètres :\n",
    "    - df_clicks : DataFrame avec 'user_id' et 'click_article_id'\n",
    "    - weighting : 'log' ou 'linear'\n",
    "    - alpha : pondération log\n",
    "    - normalize : False, 'minmax', 'standard', 'log', 'user_minmax', 'user_standard', ou fonction custom\n",
    "\n",
    "    Retourne :\n",
    "    - user_item_matrix : matrice CSR\n",
    "    - user_mapping : dict {user_id → index}\n",
    "    - item_mapping : dict {click_article_id → index}\n",
    "    \"\"\"\n",
    "    # Agrégation des clics\n",
    "    df_user_item = (\n",
    "        df_clicks.groupby(['user_id', 'click_article_id'])\n",
    "        .size()\n",
    "        .reset_index(name='click_strength')\n",
    "    )\n",
    "\n",
    "    # Mappings\n",
    "    print(\"🔄 Construction des dictionnaires d’indexation...\")\n",
    "    user_ids = df_user_item['user_id'].unique()\n",
    "    item_ids = df_user_item['click_article_id'].unique()\n",
    "\n",
    "    user_mapping = {uid: idx for idx, uid in enumerate(tqdm(user_ids, desc=\"🔢 Mapping users\"))}\n",
    "    item_mapping = {iid: idx for idx, iid in enumerate(tqdm(item_ids, desc=\"🧾 Mapping articles\"))}\n",
    "\n",
    "    df_user_item['user_idx'] = df_user_item['user_id'].map(user_mapping)\n",
    "    df_user_item['item_idx'] = df_user_item['click_article_id'].map(item_mapping)\n",
    "\n",
    "    # Pondération\n",
    "    if weighting == \"log\":\n",
    "        df_user_item['weight'] = 1.0 + alpha * np.log1p(df_user_item['click_strength'])\n",
    "        print(f\"🧮 Pondération logarithmique avec alpha={alpha}\")\n",
    "    elif weighting == \"linear\":\n",
    "        df_user_item['weight'] = df_user_item['click_strength'].astype(float)\n",
    "        print(\"🧮 Pondération linéaire\")\n",
    "    else:\n",
    "        raise ValueError(\"Le paramètre 'weighting' doit être 'log' ou 'linear'.\")\n",
    "\n",
    "    # Normalisation\n",
    "    if normalize:\n",
    "        print(f\"📏 Normalisation des poids : {normalize}\")\n",
    "        if normalize == 'minmax':\n",
    "            scaler = MinMaxScaler()\n",
    "            df_user_item['weight'] = scaler.fit_transform(df_user_item[['weight']])\n",
    "        elif normalize == 'standard':\n",
    "            scaler = StandardScaler()\n",
    "            df_user_item['weight'] = scaler.fit_transform(df_user_item[['weight']])\n",
    "        elif normalize == 'log':\n",
    "            df_user_item['weight'] = np.log1p(df_user_item['weight'])\n",
    "        elif normalize == 'user_minmax':\n",
    "            df_user_item['weight'] = df_user_item.groupby('user_idx')['weight'].transform(\n",
    "                lambda x: MinMaxScaler().fit_transform(x.values.reshape(-1, 1)).flatten()\n",
    "            )\n",
    "        elif normalize == 'user_standard':\n",
    "            df_user_item['weight'] = df_user_item.groupby('user_idx')['weight'].transform(\n",
    "                lambda x: StandardScaler().fit_transform(x.values.reshape(-1, 1)).flatten()\n",
    "            )\n",
    "        elif callable(normalize):\n",
    "            df_user_item['weight'] = normalize(df_user_item['weight'].values)\n",
    "        else:\n",
    "            raise ValueError(\"Le paramètre 'normalize' doit être False, 'minmax', 'standard', 'log', \"\n",
    "                             \"'user_minmax', 'user_standard' ou une fonction.\")\n",
    "\n",
    "    # Matrice sparse\n",
    "    print(\"📐 Construction de la matrice sparse (CSR)...\")\n",
    "    user_item_matrix = coo_matrix(\n",
    "        (df_user_item['weight'],\n",
    "         (df_user_item['user_idx'], df_user_item['item_idx']))\n",
    "    ).tocsr()\n",
    "\n",
    "    print(f\"✅ Matrice prête : {user_item_matrix.shape} (utilisateurs × articles)\")\n",
    "    return user_item_matrix, user_mapping, item_mapping\n"
   ]
  },
  {
   "cell_type": "code",
   "execution_count": 4,
   "id": "35c9c873-4402-4258-972c-fd1c6bcae4c4",
   "metadata": {},
   "outputs": [
    {
     "name": "stdout",
     "output_type": "stream",
     "text": [
      "🔄 Construction des dictionnaires d’indexation...\n"
     ]
    },
    {
     "name": "stderr",
     "output_type": "stream",
     "text": [
      "🔢 Mapping users: 100%|██████████| 322897/322897 [00:00<00:00, 5008073.02it/s]\n",
      "🧾 Mapping articles: 100%|██████████| 46033/46033 [00:00<00:00, 4875543.45it/s]\n"
     ]
    },
    {
     "name": "stdout",
     "output_type": "stream",
     "text": [
      "🧮 Pondération logarithmique avec alpha=40.0\n",
      "📐 Construction de la matrice sparse (CSR)...\n",
      "✅ Matrice prête : (322897, 46033) (utilisateurs × articles)\n"
     ]
    }
   ],
   "source": [
    "# Création de la matrice et des mappages d'index\n",
    "# # Pas de normalisation (collaborative pur)\n",
    "# build_user_item_matrix_for_lightfm(df_clicks, normalize=False)\n",
    "# # Hybride avec normalisation MinMax\n",
    "# build_user_item_matrix_for_lightfm(df_clicks, normalize='minmax')\n",
    "# # Hybride avec log compression\n",
    "# build_user_item_matrix_for_lightfm(df_clicks, normalize='log')\n",
    "\n",
    "user_item_matrix, user_mapping, item_mapping = build_user_item_matrix_for_lightfm(df_clicks, normalize=False)"
   ]
  },
  {
   "cell_type": "markdown",
   "id": "290243dc-2c31-41e1-aef6-46e96458dfeb",
   "metadata": {},
   "source": [
    "<div style=\"padding: 10px; border-radius: 5px; background-color: #e7f3fe; color: #31708f; border-left: 6px solid #2196F3;\">\n",
    "ℹ️ <strong>Note :</strong> Contrairement à Implicit on ne filtre pas les utilisateurs ayant moins de 3 interactions afin de ne pas occulter la situation correspond à beaucoup de cas: utilisateur peu actif. Les métriques seront sans doute moins bonnes qu'avec un filtrage\n",
    "</div>"
   ]
  },
  {
   "cell_type": "markdown",
   "id": "3f83a19a-e3d9-4d7e-b514-ba1776b972ac",
   "metadata": {},
   "source": [
    "## Split LOO"
   ]
  },
  {
   "cell_type": "code",
   "execution_count": 5,
   "id": "05a3e18e-14a5-4293-9a38-3945138a96b2",
   "metadata": {},
   "outputs": [],
   "source": [
    "import numpy as np\n",
    "from scipy.sparse import csr_matrix, lil_matrix\n",
    "\n",
    "def leave_one_out_split(interactions):\n",
    "    \"\"\"\n",
    "    Réalise un split Leave-One-Out sur une matrice utilisateurs × articles.\n",
    "    \n",
    "    Paramètres :\n",
    "    - interactions : csr_matrix (n_users x n_items)\n",
    "\n",
    "    Retourne :\n",
    "    - train : csr_matrix (interactions moins 1 par utilisateur)\n",
    "    - test : csr_matrix (1 interaction par utilisateur)\n",
    "    \"\"\"\n",
    "    assert isinstance(interactions, csr_matrix), \"La matrice d'entrée doit être au format CSR.\"\n",
    "\n",
    "    print(\"🔄 Split Leave-One-Out en cours...\")\n",
    "\n",
    "    interactions = interactions.tolil()  # Accès rapide ligne par ligne\n",
    "    n_users, n_items = interactions.shape\n",
    "\n",
    "    train = lil_matrix(interactions.shape, dtype=np.float32)\n",
    "    test = lil_matrix(interactions.shape, dtype=np.float32)\n",
    "\n",
    "    rng = np.random.default_rng(seed=42)  # Pour reproductibilité\n",
    "\n",
    "    for user_id in range(n_users):\n",
    "        user_interactions = interactions.rows[user_id]\n",
    "        user_data = interactions.data[user_id]\n",
    "\n",
    "        if len(user_interactions) >= 2:\n",
    "            idx = rng.integers(0, len(user_interactions))\n",
    "\n",
    "            test_item = user_interactions[idx]\n",
    "            test_value = user_data[idx]\n",
    "\n",
    "            # Ajouter au test\n",
    "            test[user_id, test_item] = test_value\n",
    "\n",
    "            # Ajouter le reste au train\n",
    "            for i, item in enumerate(user_interactions):\n",
    "                if i != idx:\n",
    "                    train[user_id, item] = user_data[i]\n",
    "        else:\n",
    "            for i, item in enumerate(user_interactions):\n",
    "                train[user_id, item] = user_data[i]\n",
    "\n",
    "    print(f\"✅ Split terminé :\\n - Train shape : {train.shape}\\n - Test shape : {test.shape}\")\n",
    "    return train.tocsr(), test.tocsr()\n"
   ]
  },
  {
   "cell_type": "code",
   "execution_count": 6,
   "id": "1c939bc7-5731-47a9-b307-41414f3c8f5f",
   "metadata": {},
   "outputs": [
    {
     "name": "stdout",
     "output_type": "stream",
     "text": [
      "🔄 Split Leave-One-Out en cours...\n"
     ]
    },
    {
     "ename": "KeyboardInterrupt",
     "evalue": "",
     "output_type": "error",
     "traceback": [
      "\u001b[0;31m---------------------------------------------------------------------------\u001b[0m",
      "\u001b[0;31mKeyboardInterrupt\u001b[0m                         Traceback (most recent call last)",
      "Cell \u001b[0;32mIn[6], line 2\u001b[0m\n\u001b[1;32m      1\u001b[0m \u001b[38;5;66;03m# Jeux de train et test\u001b[39;00m\n\u001b[0;32m----> 2\u001b[0m train_matrix, test_matrix \u001b[38;5;241m=\u001b[39m \u001b[43mleave_one_out_split\u001b[49m\u001b[43m(\u001b[49m\u001b[43muser_item_matrix\u001b[49m\u001b[43m)\u001b[49m\n",
      "Cell \u001b[0;32mIn[5], line 43\u001b[0m, in \u001b[0;36mleave_one_out_split\u001b[0;34m(interactions)\u001b[0m\n\u001b[1;32m     41\u001b[0m     \u001b[38;5;28;01mfor\u001b[39;00m i, item \u001b[38;5;129;01min\u001b[39;00m \u001b[38;5;28menumerate\u001b[39m(user_interactions):\n\u001b[1;32m     42\u001b[0m         \u001b[38;5;28;01mif\u001b[39;00m i \u001b[38;5;241m!=\u001b[39m idx:\n\u001b[0;32m---> 43\u001b[0m             \u001b[43mtrain\u001b[49m\u001b[43m[\u001b[49m\u001b[43muser_id\u001b[49m\u001b[43m,\u001b[49m\u001b[43m \u001b[49m\u001b[43mitem\u001b[49m\u001b[43m]\u001b[49m \u001b[38;5;241m=\u001b[39m user_data[i]\n\u001b[1;32m     44\u001b[0m \u001b[38;5;28;01melse\u001b[39;00m:\n\u001b[1;32m     45\u001b[0m     \u001b[38;5;28;01mfor\u001b[39;00m i, item \u001b[38;5;129;01min\u001b[39;00m \u001b[38;5;28menumerate\u001b[39m(user_interactions):\n",
      "File \u001b[0;32m/opt/conda/lib/python3.11/site-packages/scipy/sparse/_lil.py:319\u001b[0m, in \u001b[0;36m_lil_base.__setitem__\u001b[0;34m(self, key, x)\u001b[0m\n\u001b[1;32m    317\u001b[0m \u001b[38;5;66;03m# Fast path for simple (int, int) indexing.\u001b[39;00m\n\u001b[1;32m    318\u001b[0m \u001b[38;5;28;01mif\u001b[39;00m \u001b[38;5;28misinstance\u001b[39m(row, INT_TYPES) \u001b[38;5;129;01mand\u001b[39;00m \u001b[38;5;28misinstance\u001b[39m(col, INT_TYPES):\n\u001b[0;32m--> 319\u001b[0m     x \u001b[38;5;241m=\u001b[39m \u001b[38;5;28;43mself\u001b[39;49m\u001b[38;5;241;43m.\u001b[39;49m\u001b[43mdtype\u001b[49m\u001b[38;5;241;43m.\u001b[39;49m\u001b[43mtype\u001b[49m\u001b[43m(\u001b[49m\u001b[43mx\u001b[49m\u001b[43m)\u001b[49m\n\u001b[1;32m    320\u001b[0m     \u001b[38;5;28;01mif\u001b[39;00m x\u001b[38;5;241m.\u001b[39msize \u001b[38;5;241m>\u001b[39m \u001b[38;5;241m1\u001b[39m:\n\u001b[1;32m    321\u001b[0m         \u001b[38;5;28;01mraise\u001b[39;00m \u001b[38;5;167;01mValueError\u001b[39;00m(\u001b[38;5;124m\"\u001b[39m\u001b[38;5;124mTrying to assign a sequence to an item\u001b[39m\u001b[38;5;124m\"\u001b[39m)\n",
      "\u001b[0;31mKeyboardInterrupt\u001b[0m: "
     ]
    }
   ],
   "source": [
    "# Jeux de train et test\n",
    "train_matrix, test_matrix = leave_one_out_split(user_item_matrix)"
   ]
  },
  {
   "cell_type": "markdown",
   "id": "edbe5379-d5ff-4632-9fc9-26bdac2d7c47",
   "metadata": {},
   "source": [
    "<div style=\"padding: 10px; border-radius: 5px; background-color: #e7f3fe; color: #31708f; border-left: 6px solid #2196F3;\">\n",
    "ℹ️ <strong>✨ Fonctionnement :</strong> tolil() ➔ convertit temporairement en LIL (list of lists). C'est une structure de matrice creuse qui stocke pour chaque ligne une liste de colonnes non-nulles, une autre list associée qui contient les valeurs de ces colonnes. Donc par ligne on garde: un tableau des indices de colonnes non nulles, un tableau des valeurs correspondantes. Format adapté pour construire, CSR est meilleur pour les calculs (matmul) et la mise en oeuvre du modèle\n",
    "</div>"
   ]
  },
  {
   "cell_type": "markdown",
   "id": "5348e4a4-fb9e-4ccd-9ae0-62af38cd358e",
   "metadata": {},
   "source": [
    "## Métriques"
   ]
  },
  {
   "cell_type": "markdown",
   "id": "a9699d8e-51a5-410c-b040-3e54066a0255",
   "metadata": {},
   "source": [
    "### Métriques de recommantion"
   ]
  },
  {
   "cell_type": "markdown",
   "id": "162749b9-a594-4101-88a4-d9a2822bd682",
   "metadata": {},
   "source": [
    "👉 NDCG@k (Normalized Discounted Cumulative Gain) doit être calculé à la main car LightFM ne le donne pas directement."
   ]
  },
  {
   "cell_type": "code",
   "execution_count": null,
   "id": "398d2f39-7dd1-43ae-89dc-6434a02a1caf",
   "metadata": {},
   "outputs": [],
   "source": [
    "from tqdm.notebook import tqdm\n",
    "import numpy as np\n",
    "from joblib import Parallel, delayed\n",
    "\n",
    "def ndcg_at_k(model, test_interactions, train_interactions=None, \n",
    "              user_features=None, item_features=None, \n",
    "              k=5, num_threads=8):\n",
    "    \"\"\"\n",
    "    Calcule le NDCG@k utilisateur par utilisateur (vectorisé + parallélisé).\n",
    "    \"\"\"\n",
    "    n_users, n_items = test_interactions.shape\n",
    "    test_csr = test_interactions.tocsr()\n",
    "    train_csr = train_interactions.tocsr() if train_interactions is not None else None\n",
    "\n",
    "    def compute_ndcg(user_id):\n",
    "        true_items = test_csr[user_id].indices\n",
    "        if len(true_items) == 0:\n",
    "            return None\n",
    "\n",
    "        scores = np.array(model.predict(\n",
    "            user_id,\n",
    "            np.arange(n_items),\n",
    "            user_features=user_features,\n",
    "            item_features=item_features,\n",
    "            num_threads=1\n",
    "        )).copy() # rend l'array modifiable\n",
    "\n",
    "        # Masquer les items vus pendant le training\n",
    "        if train_csr is not None:\n",
    "            train_items = train_csr[user_id].indices\n",
    "            scores[train_items] = -np.inf\n",
    "\n",
    "        top_k_items = np.argpartition(-scores, k)[:k]\n",
    "        top_k_items = top_k_items[np.argsort(-scores[top_k_items])]  # tri final\n",
    "\n",
    "        relevances = np.isin(top_k_items, true_items).astype(int)\n",
    "        dcg = np.sum(relevances / np.log2(np.arange(2, k + 2)))\n",
    "        idcg = np.sum(1.0 / np.log2(np.arange(2, min(len(true_items), k) + 2)))\n",
    "\n",
    "        return dcg / idcg if idcg > 0 else 0.0\n",
    "\n",
    "    results = Parallel(n_jobs=num_threads, backend=\"threading\")(\n",
    "        delayed(compute_ndcg)(user_id)\n",
    "        for user_id in tqdm(range(n_users), total=n_users, desc=\"Calcul NDCG@k (parallèle)\")\n",
    "    )\n",
    "\n",
    "    results = [r for r in results if r is not None]  # supprimer les utilisateurs sans clics\n",
    "    return np.mean(results) if results else 0.0\n"
   ]
  },
  {
   "cell_type": "markdown",
   "id": "aad74b68-d0b2-4b6b-94a2-30a0c46cf9b0",
   "metadata": {},
   "source": [
    "### Erreurs RMSE et MAE"
   ]
  },
  {
   "cell_type": "markdown",
   "id": "949873e4-07b1-4cf0-85e5-aca4cac25c52",
   "metadata": {},
   "source": [
    "📚 Note: LightFM est principalement conçu pour optimiser du ranking (ordre des items) et travailler sur des interactions implicites (clic, vue, achat = 1 ou pas = 0).<br>\n",
    "RMSE (Root Mean Squared Error) et MAE (Mean Absolute Error) sont normalement utilisés sur :<br>\n",
    "- des valeurs continues (ex : prédiction d'une note sur 5).\n",
    "- des modèles de prédiction de score explicite (comme SVD dans Surprise).\n",
    "  \n",
    "<br>\n",
    "👉 Or LightFM peut quand même prédire un score implicite (predict(user, item)) continu. Ce sont des scores relatifs, pas des probabilités calibrées. <br>\n",
    "👉 Donc on peut comparer ces scores aux clics réels (1 s'il a cliqué, 0 sinon). On a bien une proximité entre le score prédit et le clic réel.<br>\n",
    "<b>Métriques données pour information, elles ne constituent pas un critère pour LightFM </b>"
   ]
  },
  {
   "cell_type": "code",
   "execution_count": null,
   "id": "2b8e476d-f638-4da1-97bf-6664fcce9d29",
   "metadata": {},
   "outputs": [],
   "source": [
    "from tqdm.notebook import tqdm\n",
    "from sklearn.metrics import mean_squared_error, mean_absolute_error\n",
    "import numpy as np\n",
    "from joblib import Parallel, delayed\n",
    "\n",
    "def compute_rmse_mae(model, test_interactions, train_interactions=None,\n",
    "                     user_features=None, item_features=None,\n",
    "                     num_threads=8):\n",
    "    \"\"\"\n",
    "    Calcule RMSE et MAE pour un modèle LightFM (multithreadé et sécurisé).\n",
    "    \"\"\"\n",
    "    n_users, n_items = test_interactions.shape\n",
    "    test_csr = test_interactions.tocsr()\n",
    "    train_csr = train_interactions.tocsr() if train_interactions is not None else None\n",
    "\n",
    "    def compute_user_predictions(user_id):\n",
    "        true_items = test_csr[user_id].indices\n",
    "        if len(true_items) == 0:\n",
    "            return [], []\n",
    "\n",
    "        scores = np.array(model.predict(\n",
    "            user_id,\n",
    "            np.arange(n_items),\n",
    "            user_features=user_features,\n",
    "            item_features=item_features,\n",
    "            num_threads=1  # sécurisé pour joblib threading\n",
    "        )).copy()  # évite le buffer read-only\n",
    "\n",
    "        if train_csr is not None:\n",
    "            train_items = train_csr[user_id].indices\n",
    "            scores[train_items] = -np.inf\n",
    "\n",
    "        y_t = [1] * len(true_items)\n",
    "        y_p = [scores[item] for item in true_items]\n",
    "\n",
    "        return y_t, y_p\n",
    "\n",
    "    results = Parallel(n_jobs=num_threads, backend=\"threading\")(\n",
    "        delayed(compute_user_predictions)(user_id)\n",
    "        for user_id in tqdm(range(n_users), total=n_users, desc=\"Calcul RMSE/MAE (parallèle)\")\n",
    "    )\n",
    "\n",
    "    # Fusion des résultats\n",
    "    y_true, y_pred = [], []\n",
    "    for y_t, y_p in results:\n",
    "        y_true.extend(y_t)\n",
    "        y_pred.extend(y_p)\n",
    "\n",
    "    if not y_true:\n",
    "        raise ValueError(\"Aucune interaction à évaluer.\")\n",
    "\n",
    "    rmse = mean_squared_error(y_true, y_pred, squared=False)\n",
    "    mae = mean_absolute_error(y_true, y_pred)\n",
    "\n",
    "    return rmse, mae\n"
   ]
  },
  {
   "cell_type": "markdown",
   "id": "729352d0-4c1e-4cd9-9be8-d79a53553737",
   "metadata": {},
   "source": [
    "## Entrainement (baseline: matrice user-item)"
   ]
  },
  {
   "cell_type": "code",
   "execution_count": null,
   "id": "839db269-949c-486c-8a1c-57a73e3afef5",
   "metadata": {},
   "outputs": [],
   "source": [
    "from lightfm import LightFM\n",
    "from itertools import product\n",
    "from lightfm.evaluation import precision_at_k\n",
    "\n",
    "def grid_search_lightfm(train_matrix, test_matrix, k=5, num_threads=4, epochs=30):\n",
    "    \"\"\"\n",
    "    Effectue une recherche exhaustive sur une grille LightFM et retourne le meilleur modèle basé sur Hit@k.\n",
    "\n",
    "    Paramètres :\n",
    "    - train_matrix : matrice d'entraînement CSR\n",
    "    - test_matrix : matrice de test CSR\n",
    "    - k : nombre d'articles recommandés pour évaluation\n",
    "    - num_threads : nombre de threads pour LightFM\n",
    "    - epochs : nombre d'époques d'entraînement\n",
    "\n",
    "    Retourne :\n",
    "    - best_model : modèle LightFM entraîné\n",
    "    - best_params : dict des meilleurs hyperparamètres\n",
    "    - best_score : Hit@k du meilleur modèle\n",
    "    \"\"\"\n",
    "    param_grid = {\n",
    "        'loss': ['warp', 'bpr'],\n",
    "        'no_components': [32, 64],\n",
    "        'learning_rate': [0.01, 0.05, 0.1]\n",
    "    }\n",
    "\n",
    "    best_score = 0.0\n",
    "    best_model = None\n",
    "    best_params = None\n",
    "\n",
    "    all_combinations = list(product(\n",
    "        param_grid['loss'],\n",
    "        param_grid['no_components'],\n",
    "        param_grid['learning_rate']\n",
    "    ))\n",
    "\n",
    "    print(f\"🔍 Recherche sur {len(all_combinations)} combinaisons...\")\n",
    "\n",
    "    for loss, no_components, learning_rate in all_combinations:\n",
    "        print(f\"\\n🚀 Entraînement modèle : loss={loss}, components={no_components}, lr={learning_rate}\")\n",
    "\n",
    "        model = LightFM(\n",
    "            loss=loss,\n",
    "            no_components=no_components,\n",
    "            learning_rate=learning_rate,\n",
    "            random_state=42\n",
    "        )\n",
    "\n",
    "        model.fit(train_matrix, epochs=epochs, num_threads=num_threads, verbose=False)\n",
    "\n",
    "        hit5 = precision_at_k(\n",
    "            model,\n",
    "            test_matrix,\n",
    "            train_interactions=train_matrix,\n",
    "            k=k,\n",
    "            num_threads=num_threads\n",
    "        ).mean()\n",
    "\n",
    "        print(f\"🎯 Hit@{k} : {hit5:.4f}\")\n",
    "\n",
    "        if hit5 > best_score:\n",
    "            best_score = hit5\n",
    "            best_model = model\n",
    "            best_params = {\n",
    "                'loss': loss,\n",
    "                'no_components': no_components,\n",
    "                'learning_rate': learning_rate\n",
    "            }\n",
    "\n",
    "    print(\"\\n✅ Recherche terminée !\")\n",
    "    print(f\"🏆 Meilleur modèle : {best_params} avec Hit@{k} = {best_score:.4f}\")\n",
    "\n",
    "    return best_model, best_params, best_score\n"
   ]
  },
  {
   "cell_type": "code",
   "execution_count": null,
   "id": "2a385100-5652-471a-881a-5cb5783b3d9a",
   "metadata": {
    "scrolled": true
   },
   "outputs": [],
   "source": [
    "# best_model, best_params, best_score = grid_search_lightfm(train_matrix, test_matrix, k=5)"
   ]
  },
  {
   "cell_type": "code",
   "execution_count": null,
   "id": "07fde755-8510-46ec-ab3f-dd2752c211d5",
   "metadata": {},
   "outputs": [],
   "source": [
    "# Provisoire (pour ne pas avoir à refaire la mise au point)\n",
    "best_params = {'loss': 'bpr', 'no_components': 32, 'learning_rate': 0.05}"
   ]
  },
  {
   "cell_type": "markdown",
   "id": "3616e036-4e27-4067-8300-53f34bb699b4",
   "metadata": {},
   "source": [
    "### Ré-entrainement du meilleur modèle"
   ]
  },
  {
   "cell_type": "code",
   "execution_count": null,
   "id": "4cae9f03-0858-431b-8d1c-be46e5d8be21",
   "metadata": {},
   "outputs": [],
   "source": [
    "import os\n",
    "import pandas as pd\n",
    "from lightfm import LightFM\n",
    "from lightfm.evaluation import precision_at_k, recall_at_k\n",
    "from tqdm.notebook import tqdm"
   ]
  },
  {
   "cell_type": "markdown",
   "id": "fe9b2240-3dbf-42a6-8e52-bd3975d2e242",
   "metadata": {},
   "source": [
    "#### 🎯 Entrainement avec les paramètres optimaux"
   ]
  },
  {
   "cell_type": "code",
   "execution_count": null,
   "id": "12da9052-4fee-4a0b-a1c9-9994dbdfff7a",
   "metadata": {},
   "outputs": [],
   "source": [
    "def train_lightfm_model(train_matrix, best_params, user_features=None, item_features=None, epochs=50, num_threads=8):\n",
    "    model = LightFM(\n",
    "        loss=best_params['loss'],\n",
    "        no_components=best_params['no_components'],\n",
    "        learning_rate=best_params['learning_rate'],\n",
    "        random_state=42\n",
    "    )\n",
    "    for epoch in tqdm(range(epochs), desc=\"Entraînement LightFM\"):\n",
    "        model.fit_partial(\n",
    "            train_matrix,\n",
    "            user_features=user_features,\n",
    "            item_features=item_features,\n",
    "            epochs=1,\n",
    "            num_threads=num_threads\n",
    "        )\n",
    "    return model\n"
   ]
  },
  {
   "cell_type": "markdown",
   "id": "5ca2f873-f4b8-4fe6-ac74-662145b14101",
   "metadata": {},
   "source": [
    "#### 🎯 Evaluation avec échantillonage"
   ]
  },
  {
   "cell_type": "code",
   "execution_count": null,
   "id": "3cb74cd7-fcbc-44e3-9f48-1e7322dd4567",
   "metadata": {},
   "outputs": [],
   "source": [
    "import numpy as np\n",
    "import os\n",
    "import pandas as pd\n",
    "from scipy.sparse import csr_matrix\n",
    "from lightfm.evaluation import precision_at_k, recall_at_k\n",
    "\n",
    "def evaluate_lightfm_model(model, train_matrix, test_matrix,\n",
    "                           user_features=None, item_features=None,\n",
    "                           k=5, num_threads=8,\n",
    "                           experiment_name=\"user-item\",\n",
    "                           results_file=\"results/experiments_lightfm.csv\"):\n",
    "    \"\"\"\n",
    "    Évalue un modèle LightFM sur l'ensemble des utilisateurs,\n",
    "    avec ou sans user/item features. Enregistre les résultats dans un fichier CSV.\n",
    "    \"\"\"\n",
    "\n",
    "    # Matrices d'interactions\n",
    "    test_subset = test_matrix\n",
    "    train_subset = train_matrix\n",
    "    user_features_subset = user_features\n",
    "    item_features_subset = item_features\n",
    "\n",
    "    # 🎯 Top-K métriques intégrées\n",
    "    hit = precision_at_k(model, test_subset, train_interactions=train_subset,\n",
    "                         user_features=user_features_subset,\n",
    "                         item_features=item_features_subset,\n",
    "                         k=k, num_threads=num_threads).mean()\n",
    "\n",
    "    recall = recall_at_k(model, test_subset, train_interactions=train_subset,\n",
    "                         user_features=user_features_subset,\n",
    "                         item_features=item_features_subset,\n",
    "                         k=k, num_threads=num_threads).mean()\n",
    "\n",
    "    # 📈 NDCG custom\n",
    "    print(\"Shape passée à ndcg_at_k:\", test_subset.shape)\n",
    "    ndcg = ndcg_at_k(model, test_subset, train_interactions=train_subset,\n",
    "                     user_features=user_features_subset,\n",
    "                     item_features=item_features_subset,\n",
    "                     k=k, num_threads=num_threads)\n",
    "\n",
    "    # 📉 RMSE / MAE custom\n",
    "    rmse, mae = compute_rmse_mae(model, test_subset, train_interactions=train_subset,\n",
    "                                 user_features=user_features_subset,\n",
    "                                 item_features=item_features_subset,\n",
    "                                 num_threads=num_threads)\n",
    "\n",
    "    # 📋 Résultats\n",
    "    new_result = {\n",
    "        'Experiment': experiment_name,\n",
    "        'Hit@5': hit,\n",
    "        'Recall@5': recall,\n",
    "        'NDCG@5': ndcg,\n",
    "        'RMSE': rmse,\n",
    "        'MAE': mae\n",
    "    }\n",
    "\n",
    "    # 💾 Sauvegarde CSV\n",
    "    os.makedirs(os.path.dirname(results_file), exist_ok=True)\n",
    "    if os.path.exists(results_file):\n",
    "        results_df = pd.read_csv(results_file)\n",
    "        results_df = pd.concat([results_df, pd.DataFrame([new_result])], ignore_index=True)\n",
    "    else:\n",
    "        results_df = pd.DataFrame([new_result])\n",
    "    results_df.to_csv(results_file, index=False)\n",
    "    print(f\"📄 Résultats mis à jour dans {results_file}\")\n",
    "\n",
    "    return new_result\n"
   ]
  },
  {
   "cell_type": "markdown",
   "id": "cc5dfebd-2046-4c30-86f9-341575122774",
   "metadata": {},
   "source": [
    "#### 🎯 Résultat avec matrice utilisateur-item"
   ]
  },
  {
   "cell_type": "code",
   "execution_count": null,
   "id": "f67c23cc-8eed-4795-b341-541e52108e78",
   "metadata": {},
   "outputs": [],
   "source": [
    "model = train_lightfm_model(train_matrix, best_params, epochs=50)"
   ]
  },
  {
   "cell_type": "code",
   "execution_count": null,
   "id": "424d93f4-e72e-4205-a247-6cc7bb5612c4",
   "metadata": {
    "scrolled": true
   },
   "outputs": [],
   "source": [
    "results = evaluate_lightfm_model(model, train_matrix, test_matrix,\n",
    "                                 user_features=None, item_features=None)\n",
    "print(results)"
   ]
  },
  {
   "cell_type": "markdown",
   "id": "1121d8d0-6d64-4f1f-bc8f-f39170a2b590",
   "metadata": {},
   "source": [
    "✅ Résumé du setup : <br>\n",
    "- ⚙️ Modèle : LightFM (avec ou sans features)\n",
    "- 📊 Métriques :\n",
    "    - precision_at_k, recall_at_k (LightFM natif)\n",
    "    - ndcg_at_k, rmse, mae (custom, full Numpy + Joblib, optimisé)\n",
    "- 🔁 Évaluation complète sur tout le dataset\n",
    "- ⚡ Temps total d’évaluation : ≈ 10 minutes\n",
    "- 💾 Résultats loggés proprement dans un fichier CSV"
   ]
  },
  {
   "cell_type": "markdown",
   "id": "20ece0d3-36d9-4d1b-a701-93677e5f30dd",
   "metadata": {},
   "source": [
    "## Recalcul de la matrice d'interactions pour l'hybride"
   ]
  },
  {
   "cell_type": "code",
   "execution_count": null,
   "id": "c49cdee4-fe3c-487c-bff2-5914d95dbc34",
   "metadata": {},
   "outputs": [],
   "source": [
    "user_item_matrix_hybrid, user_mapping, item_mapping = build_user_item_matrix_for_lightfm(\n",
    "    df_clicks, weighting=\"log\", alpha=40.0, normalize=\"user_minmax\"\n",
    ")\n",
    "train_matrix_hybrid, test_matrix_hybrid = leave_one_out_split(user_item_matrix_hybrid)\n"
   ]
  },
  {
   "cell_type": "code",
   "execution_count": null,
   "id": "b0123f72-fcd7-4879-b6be-f5a3fefb1d6b",
   "metadata": {},
   "outputs": [],
   "source": [
    "model_hybrid = train_lightfm_model(train_matrix_hybrid, best_params, epochs=50)"
   ]
  },
  {
   "cell_type": "code",
   "execution_count": null,
   "id": "4961e011-f647-4b26-850e-5769a2a94d66",
   "metadata": {
    "scrolled": true
   },
   "outputs": [],
   "source": [
    "results_hybrid = evaluate_lightfm_model(model, train_matrix, test_matrix_hybrid,\n",
    "                                 user_features=None, item_features=None)\n",
    "print(results_hybrid)"
   ]
  },
  {
   "cell_type": "markdown",
   "id": "2fe185a7-5f65-4617-9ed5-35d34ef61884",
   "metadata": {},
   "source": [
    "## Calcul de la matrice de features utilisateur features engineering\n",
    "On calcule feature par feature en adaptant la normalisation"
   ]
  },
  {
   "cell_type": "markdown",
   "id": "38f20857-a08a-45e4-ac03-afe160dcdad9",
   "metadata": {},
   "source": [
    "#### 🚀 1 : Nombre de sessions par utilisateur"
   ]
  },
  {
   "cell_type": "code",
   "execution_count": null,
   "id": "4f350641-dbd0-49c4-b09b-898c562eae19",
   "metadata": {},
   "outputs": [],
   "source": [
    "from sklearn.preprocessing import MinMaxScaler\n",
    "import numpy as np\n",
    "\n",
    "def extract_number_of_sessions(df_clicks):\n",
    "    \"\"\"\n",
    "    Extrait et normalise le nombre de sessions par utilisateur (lissage log1p + MinMax).\n",
    "    \n",
    "    Retourne :\n",
    "    - DataFrame avec colonnes ['user_id', 'num_sessions_scaled']\n",
    "    \"\"\"\n",
    "    sessions_per_user = df_clicks.groupby('user_id')['session_id'].nunique().reset_index()\n",
    "    sessions_per_user.columns = ['user_id', 'num_sessions']\n",
    "    \n",
    "    # Log transform pour lisser\n",
    "    sessions_per_user['num_sessions_log'] = np.log1p(sessions_per_user['num_sessions'])\n",
    "\n",
    "    # MinMax scaling\n",
    "    scaler = MinMaxScaler()\n",
    "    sessions_per_user['num_sessions_scaled'] = scaler.fit_transform(\n",
    "        sessions_per_user[['num_sessions_log']]\n",
    "    )\n",
    "\n",
    "    return sessions_per_user[['user_id', 'num_sessions_scaled']]\n"
   ]
  },
  {
   "cell_type": "code",
   "execution_count": null,
   "id": "efe10c67-39f7-4bf6-ba68-1c39c25defa0",
   "metadata": {},
   "outputs": [],
   "source": [
    "sessions_per_user = extract_number_of_sessions(df_clicks)\n",
    "print(sessions_per_user.head())"
   ]
  },
  {
   "cell_type": "markdown",
   "id": "87c33906-cfda-4813-b4e0-9f0e128c4433",
   "metadata": {},
   "source": [
    "#### 🚀 2 : Nombre total de clics par utilisateur"
   ]
  },
  {
   "cell_type": "code",
   "execution_count": null,
   "id": "87941a9b-7786-4919-af8a-dfad0b107ef0",
   "metadata": {},
   "outputs": [],
   "source": [
    "from sklearn.preprocessing import MinMaxScaler\n",
    "import numpy as np\n",
    "\n",
    "def extract_number_of_clicks(df_clicks):\n",
    "    \"\"\"\n",
    "    Extrait et normalise le nombre total de clics par utilisateur (log1p + MinMax).\n",
    "\n",
    "    Retourne :\n",
    "    - DataFrame avec colonnes ['user_id', 'num_clicks_scaled']\n",
    "    \"\"\"\n",
    "    clicks_per_user = df_clicks.groupby('user_id').size().reset_index(name='num_clicks')\n",
    "\n",
    "    # Log transform\n",
    "    clicks_per_user['num_clicks_log'] = np.log1p(clicks_per_user['num_clicks'])\n",
    "\n",
    "    # MinMax scaling\n",
    "    scaler = MinMaxScaler()\n",
    "    clicks_per_user['num_clicks_scaled'] = scaler.fit_transform(\n",
    "        clicks_per_user[['num_clicks_log']]\n",
    "    )\n",
    "\n",
    "    return clicks_per_user[['user_id', 'num_clicks_scaled']]\n"
   ]
  },
  {
   "cell_type": "code",
   "execution_count": null,
   "id": "7d06259e-fca2-4a7b-b2e7-7dbdbe861daa",
   "metadata": {},
   "outputs": [],
   "source": [
    "clicks_per_user = extract_number_of_clicks(df_clicks)\n",
    "print(clicks_per_user.head())"
   ]
  },
  {
   "cell_type": "markdown",
   "id": "bee91bcf-e887-4e02-9f67-09e87de677ae",
   "metadata": {},
   "source": [
    "#### 🚀 3 : Nombre d'articles distincts cliqués par utilisateur"
   ]
  },
  {
   "cell_type": "code",
   "execution_count": null,
   "id": "2566ea28-4cb8-4ec5-8229-df6e91cfac0e",
   "metadata": {},
   "outputs": [],
   "source": [
    "from sklearn.preprocessing import MinMaxScaler\n",
    "import numpy as np\n",
    "\n",
    "def extract_number_of_distinct_articles(df_clicks):\n",
    "    \"\"\"\n",
    "    Extrait et normalise le nombre d'articles distincts cliqués par utilisateur (log1p + MinMax).\n",
    "\n",
    "    Retourne :\n",
    "    - DataFrame avec colonnes ['user_id', 'num_distinct_articles_scaled']\n",
    "    \"\"\"\n",
    "    distinct_articles_per_user = df_clicks.groupby('user_id')['click_article_id'].nunique().reset_index()\n",
    "    distinct_articles_per_user.columns = ['user_id', 'num_distinct_articles']\n",
    "\n",
    "    # Log transform\n",
    "    distinct_articles_per_user['num_distinct_articles_log'] = np.log1p(distinct_articles_per_user['num_distinct_articles'])\n",
    "\n",
    "    # MinMax scaling\n",
    "    scaler = MinMaxScaler()\n",
    "    distinct_articles_per_user['num_distinct_articles_scaled'] = scaler.fit_transform(\n",
    "        distinct_articles_per_user[['num_distinct_articles_log']]\n",
    "    )\n",
    "\n",
    "    return distinct_articles_per_user[['user_id', 'num_distinct_articles_scaled']]\n"
   ]
  },
  {
   "cell_type": "code",
   "execution_count": null,
   "id": "2a0110dd-cda3-410e-a44c-167d0162d80c",
   "metadata": {},
   "outputs": [],
   "source": [
    "distinct_articles_per_user = extract_number_of_distinct_articles(df_clicks)\n",
    "print(distinct_articles_per_user.head())"
   ]
  },
  {
   "cell_type": "markdown",
   "id": "5e9c8ef8-6e09-4aa5-b1ff-2cde4d0bc4a8",
   "metadata": {},
   "source": [
    "#### 🚀 4 : Heure favorite de connexion par utilisateur - discrétisée"
   ]
  },
  {
   "cell_type": "code",
   "execution_count": null,
   "id": "10bf93e1-965a-43f4-bc5c-efb17bea67db",
   "metadata": {},
   "outputs": [],
   "source": [
    "def extract_favorite_hour(df_clicks):\n",
    "    \"\"\"\n",
    "    Extrait l'heure favorite de connexion basée sur session_start pour chaque utilisateur.\n",
    "    \"\"\"\n",
    "    # Convertir session_start en heure\n",
    "    df_clicks['session_start_hour'] = pd.to_datetime(df_clicks['session_start'], unit='ms').dt.hour\n",
    "\n",
    "    # Trouver l'heure favorite (la plus fréquente) pour chaque utilisateur\n",
    "    favorite_hour_per_user = (\n",
    "        df_clicks.groupby('user_id')['session_start_hour']\n",
    "        .agg(lambda x: x.value_counts().idxmax())\n",
    "        .reset_index()\n",
    "    )\n",
    "\n",
    "    favorite_hour_per_user.columns = ['user_id', 'favorite_hour']\n",
    "\n",
    "    return favorite_hour_per_user\n"
   ]
  },
  {
   "cell_type": "code",
   "execution_count": null,
   "id": "933cc58f-4226-4419-a46d-e2877a867783",
   "metadata": {},
   "outputs": [],
   "source": [
    "favorite_hour_per_user = extract_favorite_hour(df_clicks)\n",
    "print(favorite_hour_per_user.head())"
   ]
  },
  {
   "cell_type": "code",
   "execution_count": null,
   "id": "99172166-eb3d-47a6-ad50-31b538633c30",
   "metadata": {},
   "outputs": [],
   "source": [
    "def discretize_favorite_hour_6_periods(favorite_hour_df):\n",
    "    \"\"\"\n",
    "    Discrétise l'heure favorite en 6 classes :\n",
    "    Nuit profonde, Très tôt, Matin, Début après-midi, Fin après-midi, Soirée.\n",
    "    \"\"\"\n",
    "    def map_hour_to_period(hour):\n",
    "        if 0 <= hour <= 3:\n",
    "            return 'Nuit_profonde'\n",
    "        elif 4 <= hour <= 7:\n",
    "            return 'Très_tôt'\n",
    "        elif 8 <= hour <= 11:\n",
    "            return 'Matin'\n",
    "        elif 12 <= hour <= 15:\n",
    "            return 'Début_après_midi'\n",
    "        elif 16 <= hour <= 19:\n",
    "            return 'Fin_après_midi'\n",
    "        else:\n",
    "            return 'Soirée'\n",
    "\n",
    "    favorite_hour_df['favorite_period'] = favorite_hour_df['favorite_hour'].apply(map_hour_to_period)\n",
    "    return favorite_hour_df[['user_id', 'favorite_period']]"
   ]
  },
  {
   "cell_type": "code",
   "execution_count": null,
   "id": "cba954be-ea07-4304-a35e-69e3d9f08303",
   "metadata": {},
   "outputs": [],
   "source": [
    "favorite_period_per_user = discretize_favorite_hour_6_periods(favorite_hour_per_user)"
   ]
  },
  {
   "cell_type": "markdown",
   "id": "2eb8e785-65a9-4ac5-b0ac-def182bee377",
   "metadata": {},
   "source": [
    "#### 🚀 5 : Jour favori de connexion"
   ]
  },
  {
   "cell_type": "code",
   "execution_count": null,
   "id": "dfebf951-98f6-42a9-aac3-5d69c8c81188",
   "metadata": {},
   "outputs": [],
   "source": [
    "def extract_favorite_day(df_clicks):\n",
    "    \"\"\"\n",
    "    Extrait le jour favori de connexion (0=lundi, ..., 6=dimanche) pour chaque utilisateur.\n",
    "    \"\"\"\n",
    "    # Convertir session_start en jour de la semaine\n",
    "    df_clicks['session_start_dayofweek'] = pd.to_datetime(df_clicks['session_start'], unit='ms').dt.dayofweek\n",
    "\n",
    "    # Trouver le jour favori\n",
    "    favorite_day_per_user = (\n",
    "        df_clicks.groupby('user_id')['session_start_dayofweek']\n",
    "        .agg(lambda x: x.value_counts().idxmax())\n",
    "        .reset_index()\n",
    "    )\n",
    "\n",
    "    favorite_day_per_user.columns = ['user_id', 'favorite_dayofweek']\n",
    "\n",
    "    return favorite_day_per_user\n"
   ]
  },
  {
   "cell_type": "code",
   "execution_count": null,
   "id": "3419f171-fef5-4e78-9dbd-7fdaf7e7b3be",
   "metadata": {},
   "outputs": [],
   "source": [
    "favorite_day_per_user = extract_favorite_day(df_clicks)"
   ]
  },
  {
   "cell_type": "markdown",
   "id": "fbca753f-c15c-4b92-8171-bd43dbf52a65",
   "metadata": {},
   "source": [
    "#### 🚀 6 : Device préféré"
   ]
  },
  {
   "cell_type": "code",
   "execution_count": null,
   "id": "dbec1a62-1ad2-4f4a-b849-0f753925c6ea",
   "metadata": {},
   "outputs": [],
   "source": [
    "def extract_favorite_device(df_clicks):\n",
    "    \"\"\"\n",
    "    Extrait le device préféré (le plus utilisé) pour chaque utilisateur.\n",
    "    \"\"\"\n",
    "    favorite_device_per_user = (\n",
    "        df_clicks.groupby('user_id')['click_deviceGroup']\n",
    "        .agg(lambda x: x.value_counts().idxmax())\n",
    "        .reset_index()\n",
    "    )\n",
    "\n",
    "    favorite_device_per_user.columns = ['user_id', 'favorite_device']\n",
    "\n",
    "    return favorite_device_per_user\n"
   ]
  },
  {
   "cell_type": "markdown",
   "id": "436da287-62eb-4dac-a249-44b04e5aa7d1",
   "metadata": {},
   "source": [
    "#### 🚀 7 : Environnement préféré"
   ]
  },
  {
   "cell_type": "code",
   "execution_count": null,
   "id": "49a02b94-3506-40c3-9649-f33b5f001170",
   "metadata": {},
   "outputs": [],
   "source": [
    "def extract_favorite_environment(df_clicks):\n",
    "    \"\"\"\n",
    "    Extrait l'environnement préféré (web/app) pour chaque utilisateur.\n",
    "    \"\"\"\n",
    "    favorite_environment_per_user = (\n",
    "        df_clicks.groupby('user_id')['click_environment']\n",
    "        .agg(lambda x: x.value_counts().idxmax())\n",
    "        .reset_index()\n",
    "    )\n",
    "\n",
    "    favorite_environment_per_user.columns = ['user_id', 'favorite_environment']\n",
    "\n",
    "    return favorite_environment_per_user\n"
   ]
  },
  {
   "cell_type": "markdown",
   "id": "969fcf22-f4a0-4053-ba34-32fd093a7197",
   "metadata": {},
   "source": [
    "#### 🚀 8 : Nombre de pays différents"
   ]
  },
  {
   "cell_type": "code",
   "execution_count": null,
   "id": "eede3952-c6b2-4b39-a753-fa1156527078",
   "metadata": {},
   "outputs": [],
   "source": [
    "from sklearn.preprocessing import MinMaxScaler\n",
    "import numpy as np\n",
    "\n",
    "def extract_number_of_countries(df_clicks):\n",
    "    \"\"\"\n",
    "    Extrait et normalise le nombre de pays différents par utilisateur.\n",
    "    \"\"\"\n",
    "    countries_per_user = (\n",
    "        df_clicks.groupby('user_id')['click_country']\n",
    "        .nunique()\n",
    "        .reset_index()\n",
    "    )\n",
    "    countries_per_user.columns = ['user_id', 'num_countries']\n",
    "\n",
    "    countries_per_user['num_countries_log'] = np.log1p(countries_per_user['num_countries'])\n",
    "    scaler = MinMaxScaler()\n",
    "    countries_per_user['num_countries_scaled'] = scaler.fit_transform(\n",
    "        countries_per_user[['num_countries_log']]\n",
    "    )\n",
    "\n",
    "    return countries_per_user[['user_id', 'num_countries_scaled']]\n"
   ]
  },
  {
   "cell_type": "code",
   "execution_count": null,
   "id": "ec217230-cace-4273-bdff-0465613bafbe",
   "metadata": {},
   "outputs": [],
   "source": [
    "favorite_device_per_user = extract_favorite_device(df_clicks)\n",
    "favorite_environment_per_user = extract_favorite_environment(df_clicks)\n",
    "countries_per_user = extract_number_of_countries(df_clicks)\n",
    "\n",
    "print(favorite_device_per_user.head())\n",
    "print(favorite_environment_per_user.head())\n",
    "print(countries_per_user.head())\n"
   ]
  },
  {
   "cell_type": "markdown",
   "id": "36059ae5-dd54-42d4-8d3f-061ff815f2f5",
   "metadata": {},
   "source": [
    "### Fusion des features"
   ]
  },
  {
   "cell_type": "markdown",
   "id": "faab72d5-0272-4732-9ba2-393566504c51",
   "metadata": {},
   "source": [
    "Fusionner toutes les features (num_sessions, num_clicks, num_distinct_articles, favorite_period, favorite_dayofweek, favorite_device, favorite_environment, num_countries).\n",
    "\n",
    "One-Hot Encoder uniquement les catégorielles :\n",
    "\n",
    "favorite_period\n",
    "\n",
    "favorite_dayofweek\n",
    "\n",
    "favorite_device\n",
    "\n",
    "favorite_environment\n",
    "\n",
    "Garder les numériques (num_sessions, num_clicks, num_distinct_articles, num_countries) tels quels - ils ont été normalisés de façon personnalisée."
   ]
  },
  {
   "cell_type": "code",
   "execution_count": null,
   "id": "cabd1dc6-fbaf-4849-af6f-63aaef3477ca",
   "metadata": {},
   "outputs": [],
   "source": [
    "import pandas as pd\n",
    "from sklearn.preprocessing import OneHotEncoder\n",
    "\n",
    "def build_user_features_df(\n",
    "    sessions_per_user,\n",
    "    clicks_per_user,\n",
    "    distinct_articles_per_user,\n",
    "    favorite_period_per_user,\n",
    "    favorite_day_per_user,\n",
    "    favorite_device_per_user,\n",
    "    favorite_environment_per_user,\n",
    "    countries_per_user\n",
    "):\n",
    "    \"\"\"\n",
    "    Construit le DataFrame final des user features prêt pour LightFM.\n",
    "    \"\"\"\n",
    "    \n",
    "    # 1. Fusionner tous les DataFrames\n",
    "    df = sessions_per_user \\\n",
    "        .merge(clicks_per_user, on='user_id') \\\n",
    "        .merge(distinct_articles_per_user, on='user_id') \\\n",
    "        .merge(favorite_period_per_user, on='user_id') \\\n",
    "        .merge(favorite_day_per_user, on='user_id') \\\n",
    "        .merge(favorite_device_per_user, on='user_id') \\\n",
    "        .merge(favorite_environment_per_user, on='user_id') \\\n",
    "        .merge(countries_per_user, on='user_id')\n",
    "\n",
    "    print(f\"📄 Fusion terminée. Shape du DataFrame : {df.shape}\")\n",
    "    \n",
    "    # 2. Identifier colonnes catégorielles\n",
    "    categorical_columns = ['favorite_period', 'favorite_dayofweek', 'favorite_device', 'favorite_environment']\n",
    "\n",
    "    # 3. One-Hot Encoding\n",
    "    encoder = OneHotEncoder(sparse_output=False, handle_unknown='ignore')  # sparse_output=False pour garder un DataFrame\n",
    "    encoded_cats = encoder.fit_transform(df[categorical_columns])\n",
    "    encoded_cat_cols = encoder.get_feature_names_out(categorical_columns)\n",
    "\n",
    "    encoded_cats_df = pd.DataFrame(encoded_cats, columns=encoded_cat_cols, index=df.index)\n",
    "\n",
    "    print(f\"✅ One-Hot Encoding terminé. Colonnes encodées : {list(encoded_cat_cols)}\")\n",
    "    \n",
    "    # 4. Rassembler le tout\n",
    "    df_numeric = df.drop(columns=categorical_columns)\n",
    "\n",
    "    user_features_df = pd.concat([df_numeric, encoded_cats_df], axis=1)\n",
    "\n",
    "    print(f\"✅ DataFrame final prêt. Shape : {user_features_df.shape}\")\n",
    "    \n",
    "    return user_features_df\n"
   ]
  },
  {
   "cell_type": "code",
   "execution_count": null,
   "id": "d694737b-9dcd-47cf-b89c-b284506a5083",
   "metadata": {
    "scrolled": true
   },
   "outputs": [],
   "source": [
    "user_features_df = build_user_features_df(\n",
    "    sessions_per_user,\n",
    "    clicks_per_user,\n",
    "    distinct_articles_per_user,\n",
    "    favorite_period_per_user,\n",
    "    favorite_day_per_user,\n",
    "    favorite_device_per_user,\n",
    "    favorite_environment_per_user,\n",
    "    countries_per_user\n",
    ")\n",
    "\n",
    "display(user_features_df.head())\n"
   ]
  },
  {
   "cell_type": "markdown",
   "id": "e110472d-b4bd-4216-ab16-3568f9d13bca",
   "metadata": {},
   "source": [
    "### Transformation en matrice sparse (CSR)"
   ]
  },
  {
   "cell_type": "code",
   "execution_count": null,
   "id": "b935f99f-2b8f-42c6-b20d-a84f27d5b8e4",
   "metadata": {},
   "outputs": [],
   "source": [
    "from scipy.sparse import csr_matrix\n",
    "\n",
    "def user_features_to_csr(user_features_df):\n",
    "    \"\"\"\n",
    "    Transforme le DataFrame user_features en csr_matrix pour LightFM.\n",
    "    \"\"\"\n",
    "    # Enlever user_id pour la matrice\n",
    "    user_ids = user_features_df['user_id'].values\n",
    "    features_matrix = csr_matrix(user_features_df.drop(columns=['user_id']).values)\n",
    "\n",
    "    return features_matrix, user_ids\n"
   ]
  },
  {
   "cell_type": "code",
   "execution_count": 26,
   "id": "78eca196-6726-434b-a4d6-cc02f4d43ed3",
   "metadata": {},
   "outputs": [
    {
     "name": "stdout",
     "output_type": "stream",
     "text": [
      "(322897, 24)\n",
      "[0 1 2 3 4]\n"
     ]
    }
   ],
   "source": [
    "user_features_matrix, user_ids = user_features_to_csr(user_features_df)\n",
    "\n",
    "print(user_features_matrix.shape)\n",
    "print(user_ids[:5])\n"
   ]
  },
  {
   "cell_type": "markdown",
   "id": "2e2b2d11-10e3-4f56-900d-2e9108b906a4",
   "metadata": {},
   "source": [
    "## Calcul de la matrice de features item features engineering"
   ]
  },
  {
   "cell_type": "code",
   "execution_count": 32,
   "id": "2ccf61f6-69e2-4d12-a791-6efde46a6e44",
   "metadata": {
    "scrolled": true
   },
   "outputs": [
    {
     "data": {
      "text/html": [
       "<div>\n",
       "<style scoped>\n",
       "    .dataframe tbody tr th:only-of-type {\n",
       "        vertical-align: middle;\n",
       "    }\n",
       "\n",
       "    .dataframe tbody tr th {\n",
       "        vertical-align: top;\n",
       "    }\n",
       "\n",
       "    .dataframe thead th {\n",
       "        text-align: right;\n",
       "    }\n",
       "</style>\n",
       "<table border=\"1\" class=\"dataframe\">\n",
       "  <thead>\n",
       "    <tr style=\"text-align: right;\">\n",
       "      <th></th>\n",
       "      <th>article_id</th>\n",
       "      <th>category_id</th>\n",
       "      <th>created_at_ts</th>\n",
       "      <th>words_count</th>\n",
       "    </tr>\n",
       "  </thead>\n",
       "  <tbody>\n",
       "    <tr>\n",
       "      <th>0</th>\n",
       "      <td>0</td>\n",
       "      <td>0</td>\n",
       "      <td>1513144419000</td>\n",
       "      <td>168</td>\n",
       "    </tr>\n",
       "    <tr>\n",
       "      <th>1</th>\n",
       "      <td>1</td>\n",
       "      <td>1</td>\n",
       "      <td>1405341936000</td>\n",
       "      <td>189</td>\n",
       "    </tr>\n",
       "    <tr>\n",
       "      <th>2</th>\n",
       "      <td>2</td>\n",
       "      <td>1</td>\n",
       "      <td>1408667706000</td>\n",
       "      <td>250</td>\n",
       "    </tr>\n",
       "    <tr>\n",
       "      <th>3</th>\n",
       "      <td>3</td>\n",
       "      <td>1</td>\n",
       "      <td>1408468313000</td>\n",
       "      <td>230</td>\n",
       "    </tr>\n",
       "    <tr>\n",
       "      <th>4</th>\n",
       "      <td>4</td>\n",
       "      <td>1</td>\n",
       "      <td>1407071171000</td>\n",
       "      <td>162</td>\n",
       "    </tr>\n",
       "    <tr>\n",
       "      <th>...</th>\n",
       "      <td>...</td>\n",
       "      <td>...</td>\n",
       "      <td>...</td>\n",
       "      <td>...</td>\n",
       "    </tr>\n",
       "    <tr>\n",
       "      <th>364042</th>\n",
       "      <td>364042</td>\n",
       "      <td>460</td>\n",
       "      <td>1434034118000</td>\n",
       "      <td>144</td>\n",
       "    </tr>\n",
       "    <tr>\n",
       "      <th>364043</th>\n",
       "      <td>364043</td>\n",
       "      <td>460</td>\n",
       "      <td>1434148472000</td>\n",
       "      <td>463</td>\n",
       "    </tr>\n",
       "    <tr>\n",
       "      <th>364044</th>\n",
       "      <td>364044</td>\n",
       "      <td>460</td>\n",
       "      <td>1457974279000</td>\n",
       "      <td>177</td>\n",
       "    </tr>\n",
       "    <tr>\n",
       "      <th>364045</th>\n",
       "      <td>364045</td>\n",
       "      <td>460</td>\n",
       "      <td>1515964737000</td>\n",
       "      <td>126</td>\n",
       "    </tr>\n",
       "    <tr>\n",
       "      <th>364046</th>\n",
       "      <td>364046</td>\n",
       "      <td>460</td>\n",
       "      <td>1505811330000</td>\n",
       "      <td>479</td>\n",
       "    </tr>\n",
       "  </tbody>\n",
       "</table>\n",
       "<p>364047 rows × 4 columns</p>\n",
       "</div>"
      ],
      "text/plain": [
       "        article_id  category_id  created_at_ts  words_count\n",
       "0                0            0  1513144419000          168\n",
       "1                1            1  1405341936000          189\n",
       "2                2            1  1408667706000          250\n",
       "3                3            1  1408468313000          230\n",
       "4                4            1  1407071171000          162\n",
       "...            ...          ...            ...          ...\n",
       "364042      364042          460  1434034118000          144\n",
       "364043      364043          460  1434148472000          463\n",
       "364044      364044          460  1457974279000          177\n",
       "364045      364045          460  1515964737000          126\n",
       "364046      364046          460  1505811330000          479\n",
       "\n",
       "[364047 rows x 4 columns]"
      ]
     },
     "execution_count": 32,
     "metadata": {},
     "output_type": "execute_result"
    }
   ],
   "source": [
    "# Datas articles d'origine\n",
    "import pandas as pd\n",
    "df_articles = pd.read_csv(\"./data/articles_metadata.csv\", encoding='utf-8')\n",
    "articles_df = df_articles.drop(columns=\"publisher_id\")\n",
    "articles_df"
   ]
  },
  {
   "cell_type": "code",
   "execution_count": 33,
   "id": "7fe74151-6f1b-445e-8ec1-6a81ed8effee",
   "metadata": {},
   "outputs": [],
   "source": [
    "import pandas as pd\n",
    "\n",
    "# 1. Charger les embeddings (index = article_id)\n",
    "embeddings_df = pd.read_parquet(\"./data/articles_embeddings_pca.parquet\")\n",
    "embeddings_df.index.name = \"article_id\"  # au cas où ce ne serait pas explicite"
   ]
  },
  {
   "cell_type": "code",
   "execution_count": 34,
   "id": "edbdab2a-ef26-4a58-aecc-b4edd227b791",
   "metadata": {},
   "outputs": [
    {
     "name": "stdout",
     "output_type": "stream",
     "text": [
      "Dimensions après fusion : (364047, 45)\n",
      "Nombre de NaN dans embeddings :\n",
      "0\n"
     ]
    }
   ],
   "source": [
    "# 3. Fusionner sur l’index\n",
    "articles_merged = articles_df.join(embeddings_df, how=\"left\")\n",
    "\n",
    "# Vérification rapide :\n",
    "print(\"Dimensions après fusion :\", articles_merged.shape)\n",
    "print(\"Nombre de NaN dans embeddings :\")\n",
    "print(articles_merged.iloc[:, -embeddings_df.shape[1]:].isna().sum().sum())  # colonne embeddings uniquement"
   ]
  },
  {
   "attachments": {},
   "cell_type": "markdown",
   "id": "b203a556-2987-41cc-94b2-5cc84aa0c828",
   "metadata": {},
   "source": [
    "#### 📌 1: Nombre total de clics\n",
    "\n",
    "#### 📌 2: Nombre d'utilisateurs distincts ayant cliqué l'article\n",
    "\n",
    "#### 📌 3: Moment du dernier clic\n",
    "\n",
    "#### 📌 4: Moment du premier clic\n",
    "\n",
    "#### 📌 5: Delta entre premier et dernier clic\n",
    "\n",
    "#### 📌 6: Embeddings"
   ]
  },
  {
   "cell_type": "code",
   "execution_count": 35,
   "id": "e6f03bac-440c-404b-ae31-fff6a9380c52",
   "metadata": {},
   "outputs": [
    {
     "name": "stderr",
     "output_type": "stream",
     "text": [
      "/tmp/ipykernel_317/285204074.py:20: FutureWarning: Setting an item of incompatible dtype is deprecated and will raise in a future error of pandas. Value '0' has dtype incompatible with datetime64[ns], please explicitly cast to a compatible dtype first.\n",
      "  articles_merged.fillna(0, inplace=True)\n"
     ]
    }
   ],
   "source": [
    "# 1. Construire les features d'usage à partir de df_clicks\n",
    "click_stats = df_clicks.groupby('click_article_id').agg(\n",
    "    num_clicks=('user_id', 'size'),\n",
    "    num_users_clicked=('user_id', 'nunique'),\n",
    "    last_click_timestamp=('click_timestamp', 'max'),\n",
    "    first_click_timestamp=('click_timestamp', 'min')\n",
    ")\n",
    "\n",
    "# Convertir les timestamps en datetime\n",
    "click_stats['first_click_timestamp'] = pd.to_datetime(click_stats['first_click_timestamp'], errors='coerce')\n",
    "click_stats['last_click_timestamp'] = pd.to_datetime(click_stats['last_click_timestamp'], errors='coerce')\n",
    "\n",
    "# Calculer la lifetime\n",
    "click_stats['lifetime'] = (click_stats['last_click_timestamp'] - click_stats['first_click_timestamp']).dt.total_seconds()\n",
    "\n",
    "# 2. Fusion avec articles_merged (qui contient déjà les embeddings + métadonnées)\n",
    "articles_merged = articles_merged.join(click_stats, how='left')\n",
    "\n",
    "# 3. Remplacer les NaN par 0 pour les articles jamais cliqués\n",
    "articles_merged.fillna(0, inplace=True)\n",
    "\n",
    "# 4. Standardiser certaines colonnes\n",
    "from sklearn.preprocessing import MinMaxScaler\n",
    "\n",
    "scaler = MinMaxScaler()\n",
    "features_to_scale = ['word_count', 'num_clicks', 'num_users_clicked', 'lifetime']\n",
    "\n",
    "for col in features_to_scale:\n",
    "    if col in articles_merged.columns:\n",
    "        articles_merged[col] = scaler.fit_transform(articles_merged[[col]])\n"
   ]
  },
  {
   "cell_type": "code",
   "execution_count": 36,
   "id": "ff4ef834-7849-4261-ac7b-d7f9dba718d0",
   "metadata": {},
   "outputs": [
    {
     "data": {
      "text/html": [
       "<div>\n",
       "<style scoped>\n",
       "    .dataframe tbody tr th:only-of-type {\n",
       "        vertical-align: middle;\n",
       "    }\n",
       "\n",
       "    .dataframe tbody tr th {\n",
       "        vertical-align: top;\n",
       "    }\n",
       "\n",
       "    .dataframe thead th {\n",
       "        text-align: right;\n",
       "    }\n",
       "</style>\n",
       "<table border=\"1\" class=\"dataframe\">\n",
       "  <thead>\n",
       "    <tr style=\"text-align: right;\">\n",
       "      <th></th>\n",
       "      <th>article_id</th>\n",
       "      <th>category_id</th>\n",
       "      <th>created_at_ts</th>\n",
       "      <th>words_count</th>\n",
       "      <th>0</th>\n",
       "      <th>1</th>\n",
       "      <th>2</th>\n",
       "      <th>3</th>\n",
       "      <th>4</th>\n",
       "      <th>5</th>\n",
       "      <th>...</th>\n",
       "      <th>36</th>\n",
       "      <th>37</th>\n",
       "      <th>38</th>\n",
       "      <th>39</th>\n",
       "      <th>40</th>\n",
       "      <th>num_clicks</th>\n",
       "      <th>num_users_clicked</th>\n",
       "      <th>last_click_timestamp</th>\n",
       "      <th>first_click_timestamp</th>\n",
       "      <th>lifetime</th>\n",
       "    </tr>\n",
       "  </thead>\n",
       "  <tbody>\n",
       "    <tr>\n",
       "      <th>0</th>\n",
       "      <td>0</td>\n",
       "      <td>0</td>\n",
       "      <td>1513144419000</td>\n",
       "      <td>168</td>\n",
       "      <td>-1.854453</td>\n",
       "      <td>-5.592402</td>\n",
       "      <td>1.708724</td>\n",
       "      <td>-3.835164</td>\n",
       "      <td>1.415795</td>\n",
       "      <td>0.252210</td>\n",
       "      <td>...</td>\n",
       "      <td>-1.099852</td>\n",
       "      <td>-1.175524</td>\n",
       "      <td>1.370632</td>\n",
       "      <td>-0.264816</td>\n",
       "      <td>0.010117</td>\n",
       "      <td>0.000000</td>\n",
       "      <td>0.000000</td>\n",
       "      <td>0</td>\n",
       "      <td>0</td>\n",
       "      <td>0.000000</td>\n",
       "    </tr>\n",
       "    <tr>\n",
       "      <th>1</th>\n",
       "      <td>1</td>\n",
       "      <td>1</td>\n",
       "      <td>1405341936000</td>\n",
       "      <td>189</td>\n",
       "      <td>-5.361997</td>\n",
       "      <td>4.122991</td>\n",
       "      <td>-2.357516</td>\n",
       "      <td>-3.428017</td>\n",
       "      <td>-0.431079</td>\n",
       "      <td>3.722260</td>\n",
       "      <td>...</td>\n",
       "      <td>-3.094968</td>\n",
       "      <td>0.075186</td>\n",
       "      <td>0.245235</td>\n",
       "      <td>-1.250343</td>\n",
       "      <td>0.294538</td>\n",
       "      <td>0.000000</td>\n",
       "      <td>0.000000</td>\n",
       "      <td>0</td>\n",
       "      <td>0</td>\n",
       "      <td>0.000000</td>\n",
       "    </tr>\n",
       "    <tr>\n",
       "      <th>2</th>\n",
       "      <td>2</td>\n",
       "      <td>1</td>\n",
       "      <td>1408667706000</td>\n",
       "      <td>250</td>\n",
       "      <td>-3.600085</td>\n",
       "      <td>-0.132112</td>\n",
       "      <td>-6.027451</td>\n",
       "      <td>0.985617</td>\n",
       "      <td>0.211965</td>\n",
       "      <td>4.591712</td>\n",
       "      <td>...</td>\n",
       "      <td>-0.877634</td>\n",
       "      <td>0.154883</td>\n",
       "      <td>1.133963</td>\n",
       "      <td>0.946740</td>\n",
       "      <td>-1.811314</td>\n",
       "      <td>0.000000</td>\n",
       "      <td>0.000000</td>\n",
       "      <td>0</td>\n",
       "      <td>0</td>\n",
       "      <td>0.000000</td>\n",
       "    </tr>\n",
       "    <tr>\n",
       "      <th>3</th>\n",
       "      <td>3</td>\n",
       "      <td>1</td>\n",
       "      <td>1408468313000</td>\n",
       "      <td>230</td>\n",
       "      <td>-1.158963</td>\n",
       "      <td>7.293352</td>\n",
       "      <td>-5.916713</td>\n",
       "      <td>-1.370524</td>\n",
       "      <td>2.172241</td>\n",
       "      <td>-1.682487</td>\n",
       "      <td>...</td>\n",
       "      <td>-2.076190</td>\n",
       "      <td>-1.690459</td>\n",
       "      <td>-1.122692</td>\n",
       "      <td>0.714619</td>\n",
       "      <td>-1.576244</td>\n",
       "      <td>0.000027</td>\n",
       "      <td>0.000029</td>\n",
       "      <td>1970-01-01 00:25:07.572378399</td>\n",
       "      <td>1970-01-01 00:25:07.572378399</td>\n",
       "      <td>0.000000</td>\n",
       "    </tr>\n",
       "    <tr>\n",
       "      <th>4</th>\n",
       "      <td>4</td>\n",
       "      <td>1</td>\n",
       "      <td>1407071171000</td>\n",
       "      <td>162</td>\n",
       "      <td>-1.142884</td>\n",
       "      <td>2.569328</td>\n",
       "      <td>-2.891860</td>\n",
       "      <td>-0.273997</td>\n",
       "      <td>2.913007</td>\n",
       "      <td>5.608970</td>\n",
       "      <td>...</td>\n",
       "      <td>-4.232923</td>\n",
       "      <td>-1.287476</td>\n",
       "      <td>1.053438</td>\n",
       "      <td>-0.486085</td>\n",
       "      <td>-0.144550</td>\n",
       "      <td>0.000000</td>\n",
       "      <td>0.000000</td>\n",
       "      <td>0</td>\n",
       "      <td>0</td>\n",
       "      <td>0.000000</td>\n",
       "    </tr>\n",
       "    <tr>\n",
       "      <th>...</th>\n",
       "      <td>...</td>\n",
       "      <td>...</td>\n",
       "      <td>...</td>\n",
       "      <td>...</td>\n",
       "      <td>...</td>\n",
       "      <td>...</td>\n",
       "      <td>...</td>\n",
       "      <td>...</td>\n",
       "      <td>...</td>\n",
       "      <td>...</td>\n",
       "      <td>...</td>\n",
       "      <td>...</td>\n",
       "      <td>...</td>\n",
       "      <td>...</td>\n",
       "      <td>...</td>\n",
       "      <td>...</td>\n",
       "      <td>...</td>\n",
       "      <td>...</td>\n",
       "      <td>...</td>\n",
       "      <td>...</td>\n",
       "      <td>...</td>\n",
       "    </tr>\n",
       "    <tr>\n",
       "      <th>364042</th>\n",
       "      <td>364042</td>\n",
       "      <td>460</td>\n",
       "      <td>1434034118000</td>\n",
       "      <td>144</td>\n",
       "      <td>1.901329</td>\n",
       "      <td>7.384367</td>\n",
       "      <td>8.397199</td>\n",
       "      <td>1.004993</td>\n",
       "      <td>-1.738730</td>\n",
       "      <td>-1.755387</td>\n",
       "      <td>...</td>\n",
       "      <td>-0.315928</td>\n",
       "      <td>1.456825</td>\n",
       "      <td>0.264516</td>\n",
       "      <td>-0.300157</td>\n",
       "      <td>-1.453362</td>\n",
       "      <td>0.000000</td>\n",
       "      <td>0.000000</td>\n",
       "      <td>0</td>\n",
       "      <td>0</td>\n",
       "      <td>0.000000</td>\n",
       "    </tr>\n",
       "    <tr>\n",
       "      <th>364043</th>\n",
       "      <td>364043</td>\n",
       "      <td>460</td>\n",
       "      <td>1434148472000</td>\n",
       "      <td>463</td>\n",
       "      <td>0.976412</td>\n",
       "      <td>1.577674</td>\n",
       "      <td>6.442007</td>\n",
       "      <td>-3.159583</td>\n",
       "      <td>-14.462528</td>\n",
       "      <td>3.176116</td>\n",
       "      <td>...</td>\n",
       "      <td>-1.345622</td>\n",
       "      <td>1.519320</td>\n",
       "      <td>-0.843804</td>\n",
       "      <td>1.085914</td>\n",
       "      <td>-0.813036</td>\n",
       "      <td>0.000215</td>\n",
       "      <td>0.000234</td>\n",
       "      <td>1970-01-01 00:25:08.181241509</td>\n",
       "      <td>1970-01-01 00:25:07.231045481</td>\n",
       "      <td>0.589568</td>\n",
       "    </tr>\n",
       "    <tr>\n",
       "      <th>364044</th>\n",
       "      <td>364044</td>\n",
       "      <td>460</td>\n",
       "      <td>1457974279000</td>\n",
       "      <td>177</td>\n",
       "      <td>1.206031</td>\n",
       "      <td>9.495937</td>\n",
       "      <td>3.033823</td>\n",
       "      <td>-2.910693</td>\n",
       "      <td>-2.307364</td>\n",
       "      <td>0.476110</td>\n",
       "      <td>...</td>\n",
       "      <td>0.548965</td>\n",
       "      <td>0.112421</td>\n",
       "      <td>-1.182815</td>\n",
       "      <td>2.011876</td>\n",
       "      <td>-1.559265</td>\n",
       "      <td>0.000000</td>\n",
       "      <td>0.000000</td>\n",
       "      <td>0</td>\n",
       "      <td>0</td>\n",
       "      <td>0.000000</td>\n",
       "    </tr>\n",
       "    <tr>\n",
       "      <th>364045</th>\n",
       "      <td>364045</td>\n",
       "      <td>460</td>\n",
       "      <td>1515964737000</td>\n",
       "      <td>126</td>\n",
       "      <td>11.508031</td>\n",
       "      <td>1.546386</td>\n",
       "      <td>-0.132457</td>\n",
       "      <td>0.648115</td>\n",
       "      <td>2.660047</td>\n",
       "      <td>-2.057655</td>\n",
       "      <td>...</td>\n",
       "      <td>-0.944766</td>\n",
       "      <td>0.708803</td>\n",
       "      <td>-0.905727</td>\n",
       "      <td>1.133456</td>\n",
       "      <td>-1.306856</td>\n",
       "      <td>0.000000</td>\n",
       "      <td>0.000000</td>\n",
       "      <td>0</td>\n",
       "      <td>0</td>\n",
       "      <td>0.000000</td>\n",
       "    </tr>\n",
       "    <tr>\n",
       "      <th>364046</th>\n",
       "      <td>364046</td>\n",
       "      <td>460</td>\n",
       "      <td>1505811330000</td>\n",
       "      <td>479</td>\n",
       "      <td>1.774666</td>\n",
       "      <td>2.835881</td>\n",
       "      <td>6.992462</td>\n",
       "      <td>-1.418909</td>\n",
       "      <td>-14.428061</td>\n",
       "      <td>3.498026</td>\n",
       "      <td>...</td>\n",
       "      <td>-0.893114</td>\n",
       "      <td>0.355850</td>\n",
       "      <td>-0.445221</td>\n",
       "      <td>0.300840</td>\n",
       "      <td>-0.850346</td>\n",
       "      <td>0.000054</td>\n",
       "      <td>0.000059</td>\n",
       "      <td>1970-01-01 00:25:07.977283025</td>\n",
       "      <td>1970-01-01 00:25:07.037561633</td>\n",
       "      <td>0.583069</td>\n",
       "    </tr>\n",
       "  </tbody>\n",
       "</table>\n",
       "<p>364047 rows × 50 columns</p>\n",
       "</div>"
      ],
      "text/plain": [
       "        article_id  category_id  created_at_ts  words_count          0  \\\n",
       "0                0            0  1513144419000          168  -1.854453   \n",
       "1                1            1  1405341936000          189  -5.361997   \n",
       "2                2            1  1408667706000          250  -3.600085   \n",
       "3                3            1  1408468313000          230  -1.158963   \n",
       "4                4            1  1407071171000          162  -1.142884   \n",
       "...            ...          ...            ...          ...        ...   \n",
       "364042      364042          460  1434034118000          144   1.901329   \n",
       "364043      364043          460  1434148472000          463   0.976412   \n",
       "364044      364044          460  1457974279000          177   1.206031   \n",
       "364045      364045          460  1515964737000          126  11.508031   \n",
       "364046      364046          460  1505811330000          479   1.774666   \n",
       "\n",
       "               1         2         3          4         5  ...        36  \\\n",
       "0      -5.592402  1.708724 -3.835164   1.415795  0.252210  ... -1.099852   \n",
       "1       4.122991 -2.357516 -3.428017  -0.431079  3.722260  ... -3.094968   \n",
       "2      -0.132112 -6.027451  0.985617   0.211965  4.591712  ... -0.877634   \n",
       "3       7.293352 -5.916713 -1.370524   2.172241 -1.682487  ... -2.076190   \n",
       "4       2.569328 -2.891860 -0.273997   2.913007  5.608970  ... -4.232923   \n",
       "...          ...       ...       ...        ...       ...  ...       ...   \n",
       "364042  7.384367  8.397199  1.004993  -1.738730 -1.755387  ... -0.315928   \n",
       "364043  1.577674  6.442007 -3.159583 -14.462528  3.176116  ... -1.345622   \n",
       "364044  9.495937  3.033823 -2.910693  -2.307364  0.476110  ...  0.548965   \n",
       "364045  1.546386 -0.132457  0.648115   2.660047 -2.057655  ... -0.944766   \n",
       "364046  2.835881  6.992462 -1.418909 -14.428061  3.498026  ... -0.893114   \n",
       "\n",
       "              37        38        39        40  num_clicks  num_users_clicked  \\\n",
       "0      -1.175524  1.370632 -0.264816  0.010117    0.000000           0.000000   \n",
       "1       0.075186  0.245235 -1.250343  0.294538    0.000000           0.000000   \n",
       "2       0.154883  1.133963  0.946740 -1.811314    0.000000           0.000000   \n",
       "3      -1.690459 -1.122692  0.714619 -1.576244    0.000027           0.000029   \n",
       "4      -1.287476  1.053438 -0.486085 -0.144550    0.000000           0.000000   \n",
       "...          ...       ...       ...       ...         ...                ...   \n",
       "364042  1.456825  0.264516 -0.300157 -1.453362    0.000000           0.000000   \n",
       "364043  1.519320 -0.843804  1.085914 -0.813036    0.000215           0.000234   \n",
       "364044  0.112421 -1.182815  2.011876 -1.559265    0.000000           0.000000   \n",
       "364045  0.708803 -0.905727  1.133456 -1.306856    0.000000           0.000000   \n",
       "364046  0.355850 -0.445221  0.300840 -0.850346    0.000054           0.000059   \n",
       "\n",
       "                 last_click_timestamp          first_click_timestamp  lifetime  \n",
       "0                                   0                              0  0.000000  \n",
       "1                                   0                              0  0.000000  \n",
       "2                                   0                              0  0.000000  \n",
       "3       1970-01-01 00:25:07.572378399  1970-01-01 00:25:07.572378399  0.000000  \n",
       "4                                   0                              0  0.000000  \n",
       "...                               ...                            ...       ...  \n",
       "364042                              0                              0  0.000000  \n",
       "364043  1970-01-01 00:25:08.181241509  1970-01-01 00:25:07.231045481  0.589568  \n",
       "364044                              0                              0  0.000000  \n",
       "364045                              0                              0  0.000000  \n",
       "364046  1970-01-01 00:25:07.977283025  1970-01-01 00:25:07.037561633  0.583069  \n",
       "\n",
       "[364047 rows x 50 columns]"
      ]
     },
     "execution_count": 36,
     "metadata": {},
     "output_type": "execute_result"
    }
   ],
   "source": [
    "articles_merged"
   ]
  },
  {
   "cell_type": "markdown",
   "id": "b66cf7cf-9b15-4483-81b5-6eb8f6ea085c",
   "metadata": {},
   "source": [
    "### Re-ordonnancement des articles"
   ]
  },
  {
   "cell_type": "code",
   "execution_count": 37,
   "id": "19aa64d0-0632-4b1b-a448-adcaebb3f436",
   "metadata": {},
   "outputs": [],
   "source": [
    "from scipy import sparse\n",
    "\n",
    "# 1. Inverser item_mapping pour retrouver les article_id dans l’ordre LightFM\n",
    "inverse_item_mapping = {v: k for k, v in item_mapping.items()}\n",
    "ordered_article_ids = [inverse_item_mapping[i] for i in range(len(inverse_item_mapping))]\n",
    "\n",
    "# 2. Réordonner les articles dans le bon ordre\n",
    "articles_ordered = articles_merged.set_index('article_id').loc[ordered_article_ids]\n",
    "\n",
    "# 3. Sélectionner les colonnes à garder\n",
    "columns_to_keep = [col for col in articles_ordered.columns \n",
    "                   if col not in ['created_at_ts', 'category_id', 'last_click_timestamp', 'first_click_timestamp']]\n",
    "\n",
    "item_features_array = articles_ordered[columns_to_keep].values"
   ]
  },
  {
   "cell_type": "markdown",
   "id": "328721d9-dfec-45a6-bc49-fe2ab81ab44a",
   "metadata": {},
   "source": [
    "### Construction de la matrice sparse"
   ]
  },
  {
   "cell_type": "markdown",
   "id": "4bea760d-d214-4802-aaba-8b5c06b01fbb",
   "metadata": {},
   "source": [
    "🚧 LightFM ne connait que les articles de la matrice d'interaction, donc tous les non-cliqués sont absents."
   ]
  },
  {
   "cell_type": "code",
   "execution_count": 38,
   "id": "8e55473f-3c38-400d-add2-2766cb55b06e",
   "metadata": {},
   "outputs": [
    {
     "name": "stdout",
     "output_type": "stream",
     "text": [
      "Item features shape: (46033, 45)\n"
     ]
    }
   ],
   "source": [
    "# 4. Convertir en matrice sparse\n",
    "item_features_matrix = sparse.csr_matrix(item_features_array)\n",
    "\n",
    "# 5. Vérification\n",
    "print(\"Item features shape:\", item_features_matrix.shape)  # doit être (num_items, num_features)"
   ]
  },
  {
   "cell_type": "markdown",
   "id": "72d7032c-41cc-4264-9771-d898e073eddb",
   "metadata": {},
   "source": [
    "## Mise au point et entrainement du modèle"
   ]
  },
  {
   "cell_type": "markdown",
   "id": "cec47a5d-0086-4770-9567-6e0817003670",
   "metadata": {},
   "source": [
    "### Vérification de la matrice d'interactions"
   ]
  },
  {
   "cell_type": "code",
   "execution_count": 41,
   "id": "d7bf05cf-a745-47a9-8d00-a0302d3396b2",
   "metadata": {},
   "outputs": [
    {
     "name": "stdout",
     "output_type": "stream",
     "text": [
      "user_features_matrix shape: (322897, 24)\n",
      "item_features_matrix shape: (46033, 45)\n"
     ]
    }
   ],
   "source": [
    "print(\"user_features_matrix shape:\", user_features_matrix.shape)\n",
    "print(\"item_features_matrix shape:\", item_features_matrix.shape if 'item_features_matrix' in locals() else \"Not defined\")\n"
   ]
  },
  {
   "cell_type": "markdown",
   "id": "2c0c1c2a-0728-4719-b0e3-18d2dc621a08",
   "metadata": {},
   "source": [
    "🧩 Il va falloir normaliser la matrice d'interactions ou la réduire à des valeurs 0/1 (clic ou pas clic).<br>"
   ]
  },
  {
   "cell_type": "code",
   "execution_count": 42,
   "id": "3da7d7e5-ecc2-4ec0-9088-3c8a41fd7628",
   "metadata": {},
   "outputs": [],
   "source": [
    "from sklearn.preprocessing import MinMaxScaler\n",
    "\n",
    "# Normalisation sur la matrice d'entraînement\n",
    "scaler = MinMaxScaler()\n",
    "train_matrix.data = scaler.fit_transform(train_matrix.data.reshape(-1, 1)).flatten()\n",
    "\n",
    "# Normalisation de test_matrix pour RMSE/MAE comparables\n",
    "test_matrix.data = scaler.transform(test_matrix.data.reshape(-1, 1)).flatten()\n"
   ]
  },
  {
   "cell_type": "code",
   "execution_count": 43,
   "id": "652c9350-0ccf-45f8-b8fb-a6fdd89300e9",
   "metadata": {},
   "outputs": [
    {
     "name": "stdout",
     "output_type": "stream",
     "text": [
      "train_matrix shape: (322897, 46033)\n",
      "Nombre total d'interactions : 2627813\n",
      "Valeurs uniques dans train_matrix : [0.         0.1431114  0.24465051 0.3234104  0.38776192 0.4421703\n",
      " 0.489301   0.53087336 0.56806093 0.6017012  0.660664   0.6868209\n",
      " 0.7553494  0.7755238  0.96739614 0.97860205 1.        ]\n"
     ]
    }
   ],
   "source": [
    "print(\"train_matrix shape:\", train_matrix.shape)\n",
    "print(\"Nombre total d'interactions :\", train_matrix.nnz)\n",
    "print(\"Valeurs uniques dans train_matrix :\", np.unique(train_matrix.data))\n"
   ]
  },
  {
   "cell_type": "markdown",
   "id": "e75e6ccf-c3ca-41e3-b798-33f74e552af0",
   "metadata": {},
   "source": [
    "### Vérification des matrices user et item features"
   ]
  },
  {
   "cell_type": "code",
   "execution_count": 44,
   "id": "809658fd-d924-40b3-8b7e-014f4b2dba48",
   "metadata": {},
   "outputs": [
    {
     "name": "stdout",
     "output_type": "stream",
     "text": [
      "User features - min/max: 0.0 1232.0\n",
      "Item features - min/max: -22.667787551879883 6690.0\n"
     ]
    }
   ],
   "source": [
    "print(\"User features - min/max:\", user_features_matrix.min(), user_features_matrix.max())\n",
    "print(\"Item features - min/max:\", item_features_matrix.min(), item_features_matrix.max())\n"
   ]
  },
  {
   "cell_type": "code",
   "execution_count": 46,
   "id": "918430f8-f7fb-4551-8ead-2d7ba0ddfb62",
   "metadata": {},
   "outputs": [
    {
     "name": "stdout",
     "output_type": "stream",
     "text": [
      "User features - min/max: 0.0 1232.0\n",
      "Item features - min/max: -22.667787551879883 6690.0\n",
      "User features - mean/std: 1.1102998789087541 4.994856664130206\n",
      "Item features - mean/std: 4.280114191091565 30.455161323982683\n"
     ]
    }
   ],
   "source": [
    "import numpy as np\n",
    "\n",
    "print(\"User features - min/max:\",\n",
    "      user_features_matrix.min(), user_features_matrix.max())\n",
    "print(\"Item features - min/max:\",\n",
    "      item_features_matrix.min(), item_features_matrix.max())\n",
    "\n",
    "# Convert to dense for mean/std\n",
    "user_dense = user_features_matrix.toarray()\n",
    "item_dense = item_features_matrix.toarray()\n",
    "\n",
    "print(\"User features - mean/std:\",\n",
    "      np.mean(user_dense), np.std(user_dense))\n",
    "print(\"Item features - mean/std:\",\n",
    "      np.mean(item_dense), np.std(item_dense))\n"
   ]
  },
  {
   "cell_type": "code",
   "execution_count": 47,
   "id": "b8c615de-c4a6-43aa-9716-22e9ba6d3243",
   "metadata": {
    "scrolled": true
   },
   "outputs": [
    {
     "name": "stdout",
     "output_type": "stream",
     "text": [
      "[[ 4.  8.  8.  1.  0.  0.  0.  1.  0.  0.  0.  0.  0.  0.  0.  1.  0.  0.\n",
      "   1.  0.  0.  0.  0.  1.]\n",
      " [ 6. 12. 12.  1.  1.  0.  0.  0.  0.  0.  0.  0.  0.  0.  0.  0.  1.  1.\n",
      "   0.  0.  0.  0.  0.  1.]\n",
      " [ 2.  4.  4.  1.  0.  0.  0.  1.  0.  0.  0.  0.  0.  0.  0.  0.  1.  1.\n",
      "   0.  0.  0.  0.  0.  1.]\n",
      " [ 6. 17. 17.  1.  0.  0.  0.  1.  0.  0.  0.  0.  0.  0.  0.  0.  1.  0.\n",
      "   1.  0.  0.  0.  0.  1.]\n",
      " [ 3.  7.  7.  1.  0.  0.  0.  0.  1.  0.  1.  0.  0.  0.  0.  0.  0.  1.\n",
      "   0.  0.  0.  0.  0.  1.]]\n",
      "[[ 2.26000000e+02  4.63761473e+00  2.22631049e+00 -4.17541552e+00\n",
      "   4.41523027e+00 -2.97322810e-01  3.67020154e+00  2.76202250e+00\n",
      "  -3.85276437e+00 -2.79916310e+00 -2.31961441e+00 -6.13838077e-01\n",
      "   2.87118173e+00 -1.06509721e+00 -4.47295666e+00  1.57804489e+00\n",
      "  -1.45118523e+00 -3.54992175e+00 -1.81701314e+00 -3.20682257e-01\n",
      "  -7.02058852e-01 -1.16213024e-01  1.22593129e+00 -1.84592366e-01\n",
      "   1.58132744e+00 -2.15322495e+00 -7.44944215e-01  4.83503640e-01\n",
      "  -2.09425956e-01  9.22326803e-01 -2.26008749e+00 -1.82864976e+00\n",
      "  -1.00101292e+00  7.97471285e-01 -4.92230415e-01 -3.05857211e-01\n",
      "  -1.30783498e+00  3.54009539e-01  6.96917117e-01 -4.86315608e-01\n",
      "   1.72101930e-02 -1.56304479e+00  4.03084943e-02  4.36667155e-02\n",
      "   1.03516281e-01]\n",
      " [ 1.37000000e+02  1.01777477e+01 -3.15114331e+00  2.66260242e+00\n",
      "   3.98322105e-01 -1.12119094e-02 -4.73578072e+00  1.58840168e+00\n",
      "  -1.94524789e+00  4.46087152e-01  2.05391145e+00 -5.99564493e-01\n",
      "  -2.70876765e-01 -4.84073877e+00  1.26452100e+00 -7.37412930e-01\n",
      "   3.51740670e+00  2.27885813e-01  1.91250890e-01  3.16858709e-01\n",
      "   1.03426158e+00  5.65116227e-01 -2.11021209e+00  8.04190934e-01\n",
      "  -4.55750257e-01  1.24045777e+00  1.40870917e+00 -3.06262851e+00\n",
      "  -1.17895484e+00 -6.43330514e-02 -8.48792642e-02 -4.11010623e-01\n",
      "  -3.77005863e+00  8.83648217e-01  6.94141865e-01  9.16876614e-01\n",
      "   1.15080856e-01 -1.11299562e+00 -8.81460369e-01  6.37136698e-01\n",
      "   8.04333329e-01 -6.63170815e-01  3.61164109e-02  3.90686777e-02\n",
      "   4.17788578e-01]\n",
      " [ 1.00000000e+02  1.43832722e+01  1.01052038e-01  3.73150134e+00\n",
      "   2.72935414e+00 -1.74824238e+00 -3.64403605e+00 -2.19718719e+00\n",
      "  -8.06244493e-01  5.99680948e+00 -8.19096565e-01 -1.19644547e+00\n",
      "  -8.87962341e-01  6.27610683e-01 -7.69556403e-01 -1.76349938e+00\n",
      "   5.00082672e-01 -1.50084639e+00  4.65496063e-01 -4.29580390e-01\n",
      "   1.65259576e+00  3.51391762e-01 -9.13536131e-01 -1.45481181e+00\n",
      "  -2.85016090e-01  2.72903949e-01 -5.84322035e-01 -2.06448865e+00\n",
      "  -2.86778122e-01 -5.92343807e-01  2.57298909e-02  7.67635167e-01\n",
      "   2.72564352e-01 -2.74521399e+00  3.88990164e-01  5.53344309e-01\n",
      "   1.33391213e+00  4.38463092e-01  1.42471623e+00 -9.86502707e-01\n",
      "  -1.18840165e-01 -1.80172360e+00  1.31271330e-01  1.40928394e-01\n",
      "   5.48620620e-01]\n",
      " [ 2.11000000e+02  1.55972552e+00 -1.71062875e+00 -2.15476441e+00\n",
      "   2.54784822e-01  2.87673593e-01  4.83071947e+00  4.37023211e+00\n",
      "  -9.03213215e+00  1.59853768e+00 -3.61607224e-01  1.07298148e+00\n",
      "   7.12930739e-01  1.06850553e+00  4.09486723e+00  1.69307017e+00\n",
      "   1.45884871e+00 -2.50210190e+00 -9.84966516e-01  1.72862399e+00\n",
      "  -2.15393281e+00  2.57067025e-01 -2.62330246e+00 -4.59607887e+00\n",
      "  -8.48044157e-01 -1.24545228e+00  1.99540401e+00  1.79002762e+00\n",
      "  -9.81466055e-01  4.48638886e-01  8.43622029e-01 -9.04367149e-01\n",
      "   5.86730957e-01 -1.06011021e+00 -6.03443861e-01  4.11605686e-02\n",
      "  -1.38879216e+00 -7.77143776e-01  4.37104255e-01  3.24868631e+00\n",
      "   5.64051867e-01 -9.61517632e-01  1.60347190e-01  1.73671109e-01\n",
      "   4.10894257e-01]\n",
      " [ 2.80000000e+02  5.00726128e+00  5.46548939e+00 -6.24112606e+00\n",
      "   4.58134747e+00  2.53727466e-01  4.60450268e+00  1.20432317e+00\n",
      "  -3.81895423e+00 -4.85530710e+00  1.78938001e-01 -9.76525843e-01\n",
      "   1.03341711e+00 -3.81804705e+00 -1.51474416e+00 -4.01221395e-01\n",
      "  -3.50428009e+00  4.04064751e+00  2.64080763e-02  8.01533699e-01\n",
      "  -3.86786652e+00  1.79764405e-01 -8.06168079e-01 -1.83141065e+00\n",
      "   1.71416610e-01 -1.05997682e+00 -7.19566822e-01  1.13845706e+00\n",
      "  -1.80446577e+00  2.73295164e+00 -1.51842475e-01 -1.15052962e+00\n",
      "  -3.21484268e-01  9.10161912e-01 -4.13011253e-01  6.80834889e-01\n",
      "  -4.18408990e-01 -5.26442707e-01  3.05625200e-01 -3.07805330e-01\n",
      "  -6.06366158e-01 -6.50556087e-01  9.88901728e-03  1.06604188e-02\n",
      "   7.67189907e-01]]\n"
     ]
    }
   ],
   "source": [
    "print(user_features_matrix[:5].toarray())\n",
    "print(item_features_matrix[:5].toarray())\n"
   ]
  },
  {
   "cell_type": "code",
   "execution_count": 48,
   "id": "55eb8e7c-5d6a-4563-be92-5dd18a69b912",
   "metadata": {},
   "outputs": [],
   "source": [
    "from sklearn.preprocessing import MinMaxScaler\n",
    "\n",
    "# Normalisation user features\n",
    "user_dense = user_features_matrix.toarray()\n",
    "user_scaler = MinMaxScaler()\n",
    "user_dense_norm = user_scaler.fit_transform(user_dense)\n",
    "user_features_matrix = sparse.csr_matrix(user_dense_norm)\n",
    "\n",
    "# Normalisation item features\n",
    "item_dense = item_features_matrix.toarray()\n",
    "item_scaler = MinMaxScaler()\n",
    "item_dense_norm = item_scaler.fit_transform(item_dense)\n",
    "item_features_matrix = sparse.csr_matrix(item_dense_norm)\n"
   ]
  },
  {
   "cell_type": "markdown",
   "id": "7ec5b6aa-7474-4835-8289-2891d2ebbc40",
   "metadata": {},
   "source": [
    "### Entrainement Matrice user-item + user features"
   ]
  },
  {
   "cell_type": "code",
   "execution_count": 49,
   "id": "ad38c84b-0187-4e77-903f-fe7d0866a0f5",
   "metadata": {},
   "outputs": [
    {
     "name": "stderr",
     "output_type": "stream",
     "text": [
      "Training Progress: Matrice user-item + user features: 100%|██████████| 50/50 [01:09<00:00,  1.39s/it]\n",
      "Calcul NDCG@k: 100%|██████████| 322897/322897 [1:14:36<00:00, 72.14it/s]\n",
      "Calcul RMSE/MAE: 100%|██████████| 322897/322897 [59:58<00:00, 89.72it/s] \n"
     ]
    },
    {
     "name": "stdout",
     "output_type": "stream",
     "text": [
      "📄 Résultats mis à jour dans results/experiments_lightfm.csv\n",
      "{'Experiment': 'Matrice user-item + user features', 'Hit@5': 0.007950524, 'Recall@5': 0.03975261461085114, 'NDCG@5': 0.022587685113574053, 'RMSE': 286.6257683127216, 'MAE': 284.49714016669446}\n"
     ]
    }
   ],
   "source": [
    "final_model_user, final_eval_user = retrain_and_evaluate_lightfm(\n",
    "    train_matrix,\n",
    "    test_matrix,\n",
    "    best_params,\n",
    "    user_features=user_features_matrix,\n",
    "    item_features=item_features_matrix,\n",
    "    epochs=50,\n",
    "    k=5,\n",
    "    num_threads=8,\n",
    "    experiment_name=\"Matrice user-item + user features\"\n",
    ")\n",
    "\n",
    "print(final_eval_user)\n"
   ]
  },
  {
   "cell_type": "code",
   "execution_count": 51,
   "id": "7d60a3ee-5575-4a0f-bf0d-d77efe236938",
   "metadata": {},
   "outputs": [],
   "source": [
    "import pandas as pd\n",
    "import matplotlib.pyplot as plt\n",
    "\n",
    "def plot_experiments_results(results_file=\"results/experiments_lightfm.csv\"):\n",
    "    \"\"\"\n",
    "    Charge le fichier CSV des résultats LightFM, \n",
    "    et trace un barplot comparatif des principales métriques.\n",
    "    \"\"\"\n",
    "\n",
    "    # 1. Charger le CSV\n",
    "    results_df = pd.read_csv(results_file)\n",
    "    print(f\"✅ Chargé : {results_df.shape[0]} expériences.\")\n",
    "\n",
    "    # 2. Afficher le DataFrame brut\n",
    "    print(results_df)\n",
    "\n",
    "    # 3. Choisir les métriques à tracer\n",
    "    metrics_to_plot = ['Hit@5', 'Recall@5', 'NDCG@5']\n",
    "\n",
    "    # 4. Tracer un barplot par métrique\n",
    "    for metric in metrics_to_plot:\n",
    "        plt.figure(figsize=(8, 5))\n",
    "        plt.barh(results_df['Experiment'], results_df[metric], color='skyblue')\n",
    "        plt.xlabel(metric)\n",
    "        plt.title(f'Comparaison des expériences - {metric}')\n",
    "        plt.grid(True, axis='x')\n",
    "        plt.show()\n",
    "\n",
    "    return results_df\n"
   ]
  },
  {
   "cell_type": "code",
   "execution_count": null,
   "id": "dcb4dc6e-846b-4a5b-bf52-a7fc93514fbd",
   "metadata": {},
   "outputs": [],
   "source": []
  },
  {
   "cell_type": "code",
   "execution_count": 52,
   "id": "a7688a77-de26-4cc2-84f2-26ee07e46d3e",
   "metadata": {},
   "outputs": [
    {
     "name": "stdout",
     "output_type": "stream",
     "text": [
      "✅ Chargé : 5 expériences.\n",
      "                          Experiment     Hit@5  Recall@5    NDCG@5  \\\n",
      "0                  Matrice user-item  0.036425  0.182123  0.129141   \n",
      "1  Matrice user-item + user features  0.000018  0.000090  0.000048   \n",
      "2                  Matrice user-item  0.036503  0.182513  0.129370   \n",
      "3  Matrice user-item + user features  0.000116  0.000579  0.000466   \n",
      "4  Matrice user-item + user features  0.007951  0.039753  0.022588   \n",
      "\n",
      "            RMSE           MAE  \n",
      "0       2.466035      1.929624  \n",
      "1   13333.205779   8701.612446  \n",
      "2       2.467680      1.930722  \n",
      "3  219587.815578  66034.112071  \n",
      "4     286.625768    284.497140  \n"
     ]
    },
    {
     "data": {
      "image/png": "[encoded data removed]",
      "text/plain": [
       "<Figure size 800x500 with 1 Axes>"
      ]
     },
     "metadata": {},
     "output_type": "display_data"
    },
    {
     "data": {
      "image/png": "[encoded data removed]",
      "text/plain": [
       "<Figure size 800x500 with 1 Axes>"
      ]
     },
     "metadata": {},
     "output_type": "display_data"
    },
    {
     "data": {
      "image/png": "[encoded data removed]",
      "text/plain": [
       "<Figure size 800x500 with 1 Axes>"
      ]
     },
     "metadata": {},
     "output_type": "display_data"
    }
   ],
   "source": [
    "results_df = plot_experiments_results()"
   ]
  },
  {
   "cell_type": "code",
   "execution_count": null,
   "id": "87f81690-21e8-4e94-8b77-2c1dbe66a1a1",
   "metadata": {},
   "outputs": [],
   "source": []
  }
 ],
 "metadata": {
  "kernelspec": {
   "display_name": "Python 3 (ipykernel)",
   "language": "python",
   "name": "python3"
  },
  "language_info": {
   "codemirror_mode": {
    "name": "ipython",
    "version": 3
   },
   "file_extension": ".py",
   "mimetype": "text/x-python",
   "name": "python",
   "nbconvert_exporter": "python",
   "pygments_lexer": "ipython3",
   "version": "3.11.6"
  }
 },
 "nbformat": 4,
 "nbformat_minor": 5
}
