{
 "cells": [
  {
   "cell_type": "markdown",
   "id": "5aa11a88-994d-42ff-b3a2-0125952fcf8f",
   "metadata": {},
   "source": [
    "# Filtrage collaboratif avec Implicit\n",
    "On va utiliser la version qui travaille avec le GPU"
   ]
  },
  {
   "cell_type": "code",
   "execution_count": 1,
   "id": "b23adfe3-90ef-4325-903f-1c6345b887f4",
   "metadata": {},
   "outputs": [
    {
     "name": "stdout",
     "output_type": "stream",
     "text": [
      "Thu Apr 24 22:14:21 2025       \n",
      "+-----------------------------------------------------------------------------------------+\n",
      "| NVIDIA-SMI 550.120                Driver Version: 550.120        CUDA Version: 12.4     |\n",
      "|-----------------------------------------+------------------------+----------------------+\n",
      "| GPU  Name                 Persistence-M | Bus-Id          Disp.A | Volatile Uncorr. ECC |\n",
      "| Fan  Temp   Perf          Pwr:Usage/Cap |           Memory-Usage | GPU-Util  Compute M. |\n",
      "|                                         |                        |               MIG M. |\n",
      "|=========================================+========================+======================|\n",
      "|   0  NVIDIA GeForce RTX 4060 ...    Off |   00000000:01:00.0  On |                  N/A |\n",
      "| N/A   39C    P5              9W /   80W |      94MiB /   8188MiB |      0%      Default |\n",
      "|                                         |                        |                  N/A |\n",
      "+-----------------------------------------+------------------------+----------------------+\n",
      "                                                                                         \n",
      "+-----------------------------------------------------------------------------------------+\n",
      "| Processes:                                                                              |\n",
      "|  GPU   GI   CI        PID   Type   Process name                              GPU Memory |\n",
      "|        ID   ID                                                               Usage      |\n",
      "|=========================================================================================|\n",
      "+-----------------------------------------------------------------------------------------+\n"
     ]
    }
   ],
   "source": [
    "! nvidia-smi"
   ]
  },
  {
   "cell_type": "markdown",
   "id": "02766ef3-ff48-49d3-8012-32cce599a9e5",
   "metadata": {},
   "source": [
    "## Données"
   ]
  },
  {
   "cell_type": "markdown",
   "id": "898decbd-9c5c-4c3b-a625-a6ebd519eda2",
   "metadata": {},
   "source": [
    "### Chargement du dataframe global"
   ]
  },
  {
   "cell_type": "code",
   "execution_count": 2,
   "id": "558bcdc8-7e74-4a5c-b7e1-a683d5b88aaf",
   "metadata": {},
   "outputs": [
    {
     "name": "stdout",
     "output_type": "stream",
     "text": [
      "✅ Dataset rechargé avec succès.\n"
     ]
    }
   ],
   "source": [
    "import pandas as pd\n",
    "\n",
    "df_clicks = pd.read_parquet(\"./data/df_final.parquet\")\n",
    "print(\"✅ Dataset rechargé avec succès.\")"
   ]
  },
  {
   "cell_type": "code",
   "execution_count": 3,
   "id": "0406cc98-31c1-47bf-8d68-04592afa85ad",
   "metadata": {},
   "outputs": [
    {
     "data": {
      "text/html": [
       "<div>\n",
       "<style scoped>\n",
       "    .dataframe tbody tr th:only-of-type {\n",
       "        vertical-align: middle;\n",
       "    }\n",
       "\n",
       "    .dataframe tbody tr th {\n",
       "        vertical-align: top;\n",
       "    }\n",
       "\n",
       "    .dataframe thead th {\n",
       "        text-align: right;\n",
       "    }\n",
       "</style>\n",
       "<table border=\"1\" class=\"dataframe\">\n",
       "  <thead>\n",
       "    <tr style=\"text-align: right;\">\n",
       "      <th></th>\n",
       "      <th>user_id</th>\n",
       "      <th>session_id</th>\n",
       "      <th>session_start</th>\n",
       "      <th>session_size</th>\n",
       "      <th>click_article_id</th>\n",
       "      <th>click_timestamp</th>\n",
       "      <th>click_environment</th>\n",
       "      <th>click_deviceGroup</th>\n",
       "      <th>click_os</th>\n",
       "      <th>click_country</th>\n",
       "      <th>...</th>\n",
       "      <th>31</th>\n",
       "      <th>32</th>\n",
       "      <th>33</th>\n",
       "      <th>34</th>\n",
       "      <th>35</th>\n",
       "      <th>36</th>\n",
       "      <th>37</th>\n",
       "      <th>38</th>\n",
       "      <th>39</th>\n",
       "      <th>40</th>\n",
       "    </tr>\n",
       "  </thead>\n",
       "  <tbody>\n",
       "    <tr>\n",
       "      <th>0</th>\n",
       "      <td>0</td>\n",
       "      <td>1506825423271737</td>\n",
       "      <td>1506825423000</td>\n",
       "      <td>2</td>\n",
       "      <td>157541</td>\n",
       "      <td>1506826828020</td>\n",
       "      <td>4</td>\n",
       "      <td>3</td>\n",
       "      <td>20</td>\n",
       "      <td>1</td>\n",
       "      <td>...</td>\n",
       "      <td>-0.321484</td>\n",
       "      <td>0.910162</td>\n",
       "      <td>-0.413011</td>\n",
       "      <td>0.680835</td>\n",
       "      <td>-0.418409</td>\n",
       "      <td>-0.526443</td>\n",
       "      <td>0.305625</td>\n",
       "      <td>-0.307805</td>\n",
       "      <td>-0.606366</td>\n",
       "      <td>-0.650556</td>\n",
       "    </tr>\n",
       "    <tr>\n",
       "      <th>1</th>\n",
       "      <td>0</td>\n",
       "      <td>1506825423271737</td>\n",
       "      <td>1506825423000</td>\n",
       "      <td>2</td>\n",
       "      <td>68866</td>\n",
       "      <td>1506826858020</td>\n",
       "      <td>4</td>\n",
       "      <td>3</td>\n",
       "      <td>20</td>\n",
       "      <td>1</td>\n",
       "      <td>...</td>\n",
       "      <td>-1.001013</td>\n",
       "      <td>0.797471</td>\n",
       "      <td>-0.492230</td>\n",
       "      <td>-0.305857</td>\n",
       "      <td>-1.307835</td>\n",
       "      <td>0.354010</td>\n",
       "      <td>0.696917</td>\n",
       "      <td>-0.486316</td>\n",
       "      <td>0.017210</td>\n",
       "      <td>-1.563045</td>\n",
       "    </tr>\n",
       "    <tr>\n",
       "      <th>2</th>\n",
       "      <td>1</td>\n",
       "      <td>1506825426267738</td>\n",
       "      <td>1506825426000</td>\n",
       "      <td>2</td>\n",
       "      <td>235840</td>\n",
       "      <td>1506827017951</td>\n",
       "      <td>4</td>\n",
       "      <td>1</td>\n",
       "      <td>17</td>\n",
       "      <td>1</td>\n",
       "      <td>...</td>\n",
       "      <td>-0.269690</td>\n",
       "      <td>0.873445</td>\n",
       "      <td>0.194144</td>\n",
       "      <td>0.056367</td>\n",
       "      <td>-0.431036</td>\n",
       "      <td>-0.020383</td>\n",
       "      <td>-0.376942</td>\n",
       "      <td>0.814494</td>\n",
       "      <td>0.709722</td>\n",
       "      <td>-1.030146</td>\n",
       "    </tr>\n",
       "    <tr>\n",
       "      <th>3</th>\n",
       "      <td>1</td>\n",
       "      <td>1506825426267738</td>\n",
       "      <td>1506825426000</td>\n",
       "      <td>2</td>\n",
       "      <td>96663</td>\n",
       "      <td>1506827047951</td>\n",
       "      <td>4</td>\n",
       "      <td>1</td>\n",
       "      <td>17</td>\n",
       "      <td>1</td>\n",
       "      <td>...</td>\n",
       "      <td>0.144034</td>\n",
       "      <td>-2.457183</td>\n",
       "      <td>-1.500929</td>\n",
       "      <td>-1.807169</td>\n",
       "      <td>-0.208940</td>\n",
       "      <td>-0.671638</td>\n",
       "      <td>-0.407914</td>\n",
       "      <td>2.561696</td>\n",
       "      <td>-1.379031</td>\n",
       "      <td>-1.877568</td>\n",
       "    </tr>\n",
       "    <tr>\n",
       "      <th>4</th>\n",
       "      <td>2</td>\n",
       "      <td>1506825435299739</td>\n",
       "      <td>1506825435000</td>\n",
       "      <td>2</td>\n",
       "      <td>119592</td>\n",
       "      <td>1506827090575</td>\n",
       "      <td>4</td>\n",
       "      <td>1</td>\n",
       "      <td>17</td>\n",
       "      <td>1</td>\n",
       "      <td>...</td>\n",
       "      <td>-1.163678</td>\n",
       "      <td>-0.230112</td>\n",
       "      <td>-2.132536</td>\n",
       "      <td>-0.729996</td>\n",
       "      <td>0.581913</td>\n",
       "      <td>-0.559910</td>\n",
       "      <td>-0.354824</td>\n",
       "      <td>-0.914158</td>\n",
       "      <td>-0.064399</td>\n",
       "      <td>-0.354175</td>\n",
       "    </tr>\n",
       "  </tbody>\n",
       "</table>\n",
       "<p>5 rows × 66 columns</p>\n",
       "</div>"
      ],
      "text/plain": [
       "   user_id        session_id  session_start  session_size  click_article_id  \\\n",
       "0        0  1506825423271737  1506825423000             2            157541   \n",
       "1        0  1506825423271737  1506825423000             2             68866   \n",
       "2        1  1506825426267738  1506825426000             2            235840   \n",
       "3        1  1506825426267738  1506825426000             2             96663   \n",
       "4        2  1506825435299739  1506825435000             2            119592   \n",
       "\n",
       "   click_timestamp click_environment click_deviceGroup click_os click_country  \\\n",
       "0    1506826828020                 4                 3       20             1   \n",
       "1    1506826858020                 4                 3       20             1   \n",
       "2    1506827017951                 4                 1       17             1   \n",
       "3    1506827047951                 4                 1       17             1   \n",
       "4    1506827090575                 4                 1       17             1   \n",
       "\n",
       "   ...        31        32        33        34        35        36        37  \\\n",
       "0  ... -0.321484  0.910162 -0.413011  0.680835 -0.418409 -0.526443  0.305625   \n",
       "1  ... -1.001013  0.797471 -0.492230 -0.305857 -1.307835  0.354010  0.696917   \n",
       "2  ... -0.269690  0.873445  0.194144  0.056367 -0.431036 -0.020383 -0.376942   \n",
       "3  ...  0.144034 -2.457183 -1.500929 -1.807169 -0.208940 -0.671638 -0.407914   \n",
       "4  ... -1.163678 -0.230112 -2.132536 -0.729996  0.581913 -0.559910 -0.354824   \n",
       "\n",
       "         38        39        40  \n",
       "0 -0.307805 -0.606366 -0.650556  \n",
       "1 -0.486316  0.017210 -1.563045  \n",
       "2  0.814494  0.709722 -1.030146  \n",
       "3  2.561696 -1.379031 -1.877568  \n",
       "4 -0.914158 -0.064399 -0.354175  \n",
       "\n",
       "[5 rows x 66 columns]"
      ]
     },
     "execution_count": 3,
     "metadata": {},
     "output_type": "execute_result"
    }
   ],
   "source": [
    "df_clicks.head()"
   ]
  },
  {
   "cell_type": "markdown",
   "id": "9664f658-ef8f-4d8f-903b-fe67397154e5",
   "metadata": {},
   "source": [
    "### Liste des articles"
   ]
  },
  {
   "cell_type": "code",
   "execution_count": 4,
   "id": "66ca7dfb-d299-4974-b949-1ca785477303",
   "metadata": {
    "jupyter": {
     "source_hidden": true
    },
    "scrolled": true
   },
   "outputs": [
    {
     "data": {
      "text/html": [
       "<div>\n",
       "<style scoped>\n",
       "    .dataframe tbody tr th:only-of-type {\n",
       "        vertical-align: middle;\n",
       "    }\n",
       "\n",
       "    .dataframe tbody tr th {\n",
       "        vertical-align: top;\n",
       "    }\n",
       "\n",
       "    .dataframe thead th {\n",
       "        text-align: right;\n",
       "    }\n",
       "</style>\n",
       "<table border=\"1\" class=\"dataframe\">\n",
       "  <thead>\n",
       "    <tr style=\"text-align: right;\">\n",
       "      <th></th>\n",
       "      <th>article_id</th>\n",
       "      <th>category_id</th>\n",
       "      <th>created_at_ts</th>\n",
       "      <th>publisher_id</th>\n",
       "      <th>words_count</th>\n",
       "      <th>cluster</th>\n",
       "      <th>publish_time_dt</th>\n",
       "      <th>nb_clics</th>\n",
       "      <th>popularite_tag</th>\n",
       "      <th>popularity_norm</th>\n",
       "    </tr>\n",
       "  </thead>\n",
       "  <tbody>\n",
       "    <tr>\n",
       "      <th>0</th>\n",
       "      <td>0</td>\n",
       "      <td>0</td>\n",
       "      <td>1513144419000</td>\n",
       "      <td>0</td>\n",
       "      <td>168</td>\n",
       "      <td>16</td>\n",
       "      <td>2017-12-13 05:53:39</td>\n",
       "      <td>0</td>\n",
       "      <td>jamais_cliqué</td>\n",
       "      <td>0.000000</td>\n",
       "    </tr>\n",
       "    <tr>\n",
       "      <th>1</th>\n",
       "      <td>1</td>\n",
       "      <td>1</td>\n",
       "      <td>1405341936000</td>\n",
       "      <td>0</td>\n",
       "      <td>189</td>\n",
       "      <td>11</td>\n",
       "      <td>2014-07-14 12:45:36</td>\n",
       "      <td>0</td>\n",
       "      <td>jamais_cliqué</td>\n",
       "      <td>0.000000</td>\n",
       "    </tr>\n",
       "    <tr>\n",
       "      <th>2</th>\n",
       "      <td>2</td>\n",
       "      <td>1</td>\n",
       "      <td>1408667706000</td>\n",
       "      <td>0</td>\n",
       "      <td>250</td>\n",
       "      <td>3</td>\n",
       "      <td>2014-08-22 00:35:06</td>\n",
       "      <td>0</td>\n",
       "      <td>jamais_cliqué</td>\n",
       "      <td>0.000000</td>\n",
       "    </tr>\n",
       "    <tr>\n",
       "      <th>3</th>\n",
       "      <td>3</td>\n",
       "      <td>1</td>\n",
       "      <td>1408468313000</td>\n",
       "      <td>0</td>\n",
       "      <td>230</td>\n",
       "      <td>3</td>\n",
       "      <td>2014-08-19 17:11:53</td>\n",
       "      <td>1</td>\n",
       "      <td>banal</td>\n",
       "      <td>0.000027</td>\n",
       "    </tr>\n",
       "    <tr>\n",
       "      <th>4</th>\n",
       "      <td>4</td>\n",
       "      <td>1</td>\n",
       "      <td>1407071171000</td>\n",
       "      <td>0</td>\n",
       "      <td>162</td>\n",
       "      <td>3</td>\n",
       "      <td>2014-08-03 13:06:11</td>\n",
       "      <td>0</td>\n",
       "      <td>jamais_cliqué</td>\n",
       "      <td>0.000000</td>\n",
       "    </tr>\n",
       "    <tr>\n",
       "      <th>...</th>\n",
       "      <td>...</td>\n",
       "      <td>...</td>\n",
       "      <td>...</td>\n",
       "      <td>...</td>\n",
       "      <td>...</td>\n",
       "      <td>...</td>\n",
       "      <td>...</td>\n",
       "      <td>...</td>\n",
       "      <td>...</td>\n",
       "      <td>...</td>\n",
       "    </tr>\n",
       "    <tr>\n",
       "      <th>364042</th>\n",
       "      <td>364042</td>\n",
       "      <td>460</td>\n",
       "      <td>1434034118000</td>\n",
       "      <td>0</td>\n",
       "      <td>144</td>\n",
       "      <td>2</td>\n",
       "      <td>2015-06-11 14:48:38</td>\n",
       "      <td>0</td>\n",
       "      <td>jamais_cliqué</td>\n",
       "      <td>0.000000</td>\n",
       "    </tr>\n",
       "    <tr>\n",
       "      <th>364043</th>\n",
       "      <td>364043</td>\n",
       "      <td>460</td>\n",
       "      <td>1434148472000</td>\n",
       "      <td>0</td>\n",
       "      <td>463</td>\n",
       "      <td>7</td>\n",
       "      <td>2015-06-12 22:34:32</td>\n",
       "      <td>8</td>\n",
       "      <td>banal</td>\n",
       "      <td>0.000215</td>\n",
       "    </tr>\n",
       "    <tr>\n",
       "      <th>364044</th>\n",
       "      <td>364044</td>\n",
       "      <td>460</td>\n",
       "      <td>1457974279000</td>\n",
       "      <td>0</td>\n",
       "      <td>177</td>\n",
       "      <td>6</td>\n",
       "      <td>2016-03-14 16:51:19</td>\n",
       "      <td>0</td>\n",
       "      <td>jamais_cliqué</td>\n",
       "      <td>0.000000</td>\n",
       "    </tr>\n",
       "    <tr>\n",
       "      <th>364045</th>\n",
       "      <td>364045</td>\n",
       "      <td>460</td>\n",
       "      <td>1515964737000</td>\n",
       "      <td>0</td>\n",
       "      <td>126</td>\n",
       "      <td>1</td>\n",
       "      <td>2018-01-14 21:18:57</td>\n",
       "      <td>0</td>\n",
       "      <td>jamais_cliqué</td>\n",
       "      <td>0.000000</td>\n",
       "    </tr>\n",
       "    <tr>\n",
       "      <th>364046</th>\n",
       "      <td>364046</td>\n",
       "      <td>460</td>\n",
       "      <td>1505811330000</td>\n",
       "      <td>0</td>\n",
       "      <td>479</td>\n",
       "      <td>7</td>\n",
       "      <td>2017-09-19 08:55:30</td>\n",
       "      <td>2</td>\n",
       "      <td>banal</td>\n",
       "      <td>0.000054</td>\n",
       "    </tr>\n",
       "  </tbody>\n",
       "</table>\n",
       "<p>364047 rows × 10 columns</p>\n",
       "</div>"
      ],
      "text/plain": [
       "        article_id  category_id  created_at_ts  publisher_id  words_count  \\\n",
       "0                0            0  1513144419000             0          168   \n",
       "1                1            1  1405341936000             0          189   \n",
       "2                2            1  1408667706000             0          250   \n",
       "3                3            1  1408468313000             0          230   \n",
       "4                4            1  1407071171000             0          162   \n",
       "...            ...          ...            ...           ...          ...   \n",
       "364042      364042          460  1434034118000             0          144   \n",
       "364043      364043          460  1434148472000             0          463   \n",
       "364044      364044          460  1457974279000             0          177   \n",
       "364045      364045          460  1515964737000             0          126   \n",
       "364046      364046          460  1505811330000             0          479   \n",
       "\n",
       "        cluster      publish_time_dt  nb_clics popularite_tag  popularity_norm  \n",
       "0            16  2017-12-13 05:53:39         0  jamais_cliqué         0.000000  \n",
       "1            11  2014-07-14 12:45:36         0  jamais_cliqué         0.000000  \n",
       "2             3  2014-08-22 00:35:06         0  jamais_cliqué         0.000000  \n",
       "3             3  2014-08-19 17:11:53         1          banal         0.000027  \n",
       "4             3  2014-08-03 13:06:11         0  jamais_cliqué         0.000000  \n",
       "...         ...                  ...       ...            ...              ...  \n",
       "364042        2  2015-06-11 14:48:38         0  jamais_cliqué         0.000000  \n",
       "364043        7  2015-06-12 22:34:32         8          banal         0.000215  \n",
       "364044        6  2016-03-14 16:51:19         0  jamais_cliqué         0.000000  \n",
       "364045        1  2018-01-14 21:18:57         0  jamais_cliqué         0.000000  \n",
       "364046        7  2017-09-19 08:55:30         2          banal         0.000054  \n",
       "\n",
       "[364047 rows x 10 columns]"
      ]
     },
     "execution_count": 4,
     "metadata": {},
     "output_type": "execute_result"
    }
   ],
   "source": [
    "df_articles = pd.read_csv(\"./data/articles_with_popularity.csv\", encoding='utf-8')\n",
    "df_articles"
   ]
  },
  {
   "cell_type": "markdown",
   "id": "19b3ca20-830e-4ba1-82e7-464c157835e5",
   "metadata": {},
   "source": [
    "### Chargement des embeddings réduits"
   ]
  },
  {
   "cell_type": "code",
   "execution_count": 5,
   "id": "6e0e2b0f-ab08-4951-82a1-6be7892810ac",
   "metadata": {
    "jupyter": {
     "source_hidden": true
    }
   },
   "outputs": [
    {
     "name": "stdout",
     "output_type": "stream",
     "text": [
      "(364047, 41)\n"
     ]
    }
   ],
   "source": [
    "import pandas as pd\n",
    "\n",
    "embeddings_df = pd.read_parquet('./data/articles_embeddings_pca.parquet')\n",
    "print(embeddings_df.shape)"
   ]
  },
  {
   "cell_type": "code",
   "execution_count": 6,
   "id": "3986ef77-7c39-46ca-bcac-32d879049e9b",
   "metadata": {
    "jupyter": {
     "source_hidden": true
    }
   },
   "outputs": [
    {
     "data": {
      "text/html": [
       "<div>\n",
       "<style scoped>\n",
       "    .dataframe tbody tr th:only-of-type {\n",
       "        vertical-align: middle;\n",
       "    }\n",
       "\n",
       "    .dataframe tbody tr th {\n",
       "        vertical-align: top;\n",
       "    }\n",
       "\n",
       "    .dataframe thead th {\n",
       "        text-align: right;\n",
       "    }\n",
       "</style>\n",
       "<table border=\"1\" class=\"dataframe\">\n",
       "  <thead>\n",
       "    <tr style=\"text-align: right;\">\n",
       "      <th></th>\n",
       "      <th>0</th>\n",
       "      <th>1</th>\n",
       "      <th>2</th>\n",
       "      <th>3</th>\n",
       "      <th>4</th>\n",
       "      <th>5</th>\n",
       "      <th>6</th>\n",
       "      <th>7</th>\n",
       "      <th>8</th>\n",
       "      <th>9</th>\n",
       "      <th>...</th>\n",
       "      <th>31</th>\n",
       "      <th>32</th>\n",
       "      <th>33</th>\n",
       "      <th>34</th>\n",
       "      <th>35</th>\n",
       "      <th>36</th>\n",
       "      <th>37</th>\n",
       "      <th>38</th>\n",
       "      <th>39</th>\n",
       "      <th>40</th>\n",
       "    </tr>\n",
       "    <tr>\n",
       "      <th>article_id</th>\n",
       "      <th></th>\n",
       "      <th></th>\n",
       "      <th></th>\n",
       "      <th></th>\n",
       "      <th></th>\n",
       "      <th></th>\n",
       "      <th></th>\n",
       "      <th></th>\n",
       "      <th></th>\n",
       "      <th></th>\n",
       "      <th></th>\n",
       "      <th></th>\n",
       "      <th></th>\n",
       "      <th></th>\n",
       "      <th></th>\n",
       "      <th></th>\n",
       "      <th></th>\n",
       "      <th></th>\n",
       "      <th></th>\n",
       "      <th></th>\n",
       "      <th></th>\n",
       "    </tr>\n",
       "  </thead>\n",
       "  <tbody>\n",
       "    <tr>\n",
       "      <th>0</th>\n",
       "      <td>-1.854453</td>\n",
       "      <td>-5.592402</td>\n",
       "      <td>1.708724</td>\n",
       "      <td>-3.835164</td>\n",
       "      <td>1.415795</td>\n",
       "      <td>0.252210</td>\n",
       "      <td>0.426074</td>\n",
       "      <td>0.545480</td>\n",
       "      <td>-0.807394</td>\n",
       "      <td>1.520171</td>\n",
       "      <td>...</td>\n",
       "      <td>0.387738</td>\n",
       "      <td>-0.088799</td>\n",
       "      <td>0.990514</td>\n",
       "      <td>1.060148</td>\n",
       "      <td>-0.218378</td>\n",
       "      <td>-1.099852</td>\n",
       "      <td>-1.175524</td>\n",
       "      <td>1.370632</td>\n",
       "      <td>-0.264816</td>\n",
       "      <td>0.010117</td>\n",
       "    </tr>\n",
       "    <tr>\n",
       "      <th>1</th>\n",
       "      <td>-5.361997</td>\n",
       "      <td>4.122991</td>\n",
       "      <td>-2.357516</td>\n",
       "      <td>-3.428017</td>\n",
       "      <td>-0.431079</td>\n",
       "      <td>3.722260</td>\n",
       "      <td>2.389835</td>\n",
       "      <td>-1.267244</td>\n",
       "      <td>1.944162</td>\n",
       "      <td>2.980629</td>\n",
       "      <td>...</td>\n",
       "      <td>0.025565</td>\n",
       "      <td>-0.721510</td>\n",
       "      <td>0.649929</td>\n",
       "      <td>-0.405225</td>\n",
       "      <td>-0.090690</td>\n",
       "      <td>-3.094968</td>\n",
       "      <td>0.075186</td>\n",
       "      <td>0.245235</td>\n",
       "      <td>-1.250343</td>\n",
       "      <td>0.294538</td>\n",
       "    </tr>\n",
       "    <tr>\n",
       "      <th>2</th>\n",
       "      <td>-3.600085</td>\n",
       "      <td>-0.132112</td>\n",
       "      <td>-6.027451</td>\n",
       "      <td>0.985617</td>\n",
       "      <td>0.211965</td>\n",
       "      <td>4.591712</td>\n",
       "      <td>-1.815688</td>\n",
       "      <td>-2.170389</td>\n",
       "      <td>-2.783090</td>\n",
       "      <td>2.804910</td>\n",
       "      <td>...</td>\n",
       "      <td>0.565647</td>\n",
       "      <td>-1.862223</td>\n",
       "      <td>-0.336458</td>\n",
       "      <td>0.072410</td>\n",
       "      <td>0.241466</td>\n",
       "      <td>-0.877634</td>\n",
       "      <td>0.154883</td>\n",
       "      <td>1.133963</td>\n",
       "      <td>0.946740</td>\n",
       "      <td>-1.811314</td>\n",
       "    </tr>\n",
       "    <tr>\n",
       "      <th>3</th>\n",
       "      <td>-1.158963</td>\n",
       "      <td>7.293352</td>\n",
       "      <td>-5.916713</td>\n",
       "      <td>-1.370524</td>\n",
       "      <td>2.172241</td>\n",
       "      <td>-1.682487</td>\n",
       "      <td>1.070822</td>\n",
       "      <td>-2.160001</td>\n",
       "      <td>1.947324</td>\n",
       "      <td>4.069597</td>\n",
       "      <td>...</td>\n",
       "      <td>0.074049</td>\n",
       "      <td>-0.612824</td>\n",
       "      <td>-1.511408</td>\n",
       "      <td>1.071736</td>\n",
       "      <td>1.991838</td>\n",
       "      <td>-2.076190</td>\n",
       "      <td>-1.690459</td>\n",
       "      <td>-1.122692</td>\n",
       "      <td>0.714619</td>\n",
       "      <td>-1.576244</td>\n",
       "    </tr>\n",
       "    <tr>\n",
       "      <th>4</th>\n",
       "      <td>-1.142884</td>\n",
       "      <td>2.569328</td>\n",
       "      <td>-2.891860</td>\n",
       "      <td>-0.273997</td>\n",
       "      <td>2.913007</td>\n",
       "      <td>5.608970</td>\n",
       "      <td>0.308953</td>\n",
       "      <td>0.310888</td>\n",
       "      <td>-1.054171</td>\n",
       "      <td>2.158180</td>\n",
       "      <td>...</td>\n",
       "      <td>-1.527867</td>\n",
       "      <td>-0.155615</td>\n",
       "      <td>-0.163345</td>\n",
       "      <td>0.037253</td>\n",
       "      <td>1.173636</td>\n",
       "      <td>-4.232923</td>\n",
       "      <td>-1.287476</td>\n",
       "      <td>1.053438</td>\n",
       "      <td>-0.486085</td>\n",
       "      <td>-0.144550</td>\n",
       "    </tr>\n",
       "  </tbody>\n",
       "</table>\n",
       "<p>5 rows × 41 columns</p>\n",
       "</div>"
      ],
      "text/plain": [
       "                  0         1         2         3         4         5   \\\n",
       "article_id                                                               \n",
       "0          -1.854453 -5.592402  1.708724 -3.835164  1.415795  0.252210   \n",
       "1          -5.361997  4.122991 -2.357516 -3.428017 -0.431079  3.722260   \n",
       "2          -3.600085 -0.132112 -6.027451  0.985617  0.211965  4.591712   \n",
       "3          -1.158963  7.293352 -5.916713 -1.370524  2.172241 -1.682487   \n",
       "4          -1.142884  2.569328 -2.891860 -0.273997  2.913007  5.608970   \n",
       "\n",
       "                  6         7         8         9   ...        31        32  \\\n",
       "article_id                                          ...                       \n",
       "0           0.426074  0.545480 -0.807394  1.520171  ...  0.387738 -0.088799   \n",
       "1           2.389835 -1.267244  1.944162  2.980629  ...  0.025565 -0.721510   \n",
       "2          -1.815688 -2.170389 -2.783090  2.804910  ...  0.565647 -1.862223   \n",
       "3           1.070822 -2.160001  1.947324  4.069597  ...  0.074049 -0.612824   \n",
       "4           0.308953  0.310888 -1.054171  2.158180  ... -1.527867 -0.155615   \n",
       "\n",
       "                  33        34        35        36        37        38  \\\n",
       "article_id                                                               \n",
       "0           0.990514  1.060148 -0.218378 -1.099852 -1.175524  1.370632   \n",
       "1           0.649929 -0.405225 -0.090690 -3.094968  0.075186  0.245235   \n",
       "2          -0.336458  0.072410  0.241466 -0.877634  0.154883  1.133963   \n",
       "3          -1.511408  1.071736  1.991838 -2.076190 -1.690459 -1.122692   \n",
       "4          -0.163345  0.037253  1.173636 -4.232923 -1.287476  1.053438   \n",
       "\n",
       "                  39        40  \n",
       "article_id                      \n",
       "0          -0.264816  0.010117  \n",
       "1          -1.250343  0.294538  \n",
       "2           0.946740 -1.811314  \n",
       "3           0.714619 -1.576244  \n",
       "4          -0.486085 -0.144550  \n",
       "\n",
       "[5 rows x 41 columns]"
      ]
     },
     "execution_count": 6,
     "metadata": {},
     "output_type": "execute_result"
    }
   ],
   "source": [
    "embeddings_df.head()"
   ]
  },
  {
   "cell_type": "code",
   "execution_count": 7,
   "id": "06a22489-27b4-4a4f-8ff8-979b50b8707f",
   "metadata": {
    "jupyter": {
     "source_hidden": true
    }
   },
   "outputs": [],
   "source": [
    "# conversion des embeddings en tableau NumPy (évite de calculer la matrice de similarité complète)\n",
    "import numpy as np\n",
    "article_ids = embeddings_df.index.to_numpy()\n",
    "article_embeddings = embeddings_df.to_numpy()\n",
    "\n",
    "# dictionnaire article_id -> vecteur\n",
    "embedding_dict = dict(zip(article_ids, article_embeddings))"
   ]
  },
  {
   "cell_type": "markdown",
   "id": "24b87a5e-4048-4f80-a5a9-5c53d5c6659e",
   "metadata": {},
   "source": [
    "## Préparation des données pour Implicit"
   ]
  },
  {
   "cell_type": "markdown",
   "id": "e9aec031-f398-4a72-8c3f-0dd784c53aea",
   "metadata": {},
   "source": [
    "### Filtrage des utilisateurs\n",
    "On va se limiter aux utilisateurs ayant effectué plus de 2 clics, implicit a besoin d'un minimum d'interaction pour apprendre et il est contre-productif de rajouter de la sparsité à la matrice item-user"
   ]
  },
  {
   "cell_type": "code",
   "execution_count": 8,
   "id": "c42f769c-f9e6-48b3-91e2-1bbb17c5af9a",
   "metadata": {},
   "outputs": [],
   "source": [
    "user_article_clicks = df_clicks.groupby(['user_id', 'click_article_id']).size().reset_index(name='click_count')\n",
    "# Filtrage des utilisateurs\n",
    "articles_per_user = user_article_clicks.groupby('user_id')['click_article_id'].nunique()\n",
    "filtered_users = articles_per_user[articles_per_user >= 3].index\n",
    "# Application du filtre\n",
    "df = user_article_clicks[user_article_clicks['user_id'].isin(filtered_users)]"
   ]
  },
  {
   "cell_type": "markdown",
   "id": "a0817e9f-95a5-4db5-88b5-c7fc5dcae7cc",
   "metadata": {},
   "source": [
    "### Création de la matrice item-user\n",
    "On a simplement ignoré les articles non cliqués."
   ]
  },
  {
   "cell_type": "code",
   "execution_count": 9,
   "id": "8dd460bc-762d-4c15-bef7-27c0944847a0",
   "metadata": {},
   "outputs": [],
   "source": [
    "from scipy.sparse import coo_matrix\n",
    "from tqdm import tqdm\n",
    "import numpy as np\n",
    "\n",
    "def build_item_user_matrix(df_clicks, weighting=\"log\", alpha=40.0):\n",
    "    \"\"\"\n",
    "    Construit une matrice CSR (articles × utilisateurs) compatible avec implicit,\n",
    "    avec un remapping sécurisé et une pondération logarithmique ou linéaire.\n",
    "\n",
    "    Paramètres :\n",
    "    - df_clicks : DataFrame contenant 'user_id' et 'click_article_id'\n",
    "    - weighting : 'log' (default) ou 'linear'\n",
    "    - alpha : coefficient multiplicateur pour la pondération log\n",
    "\n",
    "    Retourne :\n",
    "    - item_user_matrix : matrice CSR (n_items x n_users)\n",
    "    - user_mapping : dict {user_id → user_idx}\n",
    "    - item_mapping : dict {click_article_id → item_idx}\n",
    "    \"\"\"\n",
    "\n",
    "    # Agrégation des interactions\n",
    "    df_user_item = (\n",
    "        df_clicks.groupby(['user_id', 'click_article_id'])\n",
    "        .size()\n",
    "        .reset_index(name='click_strength')\n",
    "    )\n",
    "\n",
    "    # Création des mappings\n",
    "    print(\"🔄 Construction des dictionnaires d’indexation...\")\n",
    "    user_ids = df_user_item['user_id'].unique()\n",
    "    item_ids = df_user_item['click_article_id'].unique()\n",
    "\n",
    "    user_mapping = {uid: idx for idx, uid in enumerate(tqdm(user_ids, desc=\"🔢 Mapping users\"))}\n",
    "    item_mapping = {iid: idx for idx, iid in enumerate(tqdm(item_ids, desc=\"🧾 Mapping articles\"))}\n",
    "\n",
    "    df_user_item['user_idx'] = df_user_item['user_id'].map(user_mapping)\n",
    "    df_user_item['item_idx'] = df_user_item['click_article_id'].map(item_mapping)\n",
    "\n",
    "    # Pondération\n",
    "    if weighting == \"log\":\n",
    "        df_user_item['weight'] = 1.0 + alpha * np.log1p(df_user_item['click_strength'])\n",
    "        print(f\"🧮 Pondération logarithmique avec alpha={alpha}\")\n",
    "    elif weighting == \"linear\":\n",
    "        df_user_item['weight'] = df_user_item['click_strength'].astype(float)\n",
    "        print(\"🧮 Pondération linéaire\")\n",
    "    else:\n",
    "        raise ValueError(\"Le paramètre 'weighting' doit être 'log' ou 'linear'.\")\n",
    "\n",
    "    # Construction de la matrice sparse\n",
    "    print(\"📐 Construction de la matrice sparse (CSR)...\")\n",
    "    item_user_matrix = coo_matrix(\n",
    "        (df_user_item['weight'],\n",
    "         (df_user_item['item_idx'], df_user_item['user_idx']))\n",
    "    ).tocsr()\n",
    "\n",
    "    print(f\"✅ Matrice prête : {item_user_matrix.shape} (articles × utilisateurs)\")\n",
    "    return item_user_matrix, user_mapping, item_mapping\n"
   ]
  },
  {
   "cell_type": "code",
   "execution_count": 10,
   "id": "6c45e697-c2e9-4d3e-9642-9a5644bef2a5",
   "metadata": {
    "scrolled": true
   },
   "outputs": [
    {
     "name": "stdout",
     "output_type": "stream",
     "text": [
      "🔄 Construction des dictionnaires d’indexation...\n"
     ]
    },
    {
     "name": "stderr",
     "output_type": "stream",
     "text": [
      "🔢 Mapping users: 100%|██████████| 221379/221379 [00:00<00:00, 4529794.30it/s]\n",
      "🧾 Mapping articles: 100%|██████████| 41367/41367 [00:00<00:00, 4125000.56it/s]\n"
     ]
    },
    {
     "name": "stdout",
     "output_type": "stream",
     "text": [
      "🧮 Pondération logarithmique avec alpha=40.0\n",
      "📐 Construction de la matrice sparse (CSR)...\n",
      "✅ Matrice prête : (41367, 221379) (articles × utilisateurs)\n"
     ]
    }
   ],
   "source": [
    "item_user_matrix, user_mapping, item_mapping = build_item_user_matrix(df)\n"
   ]
  },
  {
   "cell_type": "code",
   "execution_count": 11,
   "id": "80cd1b1a-b292-4c5a-8f2d-dd45ae821a9b",
   "metadata": {},
   "outputs": [],
   "source": [
    "# 🔄 Construction du reverse mapping des articles\n",
    "# Rappel : item_mapping = {article_id: item_idx}\n",
    "reverse_item_mapping = {idx: aid for aid, idx in item_mapping.items()}"
   ]
  },
  {
   "cell_type": "markdown",
   "id": "72fa6791-37f1-4528-ad67-65807a9d0fd5",
   "metadata": {},
   "source": [
    "### Visualisation de la matrice item-user"
   ]
  },
  {
   "cell_type": "code",
   "execution_count": 12,
   "id": "b84eabd8-18df-4c21-99f5-785583c1d225",
   "metadata": {},
   "outputs": [],
   "source": [
    "import matplotlib.pyplot as plt\n",
    "\n",
    "def plot_sparse_matrix_density(sparse_matrix, title=\"Matrice sparse (articles × utilisateurs)\"):\n",
    "    plt.figure(figsize=(10, 6))\n",
    "    plt.spy(sparse_matrix, markersize=0.5)\n",
    "    plt.title(title)\n",
    "    plt.xlabel(\"Utilisateurs\")\n",
    "    plt.ylabel(\"Articles\")\n",
    "    plt.grid(True)\n",
    "    plt.show()\n"
   ]
  },
  {
   "cell_type": "code",
   "execution_count": 13,
   "id": "1ec1217a-fb6e-40cd-a4d1-acbd88dc6657",
   "metadata": {},
   "outputs": [
    {
     "data": {
      "image/png": "[encoded data removed]",
      "text/plain": [
       "<Figure size 1000x600 with 1 Axes>"
      ]
     },
     "metadata": {},
     "output_type": "display_data"
    }
   ],
   "source": [
    "plot_sparse_matrix_density(item_user_matrix)"
   ]
  },
  {
   "cell_type": "markdown",
   "id": "c6c223c9-1ddd-401c-9ea1-11c45b2711d6",
   "metadata": {},
   "source": [
    "<div style=\"padding: 10px; border-radius: 5px; background-color: #e7f3fe; color: #31708f; border-left: 6px solid #2196F3;\">\n",
    "ℹ️ <strong>Explication :</strong> La répartition des données dans la matrice reflète le fait que l'on a enregistré les clics selon le temps, les utilisateurs et les articles s'accumulent petit à petit (pas de shuffle lors du mappage des index)\n",
    "</div>"
   ]
  },
  {
   "cell_type": "code",
   "execution_count": 14,
   "id": "125eb7ed-f7f5-4c2f-aea4-58a87fc4ddef",
   "metadata": {},
   "outputs": [],
   "source": [
    "def print_matrix_density(sparse_matrix):\n",
    "    n_total = sparse_matrix.shape[0] * sparse_matrix.shape[1]\n",
    "    n_nonzero = sparse_matrix.nnz\n",
    "    density = n_nonzero / n_total * 100\n",
    "\n",
    "    print(f\"📦 Taux de remplissage : {n_nonzero:,} éléments non nuls\")\n",
    "    print(f\"📐 Dimensions         : {sparse_matrix.shape}\")\n",
    "    print(f\"📊 Densité            : {density:.6f}%\")"
   ]
  },
  {
   "cell_type": "code",
   "execution_count": 15,
   "id": "dcece27c-af3c-4a6e-b4bd-63e9c9693db5",
   "metadata": {},
   "outputs": [
    {
     "name": "stdout",
     "output_type": "stream",
     "text": [
      "📦 Taux de remplissage : 2,747,674 éléments non nuls\n",
      "📐 Dimensions         : (41367, 221379)\n",
      "📊 Densité            : 0.030004%\n"
     ]
    }
   ],
   "source": [
    "print_matrix_density(item_user_matrix)"
   ]
  },
  {
   "cell_type": "markdown",
   "id": "0b2eefb9-0ca3-444b-82be-ea96b899cb6a",
   "metadata": {},
   "source": [
    "## Mise en oeuvre du modèle ALS (Alternative Least Squares)"
   ]
  },
  {
   "cell_type": "code",
   "execution_count": 16,
   "id": "35ac19cf-f3c4-4926-a2b6-01787c8ec5d0",
   "metadata": {},
   "outputs": [
    {
     "name": "stdout",
     "output_type": "stream",
     "text": [
      "⏱️ Entraînement ALS en cours...\n"
     ]
    },
    {
     "name": "stderr",
     "output_type": "stream",
     "text": [
      "/usr/local/lib/python3.10/dist-packages/tqdm/auto.py:21: TqdmWarning: IProgress not found. Please update jupyter and ipywidgets. See https://ipywidgets.readthedocs.io/en/stable/user_install.html\n",
      "  from .autonotebook import tqdm as notebook_tqdm\n",
      "100%|██████████| 15/15 [00:01<00:00, 12.84it/s]"
     ]
    },
    {
     "name": "stdout",
     "output_type": "stream",
     "text": [
      "✅ Modèle entraîné en 1.29 secondes\n"
     ]
    },
    {
     "name": "stderr",
     "output_type": "stream",
     "text": [
      "\n"
     ]
    }
   ],
   "source": [
    "import time\n",
    "from implicit.gpu.als import AlternatingLeastSquares\n",
    "\n",
    "# Paramètres\n",
    "factors = 64\n",
    "iterations = 15\n",
    "regularization = 0.1\n",
    "\n",
    "# Modèle ALS GPU\n",
    "model = AlternatingLeastSquares(\n",
    "    factors=factors,\n",
    "    regularization=regularization,\n",
    "    iterations=iterations\n",
    ")\n",
    "\n",
    "# Entraînement\n",
    "print(\"⏱️ Entraînement ALS en cours...\")\n",
    "start = time.time()\n",
    "model.fit(item_user_matrix)\n",
    "end = time.time()\n",
    "print(f\"✅ Modèle entraîné en {end - start:.2f} secondes\")\n"
   ]
  },
  {
   "cell_type": "markdown",
   "id": "66c0417e-447f-451f-9a89-bf33bf545573",
   "metadata": {},
   "source": [
    "### 💡 Vérification rapide du traitement après entrainement-test"
   ]
  },
  {
   "cell_type": "code",
   "execution_count": 17,
   "id": "4557cc33-1150-4005-8dcb-79fc45fe1050",
   "metadata": {},
   "outputs": [],
   "source": [
    "def get_recommendations_for_user(\n",
    "    user_id,\n",
    "    model,\n",
    "    item_user_matrix,\n",
    "    user_mapping,\n",
    "    reverse_item_mapping,\n",
    "    df_clicks,\n",
    "    N=5\n",
    "):\n",
    "    \"\"\"\n",
    "    Renvoie les recommandations d'articles pour un utilisateur donné.\n",
    "\n",
    "    Paramètres :\n",
    "    - user_id : identifiant de l'utilisateur (origine des données)\n",
    "    - model : modèle ALS entraîné (implicit.gpu ou cpu)\n",
    "    - item_user_matrix : matrice CSR article x utilisateur\n",
    "    - user_mapping : dict {user_id → user_idx}\n",
    "    - reverse_item_mapping : dict {item_idx → click_article_id}\n",
    "    - df_clicks : DataFrame original pour extraire les clics réels\n",
    "    - N : nombre de recommandations à retourner\n",
    "\n",
    "    Retourne :\n",
    "    - clicked_article_ids : liste des articles réellement cliqués\n",
    "    - recommended_articles : liste de tuples (click_article_id, score)\n",
    "    \"\"\"\n",
    "\n",
    "    # Vérifie que l'utilisateur est connu\n",
    "    if user_id not in user_mapping:\n",
    "        raise ValueError(f\"L'utilisateur {user_id} n'est pas présent dans le mapping.\")\n",
    "\n",
    "    user_idx = user_mapping[user_id]\n",
    "\n",
    "    # Extraire les articles cliqués\n",
    "    clicked_article_ids = df_clicks[df_clicks['user_id'] == user_id]['click_article_id'].unique().tolist()\n",
    "\n",
    "    # Extraire une ligne CSR (1, n_items)\n",
    "    user_items = item_user_matrix.T.tocsr()\n",
    "    user_row = user_items[user_idx:user_idx+1]\n",
    "\n",
    "    # Recommandations\n",
    "    recommended = model.recommend(\n",
    "        userid=user_idx,\n",
    "        user_items=user_row,\n",
    "        N=N,\n",
    "        filter_already_liked_items=True # ❌ on ne filtre pas les clics passés\n",
    "    )\n",
    "\n",
    "    # Conversion des item_idx en click_article_id\n",
    "    recommended_articles = [\n",
    "        (reverse_item_mapping[int(i)], float(s)) for i, s in zip(*recommended)\n",
    "        if int(i) in reverse_item_mapping\n",
    "    ]\n",
    "\n",
    "    return clicked_article_ids, recommended_articles\n"
   ]
  },
  {
   "cell_type": "code",
   "execution_count": 18,
   "id": "f6faf1a7-edfd-416c-9b3a-2c8889b0730e",
   "metadata": {},
   "outputs": [
    {
     "name": "stdout",
     "output_type": "stream",
     "text": [
      "📌 Articles cliqués : [9126, 71608, 75825, 107216, 119193, 119534, 129434, 145166, 157861, 158541, 208518, 218028, 225019, 226595, 226648, 235854, 284178, 284346, 285331, 285414, 288457, 292594, 292749, 313996, 315146, 331116, 336220, 336221, 336380, 352902, 353673]\n",
      "⭐ Articles recommandés : [(np.int32(60465), 0.3304586708545685), (np.int32(73954), 0.31690704822540283), (np.int32(313957), 0.31146740913391113)]\n"
     ]
    }
   ],
   "source": [
    "clicked, recommended = get_recommendations_for_user(\n",
    "    user_id=42,\n",
    "    model=model,\n",
    "    item_user_matrix=item_user_matrix,\n",
    "    user_mapping=user_mapping,\n",
    "    reverse_item_mapping=reverse_item_mapping,\n",
    "    df_clicks=df,\n",
    "    N=5\n",
    ")\n",
    "\n",
    "print(\"📌 Articles cliqués :\", clicked)\n",
    "print(\"⭐ Articles recommandés :\", recommended)\n"
   ]
  },
  {
   "cell_type": "code",
   "execution_count": 19,
   "id": "5a36d4ba-20a4-4308-870d-2109776b85bf",
   "metadata": {},
   "outputs": [],
   "source": [
    "import matplotlib.pyplot as plt\n",
    "import pandas as pd\n",
    "import numpy as np\n",
    "\n",
    "# df_embeddings doit être un DataFrame avec index = article_id, colonnes = [\"dim1\", \"dim2\"]\n",
    "# clicked_article_ids : liste des articles que l'utilisateur a cliqués\n",
    "# recommended_articles : liste de tuples (article_id, score)\n",
    "\n",
    "\n",
    "import matplotlib.pyplot as plt\n",
    "\n",
    "def plot_article_recommendations(df_embeddings, clicked_article_ids, recommended_articles):\n",
    "    \"\"\"\n",
    "    Affiche une projection 2D des articles, avec les articles recommandés et cliqués mis en valeur.\n",
    "\n",
    "    Args:\n",
    "    - df_embeddings: DataFrame avec index = article_id, colonnes = ['dim1', 'dim2']\n",
    "    - clicked_article_ids: liste d'IDs d'articles cliqués par l'utilisateur\n",
    "    - recommended_articles: liste de tuples (article_id, score)\n",
    "    \"\"\"\n",
    "    df_visu = df_embeddings.reset_index().copy()\n",
    "\n",
    "    # Sélection uniquement des articles présents dans la projection\n",
    "    projected_ids = set(df_visu['article_id'])\n",
    "\n",
    "    clicked_article_ids = [aid for aid in clicked_article_ids if aid in projected_ids]\n",
    "    recommended_articles = [(aid, s) for aid, s in recommended_articles if aid in projected_ids]\n",
    "\n",
    "    # Alerte si des éléments ne sont pas projetés\n",
    "    if len(clicked_article_ids) == 0:\n",
    "        print(\"⚠️ Aucun article cliqué n'est dans la projection.\")\n",
    "    if len(recommended_articles) == 0:\n",
    "        print(\"⚠️ Aucun article recommandé n'est dans la projection.\")\n",
    "\n",
    "    # Marquage des statuts\n",
    "    df_visu['status'] = 'autres'\n",
    "    df_visu.loc[df_visu['article_id'].isin(clicked_article_ids), 'status'] = 'cliqué'\n",
    "    for aid, _ in recommended_articles:\n",
    "        if aid in clicked_article_ids:\n",
    "            df_visu.loc[df_visu['article_id'] == aid, 'status'] = 'cliqué & recommandé'\n",
    "        else:\n",
    "            df_visu.loc[df_visu['article_id'] == aid, 'status'] = 'recommandé'\n",
    "\n",
    "    # Taille des points via score\n",
    "    score_dict = {aid: score for aid, score in recommended_articles}\n",
    "    df_visu['score'] = df_visu['article_id'].map(score_dict)\n",
    "    df_visu['score'] = df_visu['score'].fillna(0.1)  # visible par défaut\n",
    "\n",
    "    # Couleurs personnalisées\n",
    "    palette = {\n",
    "        'autres': 'lightgray',\n",
    "        'cliqué': 'blue',\n",
    "        'recommandé': 'orange',\n",
    "        'cliqué & recommandé': 'green'\n",
    "    }\n",
    "\n",
    "    # Affichage\n",
    "    plt.figure(figsize=(10, 6))\n",
    "\n",
    "    # Tracer les \"autres\" d'abord\n",
    "    bg = df_visu[df_visu[\"status\"] == \"autres\"]\n",
    "    plt.scatter(bg['dim1'], bg['dim2'],\n",
    "                s=10, c='lightgray', label='autres', alpha=0.3, edgecolors='none')\n",
    "\n",
    "    # Tracer les autres statuts avec emphase\n",
    "    for status in [\"cliqué\", \"recommandé\", \"cliqué & recommandé\"]:\n",
    "        group = df_visu[df_visu[\"status\"] == status]\n",
    "        if not group.empty:\n",
    "            plt.scatter(group['dim1'], group['dim2'],\n",
    "                        s=200 * group['score'],\n",
    "                        c=palette[status],\n",
    "                        label=status,\n",
    "                        alpha=0.9,\n",
    "                        edgecolors='k',\n",
    "                        linewidth=0.5,\n",
    "                        zorder=3)\n",
    "\n",
    "    plt.title(\"Projection 2D des articles avec recommandations et clics\")\n",
    "    plt.xlabel(\"Dimension 1\")\n",
    "    plt.ylabel(\"Dimension 2\")\n",
    "    plt.legend()\n",
    "    plt.grid(True, linestyle='--', alpha=0.4)\n",
    "    plt.tight_layout()\n",
    "    plt.show()\n"
   ]
  },
  {
   "cell_type": "code",
   "execution_count": 20,
   "id": "8a3d99e9-e6e5-432d-a5e4-d2e78d6d50a1",
   "metadata": {},
   "outputs": [],
   "source": [
    "# Réduction à 2 dimensions et renommage pour la visualisation\n",
    "embeddings_df_2d = embeddings_df[[0, 1]].copy()\n",
    "embeddings_df_2d.columns = ['dim1', 'dim2']\n",
    "embeddings_df_2d.index.name = 'article_id'\n"
   ]
  },
  {
   "cell_type": "code",
   "execution_count": 21,
   "id": "1da24b83-aa8d-4dd0-9121-6cda677b1ca8",
   "metadata": {},
   "outputs": [
    {
     "data": {
      "image/png": "[encoded data removed]",
      "text/plain": [
       "<Figure size 1000x600 with 1 Axes>"
      ]
     },
     "metadata": {},
     "output_type": "display_data"
    }
   ],
   "source": [
    "# 📊 Visualisation dans l'espace des embeddings\n",
    "plot_article_recommendations(\n",
    "    embeddings_df_2d,             # Ton DataFrame des embeddings 2D (indexé par article_id)\n",
    "    clicked,       # Liste des articles cliqués par le user\n",
    "    recommended       # Liste (article_id, score) des recommandations\n",
    ")"
   ]
  },
  {
   "cell_type": "markdown",
   "id": "bbb11475-d847-4e13-9986-697e388c57d9",
   "metadata": {},
   "source": [
    "### 🔁 Étape 1 : Split Leave-One-Out"
   ]
  },
  {
   "cell_type": "code",
   "execution_count": 22,
   "id": "e9598968-9479-45ba-9d95-d6da95bf3ad3",
   "metadata": {},
   "outputs": [],
   "source": [
    "def leave_one_out_split(item_user_matrix):\n",
    "    \"\"\"\n",
    "    Effectue un split leave-one-out par utilisateur sur une matrice (items x users).\n",
    "\n",
    "    Retourne :\n",
    "    - train_matrix : matrice CSR (items x users)\n",
    "    - test_data : liste (user_idx, item_idx)\n",
    "    \"\"\"\n",
    "    user_item_matrix = item_user_matrix.T.tocsr()  # (users, items)\n",
    "    train_matrix = user_item_matrix.copy().tolil()\n",
    "    test_data = []\n",
    "\n",
    "    print(\"🔄 Création du split leave-one-out...\")\n",
    "    for user_idx in range(user_item_matrix.shape[0]):\n",
    "        user_items = user_item_matrix[user_idx].indices\n",
    "        if len(user_items) < 2:\n",
    "            continue\n",
    "\n",
    "        test_item = np.random.choice(user_items)\n",
    "        test_data.append((user_idx, test_item))  # ✅ ordre correct (user_idx, item_idx)\n",
    "        train_matrix[user_idx, test_item] = 0\n",
    "\n",
    "    # Transposer pour obtenir (items x users)\n",
    "    train_matrix = train_matrix.tocsr().T.tocsr()\n",
    "\n",
    "    print(f\"✅ Split terminé : {len(test_data)} interactions mises de côté pour test.\")\n",
    "    return train_matrix, test_data\n"
   ]
  },
  {
   "cell_type": "code",
   "execution_count": 23,
   "id": "2c75eaee-7d2d-4619-82a8-a0501a7bde26",
   "metadata": {},
   "outputs": [
    {
     "name": "stdout",
     "output_type": "stream",
     "text": [
      "🔄 Création du split leave-one-out...\n",
      "✅ Split terminé : 221379 interactions mises de côté pour test.\n"
     ]
    }
   ],
   "source": [
    "train_matrix, test_data = leave_one_out_split(item_user_matrix)"
   ]
  },
  {
   "cell_type": "code",
   "execution_count": 24,
   "id": "555b40b3-f842-483e-b2b0-b54279e0ba08",
   "metadata": {},
   "outputs": [
    {
     "name": "stdout",
     "output_type": "stream",
     "text": [
      "Taille train_matrix : (41367, 221379)\n",
      "Nombre d'utilisateurs dans test_data : 221379\n",
      "Nombre d'utilisateurs conservés dans train_matrix : 221379\n"
     ]
    }
   ],
   "source": [
    "print(\"Taille train_matrix :\", train_matrix.shape)\n",
    "print(\"Nombre d'utilisateurs dans test_data :\", len(set([u for u, _ in test_data])))\n",
    "print(\"Nombre d'utilisateurs conservés dans train_matrix :\", train_matrix.shape[1])\n"
   ]
  },
  {
   "cell_type": "code",
   "execution_count": 25,
   "id": "d1b6f355-5fbd-4d08-ae16-6f2e9b5fab9d",
   "metadata": {},
   "outputs": [
    {
     "name": "stdout",
     "output_type": "stream",
     "text": [
      "Max user_idx dans test_data : 221378\n",
      "Shape model.user_factors : (41367, 64)\n"
     ]
    }
   ],
   "source": [
    "print(\"Max user_idx dans test_data :\", max(u for u, _ in test_data))\n",
    "print(\"Shape model.user_factors :\", model.user_factors.shape)\n"
   ]
  },
  {
   "cell_type": "code",
   "execution_count": 26,
   "id": "8c5b4f31-1632-4891-81b1-f5d693ac4af8",
   "metadata": {},
   "outputs": [
    {
     "name": "stdout",
     "output_type": "stream",
     "text": [
      "model.user_factors.shape : (41367, 64)\n",
      "Expected users : 221379\n",
      "Expected items : 41367\n"
     ]
    }
   ],
   "source": [
    "print(\"model.user_factors.shape :\", model.user_factors.shape)\n",
    "print(\"Expected users :\", train_matrix.shape[1])  # doit correspondre\n",
    "print(\"Expected items :\", train_matrix.shape[0])\n"
   ]
  },
  {
   "cell_type": "code",
   "execution_count": 27,
   "id": "91406cb9-2b58-4d85-9b50-5aa63ad8321a",
   "metadata": {},
   "outputs": [
    {
     "name": "stdout",
     "output_type": "stream",
     "text": [
      "Exemple test_data : [(0, np.int32(3)), (1, np.int32(11)), (2, np.int32(20)), (3, np.int32(38)), (4, np.int32(47))]\n",
      "Max user_idx : 221378\n",
      "Max item_idx : 41366\n"
     ]
    }
   ],
   "source": [
    "print(\"Exemple test_data :\", test_data[:5])\n",
    "print(\"Max user_idx :\", max(u for u, _ in test_data))\n",
    "print(\"Max item_idx :\", max(i for _, i in test_data))\n"
   ]
  },
  {
   "cell_type": "code",
   "execution_count": 28,
   "id": "f165ae5a-31b8-44ff-8c50-82b7a368b105",
   "metadata": {},
   "outputs": [
    {
     "name": "stdout",
     "output_type": "stream",
     "text": [
      "Max user_idx : 221378\n",
      "Max item_idx : 41366\n",
      "model.user_factors.shape[0] : 41367\n",
      "model.item_factors.shape[0] : 221379\n"
     ]
    }
   ],
   "source": [
    "max_user_idx = max(u for u, _ in test_data)\n",
    "max_item_idx = max(i for _, i in test_data)\n",
    "\n",
    "print(\"Max user_idx :\", max_user_idx)\n",
    "print(\"Max item_idx :\", max_item_idx)\n",
    "print(\"model.user_factors.shape[0] :\", model.user_factors.shape[0])\n",
    "print(\"model.item_factors.shape[0] :\", model.item_factors.shape[0])\n"
   ]
  },
  {
   "cell_type": "markdown",
   "id": "1fd422e0-e06d-4d5a-b166-93f545183414",
   "metadata": {},
   "source": [
    "### ⚙️ 2. Test de plusieurs algorithmes\n",
    "🧠 Contruit une fonction générique :\n",
    "✅ train_and_predict(model_class, params, train_matrix, test_data, N=5)\n",
    "\n",
    "Elle doit :<br>\n",
    "- Entraîner le modèle sur train_matrix\n",
    "- Générer les N recommandations par utilisateur\n",
    "- Comparer à test_data pour calculer les prédictions top-N\n",
    "- Retourner un dictionnaire user_idx → [item_idx_1, item_idx_2, ..., item_idx_N]"
   ]
  },
  {
   "cell_type": "code",
   "execution_count": 29,
   "id": "146afb4f-cdba-4203-93fa-72877effd140",
   "metadata": {},
   "outputs": [],
   "source": [
    "def train_and_predict(model_class, params, train_matrix, test_data, N=5):\n",
    "    \"\"\"\n",
    "    Entraîne un modèle implicit sur train_matrix (items x users), puis génère les top-N prédictions\n",
    "    pour chaque utilisateur de test_data.\n",
    "\n",
    "    Retourne :\n",
    "    - recommendations : dict {user_idx: [item_idx1, ..., item_idxN]}\n",
    "    \"\"\"\n",
    "    from tqdm import tqdm\n",
    "\n",
    "    print(f\"⚙️ Entraînement du modèle {model_class.__name__}...\")\n",
    "    model = model_class(**params)\n",
    "    model.fit(train_matrix.T)\n",
    "    print(\"model.user_factors.shape :\", model.user_factors.shape)\n",
    "    assert model.user_factors.shape[0] == train_matrix.shape[1], \"❌ Les utilisateurs ne sont pas correctement alignés\"\n",
    "\n",
    "\n",
    "    user_item_matrix = train_matrix.T.tocsr()  # (users x items)\n",
    "    recommendations = {}\n",
    "\n",
    "    print(\"🔮 Génération des recommandations top-N...\")\n",
    "    for user_idx, _ in tqdm(test_data, desc=\"📡 Prédiction\"):\n",
    "        try:\n",
    "            if user_idx >= user_item_matrix.shape[0]:\n",
    "                continue  # Sécurité\n",
    "\n",
    "            user_row = user_item_matrix[user_idx:user_idx+1].tocsr(copy=True)\n",
    "            item_indices, _ = model.recommend(\n",
    "                userid=user_idx,\n",
    "                user_items=user_row,\n",
    "                N=N,\n",
    "                filter_already_liked_items=True\n",
    "            )\n",
    "            recommendations[user_idx] = item_indices\n",
    "        except Exception as e:\n",
    "            print(f\"⚠️ Utilisateur {user_idx} ignoré : {e}\")\n",
    "            continue\n",
    "\n",
    "    return recommendations\n"
   ]
  },
  {
   "cell_type": "markdown",
   "id": "8edeece7-bbe8-42cf-8a54-66962102aaac",
   "metadata": {},
   "source": [
    "⚠️ Attention au piège de la matrice dans implicit.ALS !<br>\n",
    "💡 Le modèle ALS de la bibliothèque `implicit` suppose que :\n",
    "\n",
    "    - Les lignes de la matrice = les *items* à factoriser (ex : articles)\n",
    "    - Les colonnes = les *utilisateurs* (chaque interaction = un clic)\n",
    "\n",
    "    ➤ La forme attendue est : (n_items, n_users)\n",
    "😱 Mais si on passe la matrice sans précaution...<br>\n",
    "model.fit(train_matrix)  # ⛔ Si train_matrix est (users × items), erreur silencieuse<br>\n",
    "Le modèle apprendra des user_factors… pour les articles ❌\n",
    "➤ Ce qui provoque ensuite des erreurs : row index out of bounds lors des recommandations<br>\n",
    "✅ Bonne pratique : forcer le bon sens<br>\n",
    "model.fit(train_matrix.T)  # ✅ Toujours transposer pour garantir (items × users)<br>\n",
    "🎯 Cela garantit que :\n",
    "\n",
    "    model.user_factors.shape[0] == n_users\n",
    "\n",
    "    model.item_factors.shape[0] == n_items\n",
    "\n",
    "    .recommend(user_idx, ...) fonctionnera pour tous les utilisateurs"
   ]
  },
  {
   "cell_type": "code",
   "execution_count": 30,
   "id": "66808665-84be-46c9-89ee-8943e72f4327",
   "metadata": {
    "scrolled": true
   },
   "outputs": [
    {
     "name": "stdout",
     "output_type": "stream",
     "text": [
      "⚙️ Entraînement du modèle AlternatingLeastSquares...\n"
     ]
    },
    {
     "name": "stderr",
     "output_type": "stream",
     "text": [
      "/usr/local/lib/python3.10/dist-packages/implicit/utils.py:164: ParameterWarning: Method expects CSR input, and was passed csc_matrix instead. Converting to CSR took 0.028640270233154297 seconds\n",
      "  warnings.warn(\n",
      "100%|██████████| 15/15 [00:00<00:00, 15.42it/s]\n"
     ]
    },
    {
     "name": "stdout",
     "output_type": "stream",
     "text": [
      "model.user_factors.shape : (221379, 64)\n",
      "🔮 Génération des recommandations top-N...\n"
     ]
    },
    {
     "name": "stderr",
     "output_type": "stream",
     "text": [
      "📡 Prédiction: 100%|██████████| 221379/221379 [01:21<00:00, 2723.38it/s]\n"
     ]
    }
   ],
   "source": [
    "from implicit.gpu.als import AlternatingLeastSquares\n",
    "\n",
    "params = {\n",
    "    \"factors\": 64,\n",
    "    \"regularization\": 0.1,\n",
    "    \"iterations\": 15\n",
    "}\n",
    "\n",
    "reco_top5 = train_and_predict(\n",
    "    model_class=AlternatingLeastSquares,\n",
    "    params=params,\n",
    "    train_matrix=train_matrix,\n",
    "    test_data=test_data,\n",
    "    N=5\n",
    ")\n"
   ]
  },
  {
   "cell_type": "code",
   "execution_count": 31,
   "id": "3e508d43-eebb-4c1b-9d11-ca584f946e1b",
   "metadata": {},
   "outputs": [],
   "source": [
    "# from implicit.nearest_neighbours import BM25Recommender\n",
    "\n",
    "# params_bm25 = {\n",
    "#     \"K\": 100  # nombre de voisins\n",
    "# }\n",
    "\n",
    "# reco_bm25 = train_and_predict(\n",
    "#     model_class=BM25Recommender,\n",
    "#     params=params_bm25,\n",
    "#     train_matrix=train_matrix,\n",
    "#     test_data=test_data,\n",
    "#     N=5\n",
    "# )\n"
   ]
  },
  {
   "cell_type": "markdown",
   "id": "c2b49f27-1a8e-44ee-92da-d4b05024386a",
   "metadata": {},
   "source": [
    "### 📏 Étape 3 : Calcul des métriques Top-N"
   ]
  },
  {
   "cell_type": "code",
   "execution_count": 32,
   "id": "36ea6274-6cfa-4c09-b1c8-9b1003830337",
   "metadata": {},
   "outputs": [],
   "source": [
    "import numpy as np\n",
    "\n",
    "def evaluate_topn_metrics(recommendations, test_data, N=5):\n",
    "    \"\"\"\n",
    "    Évalue les performances top-N d’un système de recommandation.\n",
    "    \n",
    "    Arguments :\n",
    "    - recommendations : dict {user_idx: [item_idx1, item_idx2, ..., item_idxN]}\n",
    "    - test_data : list of (user_idx, item_idx) ground truth\n",
    "    - N : top-N à évaluer\n",
    "    \n",
    "    Retourne :\n",
    "    - dict de métriques moyennes : hit, precision, map, ndcg\n",
    "    \"\"\"\n",
    "    hits, precisions, ndcgs, maps = [], [], [], []\n",
    "\n",
    "    for user_idx, true_item in test_data:\n",
    "        preds = recommendations.get(user_idx)\n",
    "        if preds is None:\n",
    "            continue\n",
    "    \n",
    "        preds = list(preds)  # 💡 convert to list to use .index()\n",
    "        \n",
    "        if true_item in preds:\n",
    "            rank = preds.index(true_item)\n",
    "            hits.append(1)\n",
    "            precisions.append(1 / (rank + 1))\n",
    "            maps.append(1 / (rank + 1))\n",
    "            ndcgs.append(1 / np.log2(rank + 2))\n",
    "        else:\n",
    "            hits.append(0)\n",
    "            precisions.append(0)\n",
    "            maps.append(0)\n",
    "            ndcgs.append(0)\n",
    "\n",
    "    metrics = {\n",
    "        f\"Hit@{N}\": np.mean(hits),\n",
    "        f\"Precision@{N}\": np.mean(precisions),\n",
    "        f\"MAP@{N}\": np.mean(maps),\n",
    "        f\"NDCG@{N}\": np.mean(ndcgs),\n",
    "        \"users_evaluated\": len(hits)\n",
    "    }\n",
    "    return metrics"
   ]
  },
  {
   "cell_type": "code",
   "execution_count": 33,
   "id": "1f2d7575-ee45-4a09-9c9b-db7e4bc791d2",
   "metadata": {},
   "outputs": [
    {
     "name": "stdout",
     "output_type": "stream",
     "text": [
      "Hit@5          : 0.2207\n",
      "Precision@5    : 0.1219\n",
      "MAP@5          : 0.1219\n",
      "NDCG@5         : 0.1463\n",
      "users_evaluated: 221379\n"
     ]
    }
   ],
   "source": [
    "metrics = evaluate_topn_metrics(reco_top5, test_data, N=5)\n",
    "\n",
    "for k, v in metrics.items():\n",
    "    print(f\"{k:<15}: {v:.4f}\" if isinstance(v, float) else f\"{k:<15}: {v}\")"
   ]
  },
  {
   "cell_type": "markdown",
   "id": "518288f0-a7dd-4d9f-83dc-45c60674e305",
   "metadata": {},
   "source": [
    "### 📐 Étape 4 : Calcul de MAE et RMSE à partir du modèle implicit"
   ]
  },
  {
   "cell_type": "markdown",
   "id": "4fc41299-1723-4ae1-a942-ea693a83fac9",
   "metadata": {},
   "source": [
    "🔥 Sur GPU les objets model.user_factors[...] et model.item_factors[...] ne sont pas des numpy.array classiques, mais des objets implicit.gpu._cuda.Matrix.<br>\n",
    "🧠 Problème : L’opérateur @ (produit scalaire) ne fonctionne pas directement sur ces objets GPU, on les passe en numpy + applatissement"
   ]
  },
  {
   "cell_type": "code",
   "execution_count": 41,
   "id": "a324145d-1a30-49c0-8014-8cee286c95d0",
   "metadata": {},
   "outputs": [],
   "source": [
    "test_data = [(i, u) for (u, i) in test_data]  # ✅ on swap dans le bon sens\n"
   ]
  },
  {
   "cell_type": "code",
   "execution_count": 42,
   "id": "f0981154-8f61-4cf0-b8c0-c6e3356f3e8e",
   "metadata": {},
   "outputs": [
    {
     "name": "stdout",
     "output_type": "stream",
     "text": [
      "model.user_factors.shape[0]: 41367\n",
      "max(user_idx): 41366\n",
      "model.item_factors.shape[0]: 221379\n",
      "max(item_idx): 221378\n"
     ]
    }
   ],
   "source": [
    "print(\"model.user_factors.shape[0]:\", model.user_factors.shape[0])\n",
    "print(\"max(user_idx):\", max(u for u, _ in test_data))\n",
    "print(\"model.item_factors.shape[0]:\", model.item_factors.shape[0])\n",
    "print(\"max(item_idx):\", max(i for _, i in test_data))\n"
   ]
  },
  {
   "cell_type": "code",
   "execution_count": 43,
   "id": "1d654718-bd92-492e-8ab3-7ebe8b41ed13",
   "metadata": {},
   "outputs": [],
   "source": [
    "    # Inversement de la matrice\n",
    "    user_item_matrix = train_matrix.T.tocsr()"
   ]
  },
  {
   "cell_type": "code",
   "execution_count": 44,
   "id": "6d53748e-ca72-4dd2-abb5-f6767af64edd",
   "metadata": {},
   "outputs": [],
   "source": [
    "def evaluate_prediction_error(model, test_data, user_item_matrix):\n",
    "    \"\"\"\n",
    "    Calcule MAE et RMSE pour les paires (user, item) du test.\n",
    "    \n",
    "    Arguments :\n",
    "    - model : modèle entraîné (ex. ALS)\n",
    "    - test_data : liste (user_idx, item_idx)\n",
    "    - user_item_matrix : matrice CSR (user × item), pour recalcul_user\n",
    "    \n",
    "    Retourne :\n",
    "    - dict avec MAE et RMSE\n",
    "    \"\"\"\n",
    "    \n",
    "    from sklearn.metrics import mean_absolute_error, mean_squared_error\n",
    "    import numpy as np\n",
    "\n",
    "    y_true = []\n",
    "    y_pred = []\n",
    "\n",
    "    for user_idx, item_idx in test_data:\n",
    "        if user_idx >= model.user_factors.shape[0]:\n",
    "            continue  # utilisateur absent\n",
    "    \n",
    "        u = model.user_factors[user_idx].to_numpy().ravel()\n",
    "        i = model.item_factors[item_idx].to_numpy().ravel()\n",
    "        score = u @ i\n",
    "    \n",
    "        y_true.append(1.0)  # clic observé\n",
    "        y_pred.append(score)\n",
    "\n",
    "    mae = mean_absolute_error(y_true, y_pred)\n",
    "    mse = mean_squared_error(y_true, y_pred) # 🧨 sklearn 1.6.2 pas de squared=False\n",
    "    rmse = np.sqrt(mse) # sqrt manuel\n",
    "\n",
    "\n",
    "    return {\n",
    "        \"MAE\": mae,\n",
    "        \"RMSE\": rmse,\n",
    "        \"users_evaluated\": len(y_true)\n",
    "    }"
   ]
  },
  {
   "cell_type": "code",
   "execution_count": 45,
   "id": "30a4f463-ddb5-4787-aa3f-7e95ec5cc87e",
   "metadata": {},
   "outputs": [
    {
     "name": "stdout",
     "output_type": "stream",
     "text": [
      "MAE            : 0.2912\n",
      "RMSE           : 0.4015\n",
      "users_evaluated: 221379\n"
     ]
    }
   ],
   "source": [
    "error_metrics = evaluate_prediction_error(model, test_data, user_item_matrix)\n",
    "\n",
    "for k, v in error_metrics.items():\n",
    "    print(f\"{k:<15}: {v:.4f}\" if isinstance(v, float) else f\"{k:<15}: {v}\")\n"
   ]
  },
  {
   "cell_type": "markdown",
   "id": "81d21044-f608-4866-a77f-2e91395c69a4",
   "metadata": {},
   "source": [
    "### 📊 5. Évaluation complète"
   ]
  },
  {
   "cell_type": "code",
   "execution_count": 46,
   "id": "8216057a-e4ea-44a7-94c7-36fb87a927c3",
   "metadata": {},
   "outputs": [],
   "source": [
    "def to_numpy_array(x):\n",
    "    return x.to_numpy().ravel() if hasattr(x, \"to_numpy\") else np.asarray(x).ravel()"
   ]
  },
  {
   "cell_type": "code",
   "execution_count": 47,
   "id": "af7b03e7-77f4-4fef-8d30-aae66d839a3a",
   "metadata": {},
   "outputs": [],
   "source": [
    "from sklearn.metrics import mean_absolute_error, mean_squared_error\n",
    "import numpy as np\n",
    "from tqdm import tqdm\n",
    "\n",
    "def evaluate_model_all_metrics(model_class, params, train_matrix, test_data, N=5):\n",
    "    \"\"\"\n",
    "    Évalue un modèle implicit complet : top-N + erreur de prédiction (RMSE/MAE si applicable).\n",
    "    \"\"\"\n",
    "\n",
    "    print(f\"⚙️ Entraînement de {model_class.__name__} avec N={N}...\")\n",
    "\n",
    "    # Détection des modèles à exclusion de score brut (pas de facteurs utilisateurs/items)\n",
    "    raw_score_supported = hasattr(model_class, \"user_factors\") or model_class.__name__ in [\n",
    "        \"AlternatingLeastSquares\",\n",
    "        \"BayesianPersonalizedRanking\",\n",
    "        \"LogisticMatrixFactorization\"\n",
    "    ]\n",
    "\n",
    "    if model_class.__name__ == \"ItemItemRecommender\":\n",
    "        train_matrix = train_matrix.astype(np.float64)\n",
    "\n",
    "    model = model_class(**params)\n",
    "    model.fit(train_matrix)\n",
    "\n",
    "    user_item_matrix = train_matrix.T.tocsr()\n",
    "    y_true, y_pred = [], []\n",
    "    hits, precisions, maps, ndcgs = [], [], [], []\n",
    "    skipped = 0\n",
    "\n",
    "    for user_idx, true_item in tqdm(test_data, desc=\"📡 Évaluation\"):\n",
    "        try:\n",
    "            user_interactions = user_item_matrix[user_idx]\n",
    "            item_indices, scores = model.recommend(user_idx, user_interactions, N=N, filter_already_liked_items=True)\n",
    "            preds = list(item_indices)\n",
    "\n",
    "            if true_item in preds:\n",
    "                rank = preds.index(true_item)\n",
    "                hits.append(1)\n",
    "                precisions.append(1 / (rank + 1))\n",
    "                maps.append(1 / (rank + 1))\n",
    "                ndcgs.append(1 / np.log2(rank + 2))\n",
    "            else:\n",
    "                hits.append(0)\n",
    "                precisions.append(0)\n",
    "                maps.append(0)\n",
    "                ndcgs.append(0)\n",
    "\n",
    "            if raw_score_supported:\n",
    "                u = to_numpy_array(model.user_factors[user_idx])\n",
    "                i = to_numpy_array(model.item_factors[true_item])\n",
    "                score = u @ i\n",
    "                y_true.append(1.0)\n",
    "                y_pred.append(score)\n",
    "\n",
    "        except Exception:\n",
    "            skipped += 1\n",
    "\n",
    "    metrics = {\n",
    "        \"Model\": model_class.__name__,\n",
    "        f\"Hit@{N}\": np.mean(hits),\n",
    "        f\"Precision@{N}\": np.mean(precisions),\n",
    "        f\"MAP@{N}\": np.mean(maps),\n",
    "        f\"NDCG@{N}\": np.mean(ndcgs),\n",
    "        \"MAE\": np.nan,\n",
    "        \"RMSE\": np.nan,\n",
    "        \"Users évalués\": len(hits),\n",
    "        \"Skippés\": skipped\n",
    "    }\n",
    "\n",
    "    if raw_score_supported and y_true:\n",
    "        metrics[\"MAE\"] = mean_absolute_error(y_true, y_pred)\n",
    "        metrics[\"RMSE\"] = np.sqrt(mean_squared_error(y_true, y_pred))\n",
    "\n",
    "    return metrics\n"
   ]
  },
  {
   "cell_type": "code",
   "execution_count": 48,
   "id": "a3637d66-d36d-430e-b619-682f2e00714e",
   "metadata": {},
   "outputs": [
    {
     "name": "stdout",
     "output_type": "stream",
     "text": [
      "⚙️ Entraînement de AlternatingLeastSquares avec N=5...\n"
     ]
    },
    {
     "name": "stderr",
     "output_type": "stream",
     "text": [
      "100%|██████████| 15/15 [00:00<00:00, 15.02it/s]\n",
      "📡 Évaluation: 100%|██████████| 221379/221379 [02:34<00:00, 1436.05it/s]\n"
     ]
    },
    {
     "name": "stdout",
     "output_type": "stream",
     "text": [
      "Model          : AlternatingLeastSquares\n",
      "Hit@5          : 0.0003\n",
      "Precision@5    : 0.0002\n",
      "MAP@5          : 0.0002\n",
      "NDCG@5         : 0.0002\n",
      "MAE            : 0.5825\n",
      "RMSE           : 0.6517\n",
      "Users évalués  : 221379\n",
      "Skippés        : 0\n"
     ]
    }
   ],
   "source": [
    "from implicit.gpu.als import AlternatingLeastSquares\n",
    "\n",
    "als_params = {\n",
    "    \"factors\": 64,\n",
    "    \"regularization\": 0.1,\n",
    "    \"iterations\": 15\n",
    "}\n",
    "\n",
    "results_als = evaluate_model_all_metrics(\n",
    "    model_class=AlternatingLeastSquares,\n",
    "    params=als_params,\n",
    "    train_matrix=train_matrix,\n",
    "    test_data=test_data,\n",
    "    N=5\n",
    ")\n",
    "\n",
    "for k, v in results_als.items():\n",
    "    print(f\"{k:<15}: {v:.4f}\" if isinstance(v, float) else f\"{k:<15}: {v}\")\n"
   ]
  },
  {
   "cell_type": "markdown",
   "id": "c1bcdf8d-722d-48d0-ac05-cfb07da3d65d",
   "metadata": {},
   "source": [
    "### 🎨 6. Visualisation complète avec plusieurs modèles"
   ]
  },
  {
   "cell_type": "code",
   "execution_count": 29,
   "id": "49874ee3-de36-4713-b305-7a606af03014",
   "metadata": {},
   "outputs": [],
   "source": [
    "def grid_search_models(models_with_grids, train_matrix, test_data, N=5):\n",
    "    \"\"\"\n",
    "    Teste plusieurs modèles implicit avec des grilles d'hyperparamètres.\n",
    "    \n",
    "    Arguments :\n",
    "    - models_with_grids : dict {model_class: list[params_dict]}\n",
    "    - train_matrix : matrice CSR (item × user)\n",
    "    - test_data : liste (user_idx, item_idx)\n",
    "    - N : taille du top-N à évaluer\n",
    "\n",
    "    Retourne :\n",
    "    - DataFrame des résultats pour chaque combinaison (modèle + params)\n",
    "    \"\"\"\n",
    "    results = []\n",
    "\n",
    "    for model_class, grid in models_with_grids.items():\n",
    "        for param_set in grid:\n",
    "            print(f\"\\n🔍 Test de {model_class.__name__} avec paramètres : {param_set}\")\n",
    "            metrics = evaluate_model_all_metrics(model_class, param_set, train_matrix, test_data, N=N)\n",
    "            metrics.update({f\"param_{k}\": v for k, v in param_set.items()})\n",
    "            results.append(metrics)\n",
    "\n",
    "    return pd.DataFrame(results)\n"
   ]
  },
  {
   "cell_type": "code",
   "execution_count": null,
   "id": "07f0bf76-e477-424a-ab66-7c187bd1fcfe",
   "metadata": {},
   "outputs": [
    {
     "name": "stderr",
     "output_type": "stream",
     "text": [
      "/usr/local/lib/python3.10/dist-packages/implicit/utils.py:164: ParameterWarning: Method expects CSR input, and was passed csc_matrix instead. Converting to CSR took 0.018753767013549805 seconds\n",
      "  warnings.warn(\n"
     ]
    },
    {
     "name": "stdout",
     "output_type": "stream",
     "text": [
      "\n",
      "🔍 Test de AlternatingLeastSquares avec paramètres : {'factors': 32, 'regularization': 0.1, 'iterations': 10}\n",
      "⚙️ Entraînement de AlternatingLeastSquares avec N=5...\n"
     ]
    },
    {
     "name": "stderr",
     "output_type": "stream",
     "text": [
      "100%|██████████| 10/10 [00:00<00:00, 24.18it/s]\n",
      "📡 Évaluation: 100%|██████████| 322897/322897 [00:34<00:00, 9239.06it/s] \n",
      "/usr/local/lib/python3.10/dist-packages/implicit/utils.py:164: ParameterWarning: Method expects CSR input, and was passed csc_matrix instead. Converting to CSR took 0.014608621597290039 seconds\n",
      "  warnings.warn(\n"
     ]
    },
    {
     "name": "stdout",
     "output_type": "stream",
     "text": [
      "\n",
      "🔍 Test de AlternatingLeastSquares avec paramètres : {'factors': 64, 'regularization': 0.05, 'iterations': 15}\n",
      "⚙️ Entraînement de AlternatingLeastSquares avec N=5...\n"
     ]
    },
    {
     "name": "stderr",
     "output_type": "stream",
     "text": [
      "100%|██████████| 15/15 [00:01<00:00, 13.79it/s]\n",
      "📡 Évaluation: 100%|██████████| 322897/322897 [00:43<00:00, 7370.74it/s] \n",
      "/usr/local/lib/python3.10/dist-packages/implicit/utils.py:164: ParameterWarning: Method expects CSR input, and was passed csc_matrix instead. Converting to CSR took 0.014612674713134766 seconds\n",
      "  warnings.warn(\n"
     ]
    },
    {
     "name": "stdout",
     "output_type": "stream",
     "text": [
      "\n",
      "🔍 Test de BayesianPersonalizedRanking avec paramètres : {'factors': 64, 'regularization': 0.01, 'iterations': 15}\n",
      "⚙️ Entraînement de BayesianPersonalizedRanking avec N=5...\n"
     ]
    },
    {
     "name": "stderr",
     "output_type": "stream",
     "text": [
      "100%|██████████| 15/15 [00:00<00:00, 36.94it/s, train_auc=69.22%, skipped=5.12%]\n",
      "📡 Évaluation: 100%|██████████| 322897/322897 [00:48<00:00, 6692.22it/s] \n",
      "/usr/local/lib/python3.10/dist-packages/implicit/utils.py:164: ParameterWarning: Method expects CSR input, and was passed csc_matrix instead. Converting to CSR took 0.01507258415222168 seconds\n",
      "  warnings.warn(\n"
     ]
    },
    {
     "name": "stdout",
     "output_type": "stream",
     "text": [
      "\n",
      "🔍 Test de BayesianPersonalizedRanking avec paramètres : {'factors': 128, 'regularization': 0.05, 'iterations': 20}\n",
      "⚙️ Entraînement de BayesianPersonalizedRanking avec N=5...\n"
     ]
    },
    {
     "name": "stderr",
     "output_type": "stream",
     "text": [
      "100%|██████████| 20/20 [00:00<00:00, 21.02it/s, train_auc=64.41%, skipped=5.09%]\n",
      "📡 Évaluation: 100%|██████████| 322897/322897 [01:02<00:00, 5178.55it/s] \n",
      "/usr/local/lib/python3.10/dist-packages/implicit/utils.py:164: ParameterWarning: Method expects CSR input, and was passed csc_matrix instead. Converting to CSR took 0.01623058319091797 seconds\n",
      "  warnings.warn(\n"
     ]
    },
    {
     "name": "stdout",
     "output_type": "stream",
     "text": [
      "\n",
      "🔍 Test de LogisticMatrixFactorization avec paramètres : {'factors': 64, 'regularization': 0.1, 'iterations': 15}\n",
      "⚙️ Entraînement de LogisticMatrixFactorization avec N=5...\n"
     ]
    },
    {
     "name": "stderr",
     "output_type": "stream",
     "text": [
      "100%|██████████| 15/15 [00:10<00:00,  1.41it/s]\n",
      "📡 Évaluation: 100%|██████████| 322897/322897 [02:39<00:00, 2028.47it/s] \n",
      "/usr/local/lib/python3.10/dist-packages/implicit/utils.py:164: ParameterWarning: Method expects CSR input, and was passed csc_matrix instead. Converting to CSR took 0.017626285552978516 seconds\n",
      "  warnings.warn(\n"
     ]
    },
    {
     "name": "stdout",
     "output_type": "stream",
     "text": [
      "\n",
      "🔍 Test de LogisticMatrixFactorization avec paramètres : {'factors': 128, 'regularization': 0.05, 'iterations': 20}\n",
      "⚙️ Entraînement de LogisticMatrixFactorization avec N=5...\n"
     ]
    },
    {
     "name": "stderr",
     "output_type": "stream",
     "text": [
      "100%|██████████| 20/20 [00:28<00:00,  1.43s/it]\n",
      "📡 Évaluation: 100%|██████████| 322897/322897 [04:26<00:00, 1212.89it/s] \n",
      "/usr/local/lib/python3.10/dist-packages/implicit/utils.py:164: ParameterWarning: Method expects CSR input, and was passed csc_matrix instead. Converting to CSR took 0.01917243003845215 seconds\n",
      "  warnings.warn(\n"
     ]
    },
    {
     "name": "stdout",
     "output_type": "stream",
     "text": [
      "\n",
      "🔍 Test de ItemItemRecommender avec paramètres : {'K': 100}\n",
      "⚙️ Entraînement de ItemItemRecommender avec N=5...\n"
     ]
    },
    {
     "name": "stderr",
     "output_type": "stream",
     "text": [
      "100%|██████████| 322897/322897 [01:09<00:00, 4656.79it/s] \n",
      "📡 Évaluation:  46%|████▌     | 149325/322897 [00:07<00:08, 21326.05it/s]"
     ]
    }
   ],
   "source": [
    "from implicit.gpu.als import AlternatingLeastSquares\n",
    "from implicit.gpu.bpr import BayesianPersonalizedRanking\n",
    "from implicit.cpu.lmf import LogisticMatrixFactorization\n",
    "from implicit.nearest_neighbours import ItemItemRecommender\n",
    "\n",
    "model_grids = {\n",
    "    AlternatingLeastSquares: [\n",
    "        {\"factors\": 32, \"regularization\": 0.1, \"iterations\": 10},\n",
    "        {\"factors\": 64, \"regularization\": 0.05, \"iterations\": 15}\n",
    "    ],\n",
    "    BayesianPersonalizedRanking: [\n",
    "        {\"factors\": 64, \"regularization\": 0.01, \"iterations\": 15},\n",
    "        {\"factors\": 128, \"regularization\": 0.05, \"iterations\": 20}\n",
    "    ],\n",
    "    LogisticMatrixFactorization: [\n",
    "        {\"factors\": 64, \"regularization\": 0.1, \"iterations\": 15},\n",
    "        {\"factors\": 128, \"regularization\": 0.05, \"iterations\": 20}\n",
    "    ],\n",
    "    ItemItemRecommender: [\n",
    "        {\"K\": 100},\n",
    "        {\"K\": 200}\n",
    "    ]\n",
    "}\n",
    "\n",
    "df_grid_results = grid_search_models(model_grids, train_matrix, test_data, N=5)\n"
   ]
  },
  {
   "cell_type": "code",
   "execution_count": null,
   "id": "b3013090-dc5c-4b27-a095-3003537f12e6",
   "metadata": {},
   "outputs": [],
   "source": [
    "df_grid_results"
   ]
  },
  {
   "cell_type": "markdown",
   "id": "3b3d2d8c-e070-4d5d-8b2f-42dcbba7a81a",
   "metadata": {},
   "source": [
    "🧠 BayesianPersonalizedRanking testé (non listé) ne fonctionne pas<br>\n",
    "BPR est conçu pour optimiser le rang relatif entre les items vu vs non vu.<br>\n",
    "Or dans le dataset :<br>\n",
    "    peu de clics par utilisateur (interactions faibles)<br>\n",
    "    énorme espace d’items négatifs (88% jamais cliqués)<br>\n",
    "    Pas de mécanisme de sampling fin comme dans LightFM<br>\n",
    "➡️ Il manque de signal clair pour apprendre quoi recommander.<br>\n",
    "🧠 ItemItemRecommender est aussi un peu délicat à mettre en oeuvre:<br>\n",
    "- Demande des float64\n",
    "- Ne calcule pas les facteurs latents donc rmse et mae n'ont pas de sens"
   ]
  },
  {
   "cell_type": "code",
   "execution_count": null,
   "id": "e01dcfea-c3ed-464c-9876-05f9fb0b5a2e",
   "metadata": {},
   "outputs": [],
   "source": []
  },
  {
   "cell_type": "code",
   "execution_count": null,
   "id": "18c378bf-0dfa-4d40-931e-ba649426e9bb",
   "metadata": {},
   "outputs": [],
   "source": []
  },
  {
   "cell_type": "code",
   "execution_count": null,
   "id": "1e612eb4-0561-4ccd-bb76-843e5e8a649b",
   "metadata": {},
   "outputs": [],
   "source": [
    "import matplotlib.pyplot as plt\n",
    "import pandas as pd\n",
    "\n",
    "# Convertir en DataFrame indexé par le nom du modèle + params simples\n",
    "df_results = df_grid_results.copy()\n",
    "\n",
    "# Préparer une colonne \"paramètre principal\" (factors ou K)\n",
    "df_results[\"main_param\"] = (\n",
    "    df_results[\"param_factors\"]\n",
    "    .fillna(df_results[\"param_K\"])\n",
    "    .fillna(\"NA\")\n",
    "    .astype(\"Int64\")\n",
    "    .astype(str)\n",
    ")\n",
    "\n",
    "# Construire le nom de l’approche (ex : ALS (64), IIR (100))\n",
    "df_results[\"Approche\"] = df_results[\"Model\"] + \" (\" + df_results[\"main_param\"] + \")\"\n",
    "df_results.set_index(\"Approche\", inplace=True)\n",
    "\n",
    "\n",
    "# Liste des métriques\n",
    "topn_metrics = [\"Hit@5\", \"MAP@5\", \"NDCG@5\", \"Precision@5\"]\n",
    "error_metrics = [\"RMSE\", \"MAE\"]\n",
    "\n",
    "# Création du graphique\n",
    "fig, ax1 = plt.subplots(figsize=(14, 6))\n",
    "\n",
    "# Barres des top-N metrics\n",
    "df_results[topn_metrics].plot(kind='bar', ax=ax1, position=0, width=0.35, colormap='tab10')\n",
    "ax1.set_ylabel(\"Top-N Metrics\")\n",
    "#ax1.set_ylim(0, 1.05)\n",
    "# Échelle dynamique adaptée aux valeurs faibles\n",
    "topn_max = df_results[topn_metrics].max().max()\n",
    "ax1.set_ylim(0, max(0.0005, topn_max * 1.1))\n",
    "ax1.set_xlabel(\"Modèle\")\n",
    "ax1.set_xticklabels(df_results.index, rotation=15, ha='right')\n",
    "ax1.legend(loc='upper left')\n",
    "\n",
    "# Barres des error metrics à droite\n",
    "ax2 = ax1.twinx()\n",
    "df_results[error_metrics].plot(kind='bar', ax=ax2, position=1, width=0.35, color=[\"gray\", \"black\"])\n",
    "ax2.set_ylabel(\"Erreur (RMSE / MAE)\")\n",
    "ax2.legend(loc='upper right')\n",
    "\n",
    "# Ajustement de l'axe X\n",
    "ax1.set_xlim(-0.5, len(df_results) - 0.25)\n",
    "\n",
    "plt.title(\"Comparaison des approches avec implicit (Top-N vs Erreurs, k=5)\")\n",
    "plt.grid(True)\n",
    "plt.tight_layout()\n",
    "plt.show()\n"
   ]
  },
  {
   "cell_type": "code",
   "execution_count": null,
   "id": "7af69111-75ed-4487-859e-8adbcb30c7c3",
   "metadata": {},
   "outputs": [],
   "source": []
  }
 ],
 "metadata": {
  "kernelspec": {
   "display_name": "Python 3 (ipykernel)",
   "language": "python",
   "name": "python3"
  },
  "language_info": {
   "codemirror_mode": {
    "name": "ipython",
    "version": 3
   },
   "file_extension": ".py",
   "mimetype": "text/x-python",
   "name": "python",
   "nbconvert_exporter": "python",
   "pygments_lexer": "ipython3",
   "version": "3.10.12"
  }
 },
 "nbformat": 4,
 "nbformat_minor": 5
}
